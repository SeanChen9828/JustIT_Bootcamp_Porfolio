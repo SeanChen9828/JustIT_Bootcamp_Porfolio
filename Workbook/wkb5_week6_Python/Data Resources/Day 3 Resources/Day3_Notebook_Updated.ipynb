{
  "cells": [
    {
      "cell_type": "markdown",
      "id": "69c11acc",
      "metadata": {
        "id": "69c11acc"
      },
      "source": [
        "\n",
        "<style>\n",
        "/* Increase size for section headers */\n",
        "h2 { font-size: 2.5em !important; }\n",
        "h3 { font-size: 2.25em !important; }\n",
        "h4 { font-size: 1.75em !important; }\n",
        "</style>"
      ]
    },
    {
      "cell_type": "markdown",
      "id": "c648f453",
      "metadata": {
        "id": "c648f453"
      },
      "source": [
        "# **Day 3: Introduction to Data Analysis with Pandas 🐼**\n",
        "\n",
        "Welcome to Day 3! Today, we'll dive into **Pandas**, a powerful Python library essential for data analysis. By the end of this session, you'll be comfortable with the basics of manipulating and analyzing data."
      ]
    },
    {
      "cell_type": "markdown",
      "id": "9564d3a6",
      "metadata": {
        "id": "9564d3a6"
      },
      "source": [
        "# **🎯 Goals for Today:**\n",
        "\n",
        "1.  Understand what Python **libraries** are and why they are useful.\n",
        "2.  Learn about **Pandas** and its primary data structures: **Series** and **DataFrame**.\n",
        "3.  Load data from a CSV file into a DataFrame.\n",
        "4.  Inspect and explore data to understand its structure and contents.\n",
        "5.  Perform data cleaning tasks like handling missing values and duplicates.\n",
        "6.  Transform data by creating new columns and changing data types.\n",
        "7.  Calculate basic statistics and perform simple aggregations.\n",
        "8.  Create basic visualizations (histograms, bar plots, scatter plots) to understand data patterns.\n",
        "9.  Practice with hands-on exercises and group activities."
      ]
    },
    {
      "cell_type": "markdown",
      "id": "c12b37d8",
      "metadata": {
        "id": "c12b37d8"
      },
      "source": [
        "# **🛠️ Setup: Import Libraries**\n",
        "\n",
        "First, we need to import the libraries we'll be using. **Pandas** is for data manipulation, and **Matplotlib** is for plotting. We use aliases (`pd`, `plt`) by convention to make them easier to use."
      ]
    },
    {
      "cell_type": "code",
      "execution_count": 1,
      "id": "744d2605",
      "metadata": {
        "colab": {
          "base_uri": "https://localhost:8080/"
        },
        "id": "744d2605",
        "outputId": "b964394d-d96c-49c7-ee01-f2430c983c08"
      },
      "outputs": [
        {
          "output_type": "stream",
          "name": "stdout",
          "text": [
            "Libraries imported successfully!\n"
          ]
        }
      ],
      "source": [
        "# Import pandas and matplotlib\n",
        "import pandas as pd\n",
        "import matplotlib.pyplot as plt\n",
        "\n",
        "print(\"Libraries imported successfully!\")"
      ]
    },
    {
      "cell_type": "markdown",
      "id": "5358cfd8",
      "metadata": {
        "id": "5358cfd8"
      },
      "source": [
        "---\n",
        "# **1. What are Python Libraries? 🤔**\n",
        "\n",
        "Python libraries are collections of pre-written code (modules, functions, classes) that provide functionalities to perform specific tasks without you having to write the code from scratch. They extend Python's capabilities.\n",
        "\n",
        "**Common Libraries in Data Analysis:**\n",
        "* **Pandas:** For data manipulation and analysis (what we're learning today!).\n",
        "* **NumPy:** For numerical operations, especially with arrays.\n",
        "* **Matplotlib:** For creating static, animated, and interactive visualizations.\n",
        "* **Seaborn:** Built on Matplotlib, provides a high-level interface for drawing attractive statistical graphics.\n",
        "* **SciPy:** For scientific and technical computing.\n",
        "* **Scikit-learn:** For machine learning tasks."
      ]
    },
    {
      "cell_type": "markdown",
      "id": "01949d33",
      "metadata": {
        "id": "01949d33"
      },
      "source": [
        "---\n",
        "# **2. Introduction to Pandas 🐼**\n",
        "\n",
        "**Pandas** is a fast, powerful, flexible, and easy-to-use open-source data analysis and manipulation tool, built on top of the Python programming language. It's the go-to library for handling structured data.\n",
        "\n",
        "**Why use Pandas?**\n",
        "* Easily loads data from various sources (CSV, Excel, databases, etc.).\n",
        "* Provides rich data structures for holding and manipulating data.\n",
        "* Offers a wide range of functions for cleaning, transforming, merging, and reshaping data.\n",
        "* Integrates well with other data science libraries like NumPy and Matplotlib.\n",
        "\n",
        "**Core Pandas Data Structures:**\n",
        "\n",
        "# **2.1. Pandas Series**\n",
        "A **Series** is a one-dimensional labeled array capable of holding data of any type (integers, strings, floating-point numbers, Python objects, etc.). It's like a single column in a spreadsheet or a SQL table. Each element in a Series has an associated label, called an **index**."
      ]
    },
    {
      "cell_type": "code",
      "execution_count": 6,
      "id": "99f7f2f6",
      "metadata": {
        "colab": {
          "base_uri": "https://localhost:8080/"
        },
        "id": "99f7f2f6",
        "outputId": "c725f613-2cbd-465d-9659-f48f72dc7f75"
      },
      "outputs": [
        {
          "output_type": "stream",
          "name": "stdout",
          "text": [
            "My List:\n",
            "[90, 85, 77, 92, 88]\n",
            "Student Scores Series with default index:\n",
            "0    90\n",
            "1    85\n",
            "2    77\n",
            "3    92\n",
            "4    88\n",
            "dtype: int64\n",
            "\n",
            "Fruit Quantities Series with custom index:\n",
            "apples      10\n",
            "bananas     15\n",
            "cherries     8\n",
            "dates       12\n",
            "dtype: int64\n",
            "\n",
            "Quantity of bananas: 15\n"
          ]
        }
      ],
      "source": [
        "# Example 2.1.1: Create a Series from a list\n",
        "my_list = [90, 85, 77, 92, 88]\n",
        "student_scores = pd.Series(my_list)\n",
        "print(\"My List:\")\n",
        "print(my_list)\n",
        "print(\"Student Scores Series with default index:\")\n",
        "print(student_scores)\n",
        "\n",
        "# Example 2.1.2: Create a Series with a custom index\n",
        "fruit_quantities = pd.Series([10, 15, 8, 12], index=['apples', 'bananas', 'cherries', 'dates'])\n",
        "print(\"\\nFruit Quantities Series with custom index:\")\n",
        "print(fruit_quantities)\n",
        "\n",
        "# Accessing an element using index\n",
        "print(\"\\nQuantity of bananas:\", fruit_quantities['bananas'])"
      ]
    },
    {
      "cell_type": "markdown",
      "id": "40269ca8",
      "metadata": {
        "id": "40269ca8"
      },
      "source": [
        "**Exercise 2.1.1:** Create a Pandas Series named `book_prices` with the following prices: `[15.99, 22.50, 12.75, 9.99]`. Print the Series."
      ]
    },
    {
      "cell_type": "code",
      "execution_count": null,
      "id": "da918890",
      "metadata": {
        "id": "da918890"
      },
      "outputs": [],
      "source": [
        "# Exercise 2.1.1 Code Cell\n",
        "book_prices = pd.Series([15.99, 22.50, 12.75, 9.99])\n",
        "print(book_prices)"
      ]
    },
    {
      "cell_type": "markdown",
      "id": "9f0837f6",
      "metadata": {
        "id": "9f0837f6"
      },
      "source": [
        "**Exercise 2.1.2:** Create a Pandas Series named `subject_teachers` with subjects as indices `['Math', 'Science', 'History', 'English']` and teacher names as values `['Mr. Smith', 'Ms. Jones', 'Dr. Brown', 'Ms. Davis']`. Print the Series and then print the teacher for 'History'."
      ]
    },
    {
      "cell_type": "code",
      "execution_count": null,
      "id": "dc498a72",
      "metadata": {
        "id": "dc498a72"
      },
      "outputs": [],
      "source": [
        "# Exercise 2.1.2 Code Cell\n",
        "subject_teachers = pd.Series(['Mr. Smith', 'Ms. Jones', 'Dr. Brown', 'Ms. Davis'], index=['Math', 'Science', 'History', 'English'])\n",
        "print(subject_teachers)\n",
        "print(\"\\nTeacher for History:\", subject_teachers['History'])"
      ]
    },
    {
      "cell_type": "markdown",
      "id": "5b303705",
      "metadata": {
        "id": "5b303705"
      },
      "source": [
        "# **✨ Group Activity 1: Series Operations ✨**\n",
        "\n",
        "**Scenario:** You have a Series of product prices and want to apply a 10% discount.\n",
        "1. Create a Pandas Series named `original_prices` with values `[20, 50, 30, 75, 90]`.\n",
        "2. Try to calculate the discounted prices (original price - 10% of original price).\n",
        "3. **Buggy Code attempt:** `discounted_prices = original_prices - \"10%\"`\n",
        "4. Discuss: Why does this fail? How can you correctly calculate the discount (e.g., `original_prices * 0.90`)?\n",
        "5. Write the corrected code to calculate and print the `discounted_prices`."
      ]
    },
    {
      "cell_type": "code",
      "execution_count": null,
      "id": "a8942d89",
      "metadata": {
        "id": "a8942d89"
      },
      "outputs": [],
      "source": [
        "# Group Activity 1 Code Cell\n",
        "original_prices = pd.Series([20, 50, 30, 75, 90])\n",
        "# discounted_prices = original_prices - \"10%\" # This is buggy!\n",
        "# print(discounted_prices)\n",
        "\n",
        "# Write your corrected code here:\n",
        "discount_percentage = 0.10\n",
        "discounted_prices = original_prices * (1 - discount_percentage)\n",
        "print(\"Original Prices:\")\n",
        "print(original_prices)\n",
        "print(\"\\nDiscounted Prices (10% off):\")\n",
        "print(discounted_prices)"
      ]
    },
    {
      "cell_type": "markdown",
      "id": "5c52a88c",
      "metadata": {
        "id": "5c52a88c"
      },
      "source": [
        "# **2.2. Pandas DataFrame**\n",
        "A **DataFrame** is a two-dimensional, size-mutable, and potentially heterogeneous tabular data structure with labeled axes (rows and columns). You can think of it as a spreadsheet, a SQL table, or a dictionary of Series objects. It's the most commonly used Pandas object."
      ]
    },
    {
      "cell_type": "code",
      "execution_count": 7,
      "id": "e8ea6909",
      "metadata": {
        "colab": {
          "base_uri": "https://localhost:8080/"
        },
        "id": "e8ea6909",
        "outputId": "2699713f-d57e-4919-dc71-8f5c7dc56acf"
      },
      "outputs": [
        {
          "output_type": "stream",
          "name": "stdout",
          "text": [
            "{'Name': ['Alice', 'Bob', 'Charlie', 'David'], 'Age': [25, 30, 22, 28], 'City': ['New York', 'Paris', 'London', 'Berlin']}\n",
            "People DataFrame:\n",
            "      Name  Age      City\n",
            "0    Alice   25  New York\n",
            "1      Bob   30     Paris\n",
            "2  Charlie   22    London\n",
            "3    David   28    Berlin\n"
          ]
        }
      ],
      "source": [
        "from datetime import date\n",
        "# Example 2.2.1: Create a DataFrame from a dictionary of lists\n",
        "data = {\n",
        "    'Name': ['Alice', 'Bob', 'Charlie', 'David'],\n",
        "    'Age': [25, 30, 22, 28],\n",
        "    'City': ['New York', 'Paris', 'London', 'Berlin']\n",
        "}\n",
        "df_people = pd.DataFrame(data)\n",
        "print(data)\n",
        "print(\"People DataFrame:\")\n",
        "print(df_people)"
      ]
    },
    {
      "cell_type": "markdown",
      "id": "5ccd3c29",
      "metadata": {
        "id": "5ccd3c29"
      },
      "source": [
        "**Exercise 2.2.1:** Create a DataFrame named `df_products` with three columns: `Product_Name` (strings), `Price` (floats), and `In_Stock` (booleans). Include at least 3 rows of data. Print the DataFrame."
      ]
    },
    {
      "cell_type": "code",
      "execution_count": null,
      "id": "c60d5531",
      "metadata": {
        "id": "c60d5531"
      },
      "outputs": [],
      "source": [
        "# Exercise 2.2.1 Code Cell\n",
        "product_data = {\n",
        "    'Product_Name': ['Laptop', 'Mouse', 'Keyboard'],\n",
        "    'Price': [1200.00, 25.50, 75.99],\n",
        "    'In_Stock': [True, False, True]\n",
        "}\n",
        "df_products = pd.DataFrame(product_data)\n",
        "print(df_products)"
      ]
    },
    {
      "cell_type": "markdown",
      "id": "d0511d88",
      "metadata": {
        "id": "d0511d88"
      },
      "source": [
        "**Exercise 2.2.2:** Create a DataFrame named `df_temps` with rows indexed by `['Mon', 'Tue', 'Wed']` and columns for `['Morning_Temp', 'Evening_Temp']`. Populate it with some temperature data. Print the DataFrame."
      ]
    },
    {
      "cell_type": "code",
      "execution_count": null,
      "id": "682f0aaf",
      "metadata": {
        "id": "682f0aaf"
      },
      "outputs": [],
      "source": [
        "# Exercise 2.2.2 Code Cell\n",
        "temp_data = {\n",
        "    'Morning_Temp': [15, 17, 16],\n",
        "    'Evening_Temp': [10, 12, 11]\n",
        "}\n",
        "days_index = ['Mon', 'Tue', 'Wed']\n",
        "df_temps = pd.DataFrame(temp_data, index=days_index)\n",
        "print(df_temps)"
      ]
    },
    {
      "cell_type": "markdown",
      "id": "85e8961f",
      "metadata": {
        "id": "85e8961f"
      },
      "source": [
        "# **✨ Group Activity 2: DataFrame Column Name Error ✨**\n",
        "\n",
        "**Scenario:** You're creating a DataFrame but make a typo in one of the dictionary keys intended to be a column name.\n",
        "1. **Buggy Code attempt:**\n",
        "   ```python\n",
        "   student_data = {\n",
        "       'StudentID': [101, 102, 103],\n",
        "       'Score': [85, 90, 78],\n",
        "       'Nmae': ['Eve', 'Finn', 'Grace'] # Typo: Nmae instead of Name\n",
        "   }\n",
        "   df_students_buggy = pd.DataFrame(student_data)\n",
        "   print(df_students_buggy)\n",
        "# **Now try to access the 'Name' column**\n",
        "# **print(df_students_buggy['Name'])**\n",
        "   ```\n",
        "2. Discuss: What happens when you create the DataFrame? What happens if you try to access `df_students_buggy['Name']`? Why?\n",
        "3. How would you correct the `student_data` dictionary to fix this? Write the corrected code to create the DataFrame and successfully print the 'Name' column."
      ]
    },
    {
      "cell_type": "code",
      "execution_count": null,
      "id": "7027c8ab",
      "metadata": {
        "id": "7027c8ab"
      },
      "outputs": [],
      "source": [
        "# Group Activity 2 Code Cell\n",
        "student_data_buggy = {\n",
        "    'StudentID': [101, 102, 103],\n",
        "    'Score': [85, 90, 78],\n",
        "    'Nmae': ['Eve', 'Finn', 'Grace'] # Typo\n",
        "}\n",
        "df_students_buggy = pd.DataFrame(student_data_buggy)\n",
        "print(\"Buggy DataFrame:\")\n",
        "print(df_students_buggy)\n",
        "\n",
        "# Try to access 'Name' column (will cause a KeyError)\n",
        "print(\"\\nAccessing 'Name' column from buggy DataFrame (will error):\")\n",
        "try:\n",
        "    print(df_students_buggy['Name'])\n",
        "    print(f\"Error: {e}\")\n",
        "\n",
        "# Write your corrected code here:\n",
        "student_data_corrected = {\n",
        "    'StudentID': [101, 102, 103],\n",
        "    'Score': [85, 90, 78],\n",
        "    'Name': ['Eve', 'Finn', 'Grace'] # Corrected typo\n",
        "}\n",
        "df_students_corrected = pd.DataFrame(student_data_corrected)\n",
        "print(\"\\nCorrected DataFrame:\")\n",
        "print(df_students_corrected)\n",
        "print(\"\\nAccessing 'Name' column from corrected DataFrame:\")\n",
        "print(df_students_corrected['Name'])"
      ]
    },
    {
      "cell_type": "markdown",
      "id": "58184fb0",
      "metadata": {
        "id": "58184fb0"
      },
      "source": [
        "---\n",
        "# **3. Loading Data from CSV Files 📄**\n",
        "\n",
        "CSV (Comma Separated Values) files are a common way to store tabular data. Pandas makes it very easy to read data from CSV files into a DataFrame.\n",
        "\n",
        "**Key function:** `pd.read_csv('your_file_name.csv')`\n",
        "\n",
        "**For this notebook, we will assume you have a `student.csv` file in the same directory as this notebook with the following approximate structure:**\n",
        "```csv\n",
        "id,name,class,mark,gender\n",
        "1,John Deo,Four,75,female\n",
        "2,Max Ruin,Three,85,male\n",
        "3,Arnold,Three,55,male\n",
        "4,Krish Star,Four,60,female\n",
        "5,John Mike,Four,60,female\n",
        "6,Alex John,Four,55,male\n",
        "7,My John Rob,Fifth,78,male\n",
        "8,Asruid,Five,85,male\n",
        "9,Tes Qry,Six,78,\n",
        "10,Big John,Four,55,female\n",
        "11,Ronald,Six,89,female\n",
        "12,Recky,Six,94,female\n",
        "13,Kty,Seven,88,female\n",
        "14,Bigy,Seven,88,female\n",
        "15,Tade Row,Eight,88,male\n",
        "16,Gimmy,Four,88,male\n",
        "17, HONNY,Five,75,male\n",
        "18,KINN ENG,Six,98,female\n",
        "19,Linnea,Seven,69,female\n",
        "20,Jackly,Nine,65,female\n",
        "21,Babby John,Four,69,female\n",
        "22,Reggid,Seven,72,male\n",
        "23,Herod,Eight,79,male\n",
        "24,Tiddy Now,Seven,78,male\n",
        "25,Mikky,Seven,72,male\n",
        "26,Crelea,Seven,79,male\n",
        "27,Big Nose,Three,82,female\n",
        "28, Anto,Six,67,male\n",
        "29,Tes Qry,Six,78,\n",
        "30,Reppy Red,Six,79,female\n",
        "31,Malik,Five,82,male\n",
        "32,イドリ,Four,75,male\n",
        "33,Monika,Nine,58,female\n",
        "34,Gain Toe,Seven,69,male\n",
        "35,BSR,Eight,92,male\n",
        "```\n",
        "*(You can create this file yourself, or I will provide code to create a sample DataFrame if the file is not found.)*"
      ]
    },
    {
      "cell_type": "code",
      "execution_count": 14,
      "id": "b6a835a6",
      "metadata": {
        "colab": {
          "base_uri": "https://localhost:8080/"
        },
        "id": "b6a835a6",
        "outputId": "ec69a5e6-b2ed-48bf-f65c-d848f8c81f20"
      },
      "outputs": [
        {
          "output_type": "stream",
          "name": "stdout",
          "text": [
            "student.csv loaded successfully!\n",
            "The First 5 Rows\n",
            "   id         name  class  mark  gender\n",
            "0   1     John Deo   Four    75  female\n",
            "1   2     Max Ruin  Three    85    male\n",
            "2   3       Arnold  Three    55    male\n",
            "3   4   Krish Star   Four    60  female\n",
            "4   5    John Mike   Four    60  female\n",
            "5   6    Alex John   Four    55    male\n",
            "6   7  My John Rob  Fifth    78    male\n",
            "7   8       Asruid   Five    85    male\n",
            "8   9      Tes Qry    Six    78     NaN\n",
            "9  10     Big John   Four    55  female\n",
            "The Last 5 Rows\n",
            "    id         name  class  mark  gender\n",
            "30  31  Marry Toeey   Four    88    male\n",
            "31  32    Binn Rott  Seven    90  female\n",
            "32  33    Kenn Rein    Six    96  female\n",
            "33  34     Gain Toe  Seven    69    male\n",
            "34  35   Rows Noump    Six    88  female\n"
          ]
        }
      ],
      "source": [
        "# Example 3.1: Load the student.csv file\n",
        "# Make sure 'student.csv' is in the same directory as this notebook, or provide the full path.\n",
        "df_students = pd.read_csv('student.csv')\n",
        "print(\"student.csv loaded successfully!\")\n",
        "# Display the first 5 rows to verify\n",
        "print(\"The First 5 Rows\")\n",
        "print(df_students.head(10))\n",
        "# Display the last 5 rows to verify\n",
        "print(\"The Last 5 Rows\")\n",
        "print(df_students.tail())"
      ]
    },
    {
      "cell_type": "markdown",
      "id": "41dbeb84",
      "metadata": {
        "id": "41dbeb84"
      },
      "source": [
        "**Exercise 3.1:** Imagine you have another CSV file named `courses.csv` with columns `Course_ID`, `Course_Name`, `Credits`. Write the Python code to load this hypothetical file into a DataFrame called `df_courses`. (You don't need to create the file, just write the loading command and handle a potential `FileNotFoundError` gracefully by printing a message)."
      ]
    },
    {
      "cell_type": "code",
      "execution_count": null,
      "id": "ddaa4d20",
      "metadata": {
        "id": "ddaa4d20"
      },
      "outputs": [],
      "source": [
        "# Exercise 3.1 Code Cell\n",
        "# df_courses = pd.read_csv('courses.csv') # This line is for the exercise\n",
        "# print(\"courses.csv loaded successfully!\")\n",
        "# print(df_courses.head())\n",
        "print(\"Hypothetical load attempted. If 'courses.csv' existed, it would be loaded.\")\n",
        "print(\"Error: 'courses.csv' not found. This is expected for this exercise.\")"
      ]
    },
    {
      "cell_type": "markdown",
      "id": "dd41a4fe",
      "metadata": {
        "id": "dd41a4fe"
      },
      "source": [
        "**Exercise 3.2:** Load the `student.csv` file (or use the sample `df_students` if the file isn't present). Then, print the total number of rows and columns in the DataFrame. (Hint: Use an attribute of the DataFrame)."
      ]
    },
    {
      "cell_type": "code",
      "execution_count": null,
      "id": "7435fd70",
      "metadata": {
        "id": "7435fd70"
      },
      "outputs": [],
      "source": [
        "# Exercise 3.2 Code Cell\n",
        "# Assuming df_students is loaded from the previous example cell\n",
        "if 'df_students' in globals():\n",
        "    print(f\"Number of rows: {df_students.shape[0]}\")\n",
        "    print(f\"Number of columns: {df_students.shape[1]}\")\n",
        "    # Or print(df_students.shape) for (rows, columns)\n",
        "else:\n",
        "    print(\"df_students DataFrame not found. Please run the loading cell first.\")"
      ]
    },
    {
      "cell_type": "markdown",
      "id": "876ed256",
      "metadata": {
        "id": "876ed256"
      },
      "source": [
        "*(Note: For Google Colab users, you can upload files using the GUI or mount Google Drive as shown in the PPT. For simplicity in this general notebook, we assume local file access or create a sample.)*"
      ]
    },
    {
      "cell_type": "markdown",
      "id": "119b034b",
      "metadata": {
        "id": "119b034b"
      },
      "source": [
        "---\n",
        "# **4. Inspecting Your Data (Initial Exploration) 🕵️‍♀️**\n",
        "\n",
        "Once your data is loaded, the first step is to inspect it to understand its structure, content, and quality. Pandas provides several useful functions for this:\n",
        "\n",
        "* `df.head(n)`: View the first `n` rows (default is 5).\n",
        "* `df.tail(n)`: View the last `n` rows (default is 5).\n",
        "* `df.shape`: Get the dimensions (number of rows, number of columns).\n",
        "* `df.info()`: Get a concise summary including data types, non-null values, and memory usage.\n",
        "* `df.dtypes`: Check the data type of each column.\n",
        "* `df.columns`: View the column names.\n",
        "* `df.describe()`: Generate descriptive statistics for numerical columns (count, mean, std, min, max, quartiles)."
      ]
    },
    {
      "cell_type": "code",
      "execution_count": 17,
      "id": "74a76769",
      "metadata": {
        "colab": {
          "base_uri": "https://localhost:8080/"
        },
        "id": "74a76769",
        "outputId": "a00dbee5-87de-49d2-8cba-e2ee303f42d6"
      },
      "outputs": [
        {
          "output_type": "stream",
          "name": "stdout",
          "text": [
            "First 3 rows:\n",
            "   id      name  class  mark  gender\n",
            "0   1  John Deo   Four    75  female\n",
            "1   2  Max Ruin  Three    85    male\n",
            "2   3    Arnold  Three    55    male\n",
            "\n",
            "Last 2 rows:\n",
            "    id        name  class  mark  gender\n",
            "33  34    Gain Toe  Seven    69    male\n",
            "34  35  Rows Noump    Six    88  female\n",
            "\n",
            "Shape of DataFrame: (35, 5)\n",
            "\n",
            "DataFrame Info:\n",
            "<class 'pandas.core.frame.DataFrame'>\n",
            "RangeIndex: 35 entries, 0 to 34\n",
            "Data columns (total 5 columns):\n",
            " #   Column  Non-Null Count  Dtype \n",
            "---  ------  --------------  ----- \n",
            " 0   id      35 non-null     int64 \n",
            " 1   name    34 non-null     object\n",
            " 2   class   34 non-null     object\n",
            " 3   mark    35 non-null     int64 \n",
            " 4   gender  33 non-null     object\n",
            "dtypes: int64(2), object(3)\n",
            "memory usage: 1.5+ KB\n",
            "\n",
            "Data Types:\n",
            "id         int64\n",
            "name      object\n",
            "class     object\n",
            "mark       int64\n",
            "gender    object\n",
            "dtype: object\n",
            "\n",
            "Column Names:\n",
            "Index(['id', 'name', 'class', 'mark', 'gender'], dtype='object')\n",
            "\n",
            "Descriptive Statistics for numerical columns:\n",
            "              id       mark\n",
            "count  35.000000  35.000000\n",
            "mean   18.000000  74.657143\n",
            "std    10.246951  16.401117\n",
            "min     1.000000  18.000000\n",
            "25%     9.500000  62.500000\n",
            "50%    18.000000  79.000000\n",
            "75%    26.500000  88.000000\n",
            "max    35.000000  96.000000\n"
          ]
        }
      ],
      "source": [
        "# Example 4.1: Inspecting df_students\n",
        "# Ensure df_students is loaded from the previous section\n",
        "print(\"First 3 rows:\")\n",
        "print(df_students.head(3))\n",
        "print(\"\\nLast 2 rows:\")\n",
        "print(df_students.tail(2))\n",
        "print(\"\\nShape of DataFrame:\", df_students.shape)\n",
        "print(\"\\nDataFrame Info:\")\n",
        "df_students.info()\n",
        "print(\"\\nData Types:\")\n",
        "print(df_students.dtypes)\n",
        "print(\"\\nColumn Names:\")\n",
        "print(df_students.columns)\n",
        "print(\"\\nDescriptive Statistics for numerical columns:\")\n",
        "print(df_students.describe())"
      ]
    },
    {
      "cell_type": "markdown",
      "id": "acccc5ce",
      "metadata": {
        "id": "acccc5ce"
      },
      "source": [
        "**Exercise 4.1:** Using the `df_students` DataFrame, display:\n",
        "1. The first 7 rows.\n",
        "2. The last 4 rows.\n",
        "3. Only the column names."
      ]
    },
    {
      "cell_type": "code",
      "execution_count": null,
      "id": "59ddde2c",
      "metadata": {
        "id": "59ddde2c"
      },
      "outputs": [],
      "source": [
        "# Exercise 4.1 Code Cell\n",
        "if 'df_students' in globals():\n",
        "    print(\"First 7 rows:\")\n",
        "    print(df_students.head(7))\n",
        "    print(\"\\nLast 4 rows:\")\n",
        "    print(df_students.tail(4))\n",
        "    print(\"\\nColumn Names:\")\n",
        "    print(df_students.columns)\n",
        "else:\n",
        "    print(\"df_students not loaded.\")"
      ]
    },
    {
      "cell_type": "markdown",
      "id": "c8f8fdbc",
      "metadata": {
        "id": "c8f8fdbc"
      },
      "source": [
        "**Exercise 4.2:** For the `df_students` DataFrame:\n",
        "1. Get a full summary using `info()`.\n",
        "2. Get descriptive statistics for only the 'mark' column. (Hint: `df['column_name'].describe()`)"
      ]
    },
    {
      "cell_type": "code",
      "execution_count": null,
      "id": "37ae26b6",
      "metadata": {
        "id": "37ae26b6"
      },
      "outputs": [],
      "source": [
        "# Exercise 4.2 Code Cell\n",
        "if 'df_students' in globals():\n",
        "    print(\"DataFrame Info:\")\n",
        "    df_students.info()\n",
        "    print(\"\\nDescriptive Statistics for 'mark' column:\")\n",
        "    print(df_students['mark'].describe())\n",
        "else:\n",
        "    print(\"df_students not loaded.\")"
      ]
    },
    {
      "cell_type": "markdown",
      "id": "d9a46459",
      "metadata": {
        "id": "d9a46459"
      },
      "source": [
        "# **✨ Group Activity 3: Understanding `df.describe()` ✨**\n",
        "\n",
        "**Scenario:** A new team member runs `df_students.describe()` and is confused by the output for non-numeric columns (or their absence).\n",
        "1. Run `df_students.describe()` and `df_students.describe(include='all')`.\n",
        "2. Discuss:\n",
        "    a. What does `df.describe()` show by default? Which columns does it include?\n",
        "    b. What does `df.describe(include='all')` show for columns like 'name' or 'gender'? What do 'unique', 'top', and 'freq' mean in this context?\n",
        "    c. Why might the 'count' be different for different columns in the `describe()` output?\n",
        "3. Explain to your hypothetical team member what insights they can get from both versions of `describe()`."
      ]
    },
    {
      "cell_type": "code",
      "execution_count": null,
      "id": "2180902c",
      "metadata": {
        "id": "2180902c"
      },
      "outputs": [],
      "source": [
        "# Group Activity 3 Code Cell\n",
        "if 'df_students' in globals():\n",
        "    print(\"Default describe():\")\n",
        "    print(df_students.describe())\n",
        "    print(\"\\nDescribe all (include='all'):\")\n",
        "    print(df_students.describe(include='all'))\n",
        "    # Discussion points:\n",
        "    # a. Default describe() includes only numerical columns. It shows count, mean, std, min, 25th percentile, median (50th), 75th percentile, max.\n",
        "    # b. describe(include='all') includes all columns. For non-numeric (object/categorical) columns, it shows 'unique' (number of distinct values),\n",
        "    #    'top' (most frequent value), and 'freq' (frequency of the top value). For numeric columns, it shows NaN for these.\n",
        "    # c. 'Count' can be different because it only counts non-missing (non-NaN) values. Different columns can have different numbers of missing values.\n",
        "else:\n",
        "    print(\"df_students not loaded.\")"
      ]
    },
    {
      "cell_type": "markdown",
      "id": "1fa19bfb",
      "metadata": {
        "id": "1fa19bfb"
      },
      "source": [
        "---\n",
        "# **5. Data Selection and Subsetting (Slicing and Dicing!) 🔪**\n",
        "\n",
        "Often, you'll want to work with specific parts of your DataFrame.\n",
        "\n",
        "**Ways to select data:**\n",
        "* **Selecting columns:**\n",
        "    * Single column (returns a Series): `df['column_name']'.\n",
        "    * Multiple columns (returns a DataFrame): `df[['col1', 'col2', 'col3']]`.\n",
        "* **Selecting rows and columns with `loc` (label-based selection):**\n",
        "    * `df.loc[row_label]` (selects a single row)\n",
        "    * `df.loc[[row_label1, row_label2]]` (selects multiple specific rows)\n",
        "    * `df.loc[start_label:end_label]` (selects a range of rows, inclusive)\n",
        "    * `df.loc[:, 'column_name']` (selects all rows for a specific column)\n",
        "    * `df.loc[row_label, 'column_name']` (selects a specific value)\n",
        "    * `df.loc[row_labels_list, column_labels_list]`\n",
        "* **Selecting rows and columns with `iloc` (integer position-based selection):**\n",
        "    * `df.iloc[row_index]`\n",
        "    * `df.iloc[[row_index1, row_index2]]`\n",
        "    * `df.iloc[start_index:end_index]` (selects a range of rows, `end_index` is exclusive)\n",
        "    * `df.iloc[:, column_index]`\n",
        "    * `df.iloc[row_index, column_index]`\n",
        "    * `df.iloc[row_indices_list, column_indices_list]`"
      ]
    },
    {
      "cell_type": "code",
      "execution_count": null,
      "id": "bd4e046d",
      "metadata": {
        "id": "bd4e046d"
      },
      "outputs": [],
      "source": [
        "# Assume df_students is already loaded\n",
        "\n",
        "# 1. Single row by position:\n",
        "print(df_students.iloc[2])\n",
        "# Equivalent to df.iloc[row_index]\n",
        "\n",
        "# 2. Multiple specific rows by list of positions:\n",
        "print(df_students.iloc[[0, 3, 5]])\n",
        "# Equivalent to df.iloc[[row_index1, row_index2, ...]]\n",
        "\n",
        "# 3. Slice of rows (end exclusive):\n",
        "print(df_students.iloc[1:4])\n",
        "# Equivalent to df.iloc[start_index:end_index]\n",
        "\n",
        "# 4. All rows for a single column by position:\n",
        "print(df_students.iloc[:, 2])\n",
        "# Equivalent to df.iloc[:, column_index]\n",
        "\n",
        "# 5. Single cell by row & column positions:\n",
        "print(df_students.iloc[1, 2])\n",
        "# Equivalent to df.iloc[row_index, column_index]\n",
        "\n",
        "# 6. Sub-DataFrame by lists of row and column positions:\n",
        "print(df_students.iloc[[0, 2, 4], [1, 3]])\n",
        "# Equivalent to df.iloc[row_indices_list, column_indices_list]\n"
      ]
    },
    {
      "cell_type": "markdown",
      "id": "f179b185",
      "metadata": {
        "id": "f179b185"
      },
      "source": [
        "**Exercise 5.1:** From `df_students`:\n",
        "1. Select and display only the 'class' column.\n",
        "2. Select and display the 'name', 'mark', and 'gender' columns for all students."
      ]
    },
    {
      "cell_type": "code",
      "execution_count": null,
      "id": "a1cf4834",
      "metadata": {
        "id": "a1cf4834"
      },
      "outputs": [],
      "source": [
        "# Exercise 5.1 Code Cell\n",
        "if 'df_students' in globals():\n",
        "    print(\"Class column:\")\n",
        "    print(df_students['class'].head())\n",
        "    print(\"\\nName, Mark, and Gender columns:\")\n",
        "    print(df_students[['name', 'mark', 'gender']].head())\n",
        "else:\n",
        "    print(\"df_students not loaded.\")"
      ]
    },
    {
      "cell_type": "markdown",
      "id": "8b279590",
      "metadata": {
        "id": "8b279590"
      },
      "source": [
        "**Exercise 5.2:** From `df_students`:\n",
        "1. Using `loc`, select the data for students at index positions 2, 4, and 6 (if these indices exist in your DataFrame's index), showing only their 'name' and 'mark'.\n",
        "2. Using `iloc`, select the students in rows 0 through 4 (inclusive for start, exclusive for end for `iloc`) and columns 1 through 3 (exclusive for end for `iloc`)."
      ]
    },
    {
      "cell_type": "code",
      "execution_count": null,
      "id": "443632e0",
      "metadata": {
        "id": "443632e0"
      },
      "outputs": [],
      "source": [
        "# Exercise 5.2 Code Cell\n",
        "if 'df_students' in globals():\n",
        "    # 1. Using loc\n",
        "    indices_to_select_loc = [idx for idx in [2, 4, 6] if idx in df_students.index]\n",
        "    if indices_to_select_loc:\n",
        "        print(\"Selected students using loc (indices 2, 4, 6 if they exist):\")\n",
        "        print(df_students.loc[indices_to_select_loc, ['name', 'mark']])\n",
        "    else:\n",
        "        print(\"None of the specified indices [2, 4, 6] found for loc selection.\")\n",
        "\n",
        "    # 2. Using iloc\n",
        "    print(\"\\nSelected students using iloc (rows 0-4, columns 1-3):\")\n",
        "    # Rows 0, 1, 2, 3 (iloc is exclusive for end index)\n",
        "    # Columns 1, 2 (iloc is exclusive for end index)\n",
        "    print(df_students.iloc[0:4, 1:3])\n",
        "else:\n",
        "    print(\"df_students not loaded.\")"
      ]
    },
    {
      "cell_type": "markdown",
      "id": "5ce9a5ab",
      "metadata": {
        "id": "5ce9a5ab"
      },
      "source": [
        "# **✨ Group Activity 4: `loc` vs `iloc` Confusion ✨**\n",
        "\n",
        "**Scenario:** Someone is trying to get the first 5 rows and the column named 'mark'.\n",
        "1. **Attempt 1 (potentially buggy depending on index):** `df_students.loc[0:4, 'mark']`\n",
        "2. **Attempt 2 (buggy):** `df_students.iloc[0:5, 'mark']`\n",
        "3. Discuss:\n",
        "    a. If the DataFrame's row index is the default (0, 1, 2,...), which attempt works for getting the 'mark' of the first 5 rows? Why is `0:4` used for `loc` here?\n",
        "    b. Why does the other attempt fail or behave unexpectedly? What type of argument does `iloc` expect for columns?\n",
        "4. Write the corrected versions for both `loc` and `iloc` to achieve the goal (get 'mark' for the first 5 rows).\n",
        "   (Hint for `iloc`: you might need to find the integer position of the 'mark' column first using `df_students.columns.get_loc('mark')`)"
      ]
    },
    {
      "cell_type": "code",
      "execution_count": null,
      "id": "82c7571b",
      "metadata": {
        "id": "82c7571b"
      },
      "outputs": [],
      "source": [
        "# Group Activity 4 Code Cell\n",
        "if 'df_students' in globals():\n",
        "    print(\"Attempt 1 (loc - works if index is 0,1,2,3,4):\")\n",
        "    # loc is inclusive of the end label, so 0:4 gives rows with labels 0, 1, 2, 3, 4 (5 rows if index starts at 0)\n",
        "    if all(i in df_students.index for i in range(5)):\n",
        "         print(df_students.loc[0:4, 'mark'])\n",
        "    else:\n",
        "        print(\"Default integer index 0-4 not fully present for loc example.\")\n",
        "\n",
        "    print(\"\\nAttempt 2 (iloc - this will raise an error because 'mark' is a label, not an int position):\")\n",
        "    try:\n",
        "        print(df_students.iloc[0:5, 'mark'])\n",
        "    except Exception as e:\n",
        "        print(f\"Error: {e}\")\n",
        "        print(\"iloc requires integer positions for columns.\")\n",
        "\n",
        "    print(\"\\nCorrected versions:\")\n",
        "    print(\"Using loc (first 5 rows, 'mark' column - assuming index is 0-based and continuous):\")\n",
        "    # df.head(5) would give first 5 rows. For loc, if index is 0,1,2,3,4...\n",
        "    if all(i in df_students.index for i in range(5)):\n",
        "        print(df_students.loc[df_students.index[:5], 'mark'])\n",
        "    else:\n",
        "        print(\"Cannot guarantee first 5 rows with .loc[0:4] if index isn't [0,1,2,3,4,...]. Using .head().index instead for robustness.\")\n",
        "        print(df_students.loc[df_students.head(5).index, 'mark'])\n",
        "\n",
        "    print(\"\\nUsing iloc (first 5 rows, 'mark' column):\")\n",
        "    mark_column_index = df_students.columns.get_loc('mark')\n",
        "    print(df_students.iloc[0:5, mark_column_index])\n",
        "\n",
        "else:\n",
        "    print(\"df_students not loaded.\")"
      ]
    },
    {
      "cell_type": "markdown",
      "id": "ef72fa2d",
      "metadata": {
        "id": "ef72fa2d"
      },
      "source": [
        "---\n",
        "# **6. Filtering DataFrames 🚦**\n",
        "\n",
        "Filtering allows you to select rows that meet certain conditions. This is a fundamental part of data analysis.\n",
        "\n",
        "**Syntax:** `df[condition]`\n",
        "\n",
        "**Conditions can be combined using logical operators:**\n",
        "* `&` for AND\n",
        "* `|` for OR\n",
        "* `~` for NOT\n",
        "\n",
        "Parentheses `()` are important when combining multiple conditions."
      ]
    },
    {
      "cell_type": "code",
      "execution_count": null,
      "id": "6d071769",
      "metadata": {
        "id": "6d071769"
      },
      "outputs": [],
      "source": [
        "# Assume df_students is already loaded\n",
        "\n",
        "# Basic filtering syntax:\n",
        "# df_students[condition]\n",
        "\n",
        "# 1. AND combination:\n",
        "df_students[(df_students['gender'] == 'female') & (df_students['class'] == 'Four')]\n",
        "\n",
        "# 2. OR combination:\n",
        "df_students[(df_students['class'] == 'Three') | (df_students['mark'] < 60)]\n",
        "\n",
        "# 3. NOT:\n",
        "df_students[~(df_students['mark'] > 80)]\n"
      ]
    },
    {
      "cell_type": "markdown",
      "id": "7bca0a8a",
      "metadata": {
        "id": "7bca0a8a"
      },
      "source": [
        "**Exercise 6.1:** From `df_students`, select and display:\n",
        "1. All students who are 'male'.\n",
        "2. All students whose 'mark' is exactly 78."
      ]
    },
    {
      "cell_type": "code",
      "execution_count": null,
      "id": "9963afd0",
      "metadata": {
        "id": "9963afd0"
      },
      "outputs": [],
      "source": [
        "# Exercise 6.1 Code Cell\n",
        "if 'df_students' in globals():\n",
        "    male_students = df_students[df_students['gender'] == 'male']\n",
        "    print(\"Male students:\\n\", male_students)\n",
        "\n",
        "    mark_78_students = df_students[df_students['mark'] == 78]\n",
        "    print(\"\\nStudents with mark 78:\\n\", mark_78_students)\n",
        "else:\n",
        "    print(\"df_students not loaded.\")"
      ]
    },
    {
      "cell_type": "markdown",
      "id": "313e2824",
      "metadata": {
        "id": "313e2824"
      },
      "source": [
        "**Exercise 6.2:** From `df_students`, select and display:\n",
        "1. All 'female' students who have a 'mark' greater than or equal to 70.\n",
        "2. All students who are in 'class' 'Six' OR 'class' 'Seven'."
      ]
    },
    {
      "cell_type": "code",
      "execution_count": null,
      "id": "140b8273",
      "metadata": {
        "id": "140b8273"
      },
      "outputs": [],
      "source": [
        "# Exercise 6.2 Code Cell\n",
        "if 'df_students' in globals():\n",
        "    female_high_scorers = df_students[(df_students['gender'] == 'female') & (df_students['mark'] >= 70)]\n",
        "    print(\"Female students with mark >= 70:\\n\", female_high_scorers)\n",
        "\n",
        "    class_six_or_seven = df_students[(df_students['class'] == 'Six') | (df_students['class'] == 'Seven')]\n",
        "    print(\"\\nStudents in class Six or Seven:\\n\", class_six_or_seven)\n",
        "else:\n",
        "    print(\"df_students not loaded.\")"
      ]
    },
    {
      "cell_type": "markdown",
      "id": "b22ba545",
      "metadata": {
        "id": "b22ba545"
      },
      "source": [
        "# **✨ Group Activity 5: Tricky Filtering ✨**\n",
        "\n",
        "**Scenario:** You want to find students who are *not* in 'class Four' AND have a mark *between* 60 and 80 (inclusive).\n",
        "1. **Buggy Code attempt:**\n",
        "   `# filtered_df = df_students[df_students['class'] != 'Four' & df_students['mark'] >= 60 & df_students['mark'] <= 80]`\n",
        "2. Discuss: Why might this code produce an error or incorrect results? (Hint: Operator precedence and parentheses for conditions).\n",
        "3. Write the corrected code to achieve the desired filtering. Display the result."
      ]
    },
    {
      "cell_type": "code",
      "execution_count": null,
      "id": "e71b9177",
      "metadata": {
        "id": "e71b9177"
      },
      "outputs": [],
      "source": [
        "# Group Activity 5 Code Cell\n",
        "if 'df_students' in globals():\n",
        "    # Buggy attempt (commented out to prevent error, illustrates the point)\n",
        "    # filtered_df_buggy = df_students[df_students['class'] != 'Four' & df_students['mark'] >= 60 & df_students['mark'] <= 80]\n",
        "    # print(filtered_df_buggy)\n",
        "    # The issue is operator precedence. `&` has higher precedence than `!=`, `>=`, `<=`.\n",
        "    # Python tries to evaluate `Four' & df_students['mark']` first, which is nonsensical.\n",
        "    # Each condition needs to be in parentheses.\n",
        "\n",
        "    # Corrected code:\n",
        "    filtered_df_corrected = df_students[\n",
        "        (df_students['class'] != 'Four') &\n",
        "        (df_students['mark'] >= 60) &\n",
        "        (df_students['mark'] <= 80)\n",
        "    ]\n",
        "    print(\"Students not in class Four AND mark between 60-80 (inclusive):\\n\", filtered_df_corrected)\n",
        "else:\n",
        "    print(\"df_students not loaded.\")"
      ]
    },
    {
      "cell_type": "markdown",
      "id": "89f34118",
      "metadata": {
        "id": "89f34118"
      },
      "source": [
        "---\n",
        "# **7. Data Cleaning 🧹**\n",
        "\n",
        "Real-world data is often messy. Data cleaning involves handling inconsistencies, errors, and missing data.\n",
        "\n",
        "# **7.1. Handling Missing Values (`NaN`)**\n",
        "Missing values are usually represented as `NaN` (Not a Number).\n",
        "\n",
        "* **Detecting missing values:** `df.isnull()` (returns a boolean DataFrame) or `df.isnull().sum()` (counts missing values per column).\n",
        "* **Dropping missing values:** `df.dropna()` (drops rows with any NaN).\n",
        "    * `axis=1` drops columns with NaN.\n",
        "    * `how='all'` drops rows/columns if all values are NaN.\n",
        "    * `thresh=N` keeps rows/columns with at least N non-NaN values.\n",
        "* **Filling missing values:** `df.fillna(value)`\n",
        "    * Fill with a specific value (0, 'Unknown', etc.).\n",
        "    * Fill with mean: `df['column'].fillna(df['column'].mean())`.\n",
        "    * Fill with median: `df['column'].fillna(df['column'].median())`.\n",
        "    * Fill with mode: `df['column'].fillna(df['column'].mode()[0])` (mode can return multiple values, so take the first).\n",
        "    * `method='ffill'` (forward fill) or `method='bfill'` (backward fill)."
      ]
    },
    {
      "cell_type": "code",
      "execution_count": null,
      "id": "8fd04ea0",
      "metadata": {
        "id": "8fd04ea0"
      },
      "outputs": [],
      "source": [
        "import warnings\n",
        "from pandas import DataFrame\n",
        "\n",
        "# (1) Optional: suppress FutureWarnings entirely\n",
        "warnings.simplefilter('ignore', FutureWarning)\n",
        "\n",
        "# Assume df_students is already loaded as a DataFrame\n",
        "assert isinstance(df_students, DataFrame)\n",
        "\n",
        "# 2. Detect missing values\n",
        "print(\"Missing per column:\\n\", df_students.isnull().sum(), \"\\n\")\n",
        "\n",
        "# 3. Drop missing values (as before)\n",
        "print(\"Shape before dropna():\", df_students.shape)\n",
        "df_dropped = df_students.dropna()\n",
        "print(\"Shape after dropna():\", df_dropped.shape, \"\\n\")\n",
        "\n",
        "# 4. Fill missing values without chained assignment\n",
        "mean_mark = df_students['mark'].mean()\n",
        "df_students['mark'] = df_students['mark'].fillna(mean_mark)\n",
        "print(\"'mark' after filling with mean:\\n\", df_students['mark'].head(), \"\\n\")\n",
        "\n",
        "mode_gender = df_students['gender'].mode()[0]\n",
        "df_students['gender'] = df_students['gender'].fillna(mode_gender)\n",
        "print(\"'gender' after filling with mode:\\n\", df_students['gender'].head(), \"\\n\")\n",
        "\n",
        "# 5. Forward- and backward-fill using dedicated methods\n",
        "df_ffill = df_students.ffill()\n",
        "print(\"First few rows after forward-fill:\\n\", df_ffill.head(), \"\\n\")\n",
        "\n",
        "df_bfill = df_students.bfill()\n",
        "print(\"First few rows after backward-fill:\\n\", df_bfill.head())\n"
      ]
    },
    {
      "cell_type": "markdown",
      "id": "75b83843",
      "metadata": {
        "id": "75b83843"
      },
      "source": [
        "**Exercise 7.1.1:** Using a fresh copy of `df_students` (reload or use `df_students.copy()`):\n",
        "1. Count the total number of missing values in the entire DataFrame using `df.isnull().sum().sum()`.\n",
        "2. Fill any missing 'gender' values with the mode of the 'gender' column. Print the `isnull().sum()` again to verify."
      ]
    },
    {
      "cell_type": "code",
      "execution_count": null,
      "id": "724c6f81",
      "metadata": {
        "id": "724c6f81"
      },
      "outputs": [],
      "source": [
        "# Exercise 7.1.1 Code Cell\n",
        "if 'df_students' in globals():\n",
        "    df_students_copy = df_students.copy()\n",
        "    # 1. Count total missing values\n",
        "    total_missing = df_students_copy.isnull().sum().sum()\n",
        "    print(f\"Total missing values initially: {total_missing}\")\n",
        "\n",
        "    # 2. Fill missing 'gender' with mode\n",
        "    if not df_students_copy['gender'].mode().empty:\n",
        "        gender_mode = df_students_copy['gender'].mode()[0]\n",
        "        df_students_copy['gender'].fillna(gender_mode, inplace=True)\n",
        "        print(\"\\nMissing values after filling 'gender' with mode:\")\n",
        "        print(df_students_copy.isnull().sum())\n",
        "    else:\n",
        "        print(\"\\n'gender' column mode could not be determined (e.g., all NaN or empty).\")\n",
        "else:\n",
        "    print(\"Run data loading cell first.\")"
      ]
    },
    {
      "cell_type": "markdown",
      "id": "01aa9f6d",
      "metadata": {
        "id": "01aa9f6d"
      },
      "source": [
        "**Exercise 7.1.2:** Using a fresh copy of `df_students`:\n",
        "1. For the 'mark' column, ensure it's numeric (coercing errors), then fill missing values using forward fill (`ffill`).\n",
        "2. Then, if any NaNs remain in 'mark' (e.g., if the first row was NaN), fill them with 0.\n",
        "3. Print the `isnull().sum()` for 'mark' to check."
      ]
    },
    {
      "cell_type": "code",
      "execution_count": null,
      "id": "320e7eb0",
      "metadata": {
        "id": "320e7eb0"
      },
      "outputs": [],
      "source": [
        "# Exercise 7.1.2 Code Cell\n",
        "if 'df_students' in globals():\n",
        "    df_students_copy_2 = df_students.copy()\n",
        "    # Ensure 'mark' is numeric\n",
        "    df_students_copy_2['mark'] = pd.to_numeric(df_students_copy_2['mark'], errors='coerce')\n",
        "    print(\"Missing marks before ffill:\", df_students_copy_2['mark'].isnull().sum())\n",
        "\n",
        "    # 1. Forward fill for 'mark'\n",
        "    df_students_copy_2['mark'].ffill(inplace=True)\n",
        "    print(\"Missing marks after ffill:\", df_students_copy_2['mark'].isnull().sum())\n",
        "\n",
        "    # 2. Fill any remaining NaNs with 0\n",
        "    df_students_copy_2['mark'].fillna(0, inplace=True)\n",
        "    print(\"Missing marks after filling remaining with 0:\", df_students_copy_2['mark'].isnull().sum())\n",
        "else:\n",
        "    print(\"Run data loading cell first.\")"
      ]
    },
    {
      "cell_type": "markdown",
      "id": "cb198a02",
      "metadata": {
        "id": "cb198a02"
      },
      "source": [
        "# **7.2. Handling Duplicates**\n",
        "* **Detecting duplicates:** `df.duplicated()` (returns boolean Series) or `df.duplicated().sum()` (counts duplicated rows).\n",
        "    * `keep='first'` (default): Marks all but the first occurrence as duplicate.\n",
        "    * `keep='last'`: Marks all but the last occurrence as duplicate.\n",
        "    * `keep=False`: Marks all occurrences of duplicates as True.\n",
        "* **Dropping duplicates:** `df.drop_duplicates()`\n",
        "    * `subset=['col1', 'col2']`: Consider duplicates based on specific columns only."
      ]
    },
    {
      "cell_type": "code",
      "execution_count": null,
      "id": "a019732e",
      "metadata": {
        "id": "a019732e"
      },
      "outputs": [],
      "source": [
        "# Assume df_students is already loaded\n",
        "\n",
        "# 1. Detect duplicates\n",
        "#    df.duplicated() → boolean mask; df.duplicated().sum() → count\n",
        "print(\"Total duplicated rows (excluding first occurrences):\",\n",
        "      df_students.duplicated().sum())\n",
        "\n",
        "# 2. Mark *all* duplicates (including first) if you want:\n",
        "print(\"Total rows involved in any duplicate:\",\n",
        "      df_students.duplicated(keep=False).sum())\n",
        "\n",
        "# 3. Drop duplicates (keep first occurrence, default behavior)\n",
        "df_no_dup = df_students.drop_duplicates()\n",
        "print(\"Shape before drop_duplicates():\", df_students.shape)\n",
        "print(\"Shape after drop_duplicates():\", df_no_dup.shape)\n",
        "\n",
        "# 4. Drop duplicates based on a subset of columns\n",
        "#    subset=['name','class'], keep='last'\n",
        "df_no_dup_subset = df_students.drop_duplicates(\n",
        "    subset=['name', 'class'],\n",
        "    keep='last'\n",
        ")\n",
        "print(\"\\nShape after drop_duplicates(subset=['name','class'], keep='last'):\",\n",
        "      df_no_dup_subset.shape)\n"
      ]
    },
    {
      "cell_type": "markdown",
      "id": "8860c131",
      "metadata": {
        "id": "8860c131"
      },
      "source": [
        "**Exercise 7.2.1:** Using `df_students` (ensure it has the duplicate 'Tes Qry' entries from the sample data or add one manually for testing):\n",
        "1. Check for duplicate rows based *only* on the 'name' column. How many are there (considering first as non-duplicate)?\n",
        "2. Create a new DataFrame `df_unique_names` by dropping these duplicates based on 'name', keeping the first instance. Print its shape."
      ]
    },
    {
      "cell_type": "code",
      "execution_count": null,
      "id": "bec7a4b0",
      "metadata": {
        "id": "bec7a4b0"
      },
      "outputs": [],
      "source": [
        "# Exercise 7.2.1 Code Cell\n",
        "if 'df_students' in globals():\n",
        "    # 1. Check duplicates based on 'name'\n",
        "    num_name_duplicates = df_students.duplicated(subset=['name']).sum()\n",
        "    print(f\"Number of rows with duplicate names (excluding first occurrences): {num_name_duplicates}\")\n",
        "\n",
        "    # 2. Drop duplicates based on 'name'\n",
        "    df_unique_names = df_students.drop_duplicates(subset=['name'], keep='first')\n",
        "    print(\"\\nShape of DataFrame with unique names:\", df_unique_names.shape)\n",
        "else:\n",
        "    print(\"df_students not loaded.\")"
      ]
    },
    {
      "cell_type": "markdown",
      "id": "e7ed2683",
      "metadata": {
        "id": "e7ed2683"
      },
      "source": [
        "**Exercise 7.2.2:** Create a small sample DataFrame manually with a few rows, ensuring at least two rows are complete duplicates across all columns.\n",
        "1. Count the number of fully duplicated rows.\n",
        "2. Remove them and print the cleaned DataFrame."
      ]
    },
    {
      "cell_type": "code",
      "execution_count": null,
      "id": "7a0cc14a",
      "metadata": {
        "id": "7a0cc14a"
      },
      "outputs": [],
      "source": [
        "# Exercise 7.2.2 Code Cell\n",
        "sample_data_for_duplicates = {\n",
        "    'colA': [1, 2, 1, 3, 4],\n",
        "    'colB': ['apple', 'banana', 'apple', 'orange', 'grape'],\n",
        "    'colC': [10.0, 20.0, 10.0, 30.0, 20.0]\n",
        "}\n",
        "df_sample_dup = pd.DataFrame(sample_data_for_duplicates)\n",
        "print(\"Original sample DataFrame with potential duplicates:\")\n",
        "print(df_sample_dup)\n",
        "\n",
        "# 1. Count fully duplicated rows\n",
        "num_full_duplicates = df_sample_dup.duplicated().sum()\n",
        "print(f\"\\nNumber of fully duplicated rows: {num_full_duplicates}\")\n",
        "\n",
        "# 2. Remove them and print cleaned DataFrame\n",
        "df_sample_cleaned = df_sample_dup.drop_duplicates()\n",
        "print(\"\\nCleaned sample DataFrame:\")\n",
        "print(df_sample_cleaned)"
      ]
    },
    {
      "cell_type": "markdown",
      "id": "fd2d7a44",
      "metadata": {
        "id": "fd2d7a44"
      },
      "source": [
        "# **7.3. Renaming Columns**\n",
        "You can rename columns using `df.rename(columns={'old_name': 'new_name', ...}, inplace=True)`."
      ]
    },
    {
      "cell_type": "code",
      "execution_count": null,
      "id": "ac0b3a94",
      "metadata": {
        "id": "ac0b3a94"
      },
      "outputs": [],
      "source": [
        "# Assume df_students is already loaded\n",
        "\n",
        "# 1. Show original column names\n",
        "print(\"Original columns:\", list(df_students.columns))\n",
        "\n",
        "# 2. Rename columns (without modifying the original)\n",
        "df_renamed = df_students.rename(\n",
        "    columns={'class': 'student_class', 'mark': 'score'}\n",
        ")\n",
        "print(\"After rename (new DataFrame):\", list(df_renamed.columns))\n",
        "\n",
        "# 3. Rename columns in place (modifies df_students)\n",
        "df_students.rename(\n",
        "    columns={'class': 'student_class', 'mark': 'score'},\n",
        "    inplace=True\n",
        ")\n",
        "print(\"After inplace rename (original DataFrame):\", list(df_students.columns))\n"
      ]
    },
    {
      "cell_type": "markdown",
      "id": "2978c336",
      "metadata": {
        "id": "2978c336"
      },
      "source": [
        "**Exercise 7.3.1:** In a copy of `df_students`, rename the 'gender' column to 'sex'. Print the new column names."
      ]
    },
    {
      "cell_type": "code",
      "execution_count": null,
      "id": "4b3ce5a3",
      "metadata": {
        "id": "4b3ce5a3"
      },
      "outputs": [],
      "source": [
        "# Exercise 7.3.1 Code Cell\n",
        "if 'df_students' in globals():\n",
        "    df_students_renamed_ex1 = df_students.copy()\n",
        "    df_students_renamed_ex1.rename(columns={'gender': 'sex'}, inplace=True)\n",
        "    print(\"New column names after renaming 'gender' to 'sex':\")\n",
        "    print(df_students_renamed_ex1.columns)\n",
        "else:\n",
        "    print(\"df_students not loaded.\")"
      ]
    },
    {
      "cell_type": "markdown",
      "id": "c09be08b",
      "metadata": {
        "id": "c09be08b"
      },
      "source": [
        "**Exercise 7.3.2:** In a copy of `df_students`, rename 'id' to 'student_id' and 'name' to 'full_name' in a single command. Print the head of the modified DataFrame."
      ]
    },
    {
      "cell_type": "code",
      "execution_count": null,
      "id": "c64ff9e5",
      "metadata": {
        "id": "c64ff9e5"
      },
      "outputs": [],
      "source": [
        "# Exercise 7.3.2 Code Cell\n",
        "if 'df_students' in globals():\n",
        "    df_students_renamed_ex2 = df_students.copy()\n",
        "    df_students_renamed_ex2.rename(columns={'id': 'student_id', 'name': 'full_name'}, inplace=True)\n",
        "    print(\"Head of DataFrame after renaming 'id' and 'name':\")\n",
        "    print(df_students_renamed_ex2.head())\n",
        "else:\n",
        "    print(\"df_students not loaded.\")"
      ]
    },
    {
      "cell_type": "markdown",
      "id": "301e20cb",
      "metadata": {
        "id": "301e20cb"
      },
      "source": [
        "# **✨ Group Activity 6: Data Cleaning Strategy Discussion ✨**\n",
        "\n",
        "**Scenario:** Your `df_students` DataFrame has missing values in 'mark' (numerical) and 'gender' (categorical).\n",
        "1. Display `df_students.isnull().sum()`.\n",
        "2. Discuss in your group:\n",
        "    a. For the 'mark' column, what are the pros and cons of:\n",
        "        i. Dropping rows with missing marks?\n",
        "        ii. Filling with 0?\n",
        "        iii. Filling with the mean mark?\n",
        "        iv. Filling with the median mark?\n",
        "    b. For the 'gender' column, what are the pros and cons of:\n",
        "        i. Dropping rows with missing gender?\n",
        "        ii. Filling with 'Unknown'?\n",
        "        iii. Filling with the mode?\n",
        "3. Choose a strategy for both columns, implement it on a copy of `df_students`, and justify your choices."
      ]
    },
    {
      "cell_type": "code",
      "execution_count": null,
      "id": "1054d9d4",
      "metadata": {
        "id": "1054d9d4"
      },
      "outputs": [],
      "source": [
        "# Group Activity 6 Code Cell\n",
        "if 'df_students' in globals():\n",
        "    df_cleaned_discussion = df_students.copy()\n",
        "    print(\"Initial missing values:\")\n",
        "    print(df_cleaned_discussion.isnull().sum())\n",
        "\n",
        "    # --- Group Discussion Points ---\n",
        "    # Mark Column Strategy:\n",
        "    # i. Dropping: Pros - simple, retains data integrity if missingness is random and small. Cons - loss of data, potential bias if not random or large.\n",
        "    # ii. Filling with 0: Pros - keeps row, easy. Cons - skews distribution, might be misinterpreted as actual zero score.\n",
        "    # iii. Filling with Mean: Pros - keeps row, preserves mean. Cons - reduces variance, can be affected by outliers.\n",
        "    # iv. Filling with Median: Pros - keeps row, robust to outliers. Cons - reduces variance.\n",
        "    # Chosen for mark: Fill with median (robust to outliers).\n",
        "    df_cleaned_discussion['mark'] = pd.to_numeric(df_cleaned_discussion['mark'], errors='coerce') # Ensure numeric\n",
        "    mark_median = df_cleaned_discussion['mark'].median()\n",
        "    df_cleaned_discussion['mark'].fillna(mark_median, inplace=True)\n",
        "    print(f\"\\nFilled missing 'mark' values with median: {mark_median}\")\n",
        "\n",
        "    # Gender Column Strategy:\n",
        "    # i. Dropping: Pros - simple. Cons - loss of data.\n",
        "    # ii. Filling with 'Unknown': Pros - keeps row, explicitly marks missingness as a category. Cons - creates a new category.\n",
        "    # iii. Filling with Mode: Pros - keeps row, uses most common value. Cons - can distort distribution if many missing.\n",
        "    # Chosen for gender: Fill with 'Unknown' (explicitly handles missing as a distinct category).\n",
        "    df_cleaned_discussion['gender'].fillna('Unknown', inplace=True)\n",
        "    print(\"Filled missing 'gender' values with 'Unknown'.\")\n",
        "\n",
        "    print(\"\\nMissing values after chosen strategy:\")\n",
        "    print(df_cleaned_discussion.isnull().sum())\n",
        "else:\n",
        "    print(\"df_students not loaded.\")"
      ]
    },
    {
      "cell_type": "markdown",
      "id": "7d185c2d",
      "metadata": {
        "id": "7d185c2d"
      },
      "source": [
        "---\n",
        "# **8. Data Transformation 🔄**\n",
        "\n",
        "Transforming data involves changing its format, structure, or values. This can include creating new columns or changing data types.\n",
        "\n",
        "# **8.1. Creating New Columns**\n",
        "You can create new columns by:\n",
        "* Assigning a scalar value: `df['new_col'] = value`\n",
        "* Deriving from existing columns: `df['new_col'] = df['col1'] + df['col2']`\n",
        "* Using `apply()` with a function or `lambda` for more complex logic: `df['new_col'] = df['existing_col'].apply(lambda x: ...)`"
      ]
    },
    {
      "cell_type": "code",
      "execution_count": null,
      "id": "644aa144",
      "metadata": {
        "id": "644aa144"
      },
      "outputs": [],
      "source": [
        "# 0. Quick check: what columns do we actually have?\n",
        "print(\"Columns in df_students:\", df_students.columns.tolist())\n",
        "\n",
        "# 1. Scalar assignment\n",
        "df_students['school'] = 'High School'\n",
        "\n",
        "# 2. Derive percentage from the actual numeric column\n",
        "#    (replace 'score' below with whatever your numeric column is called)\n",
        "df_students['mark_percentage'] = df_students['score']  # if your column is named 'score'\n",
        "\n",
        "# 3. Pass/Fail based on that same column\n",
        "df_students['pass_fail'] = df_students['score'].apply(lambda x: 'Pass' if x >= 60 else 'Fail')\n",
        "\n",
        "# 4. View the result\n",
        "print(df_students[['name', 'school', 'mark_percentage', 'pass_fail']].head())\n"
      ]
    },
    {
      "cell_type": "markdown",
      "id": "5008fd41",
      "metadata": {
        "id": "5008fd41"
      },
      "source": [
        "**Exercise 8.1.1:** In a copy of `df_students` (ensure 'mark' is numeric and NaNs are handled, e.g., filled with 0 for this exercise):\n",
        "1. Create a new column called `bonus_mark` which is 10% of the original 'mark'.\n",
        "2. Create another column `final_mark` which is the sum of 'mark' and `bonus_mark`.\n",
        "3. Print the 'name', 'mark', `bonus_mark`, and `final_mark` columns for the first 5 students."
      ]
    },
    {
      "cell_type": "code",
      "execution_count": null,
      "id": "39ab5374",
      "metadata": {
        "id": "39ab5374"
      },
      "outputs": [],
      "source": [
        "# Exercise 8.1.1 Code Cell\n",
        "if 'df_students' in globals():\n",
        "    df_students_bonus = df_students.copy()\n",
        "    df_students_bonus['mark'] = pd.to_numeric(df_students_bonus['mark'], errors='coerce').fillna(0)\n",
        "\n",
        "    df_students_bonus['bonus_mark'] = df_students_bonus['mark'] * 0.10\n",
        "    df_students_bonus['final_mark'] = df_students_bonus['mark'] + df_students_bonus['bonus_mark']\n",
        "\n",
        "    print(df_students_bonus[['name', 'mark', 'bonus_mark', 'final_mark']].head())\n",
        "else:\n",
        "    print(\"df_students not loaded.\")"
      ]
    },
    {
      "cell_type": "markdown",
      "id": "2a2a837e",
      "metadata": {
        "id": "2a2a837e"
      },
      "source": [
        "**Exercise 8.1.2:** In a copy of `df_students`:\n",
        "1. Create a `mark_category` column with values:\n",
        "   - `'High'` for marks ≥ 80\n",
        "   - `'Medium'` for marks between 60 and 79 (inclusive)\n",
        "   - `'Low'` for marks < 60\n",
        "   (Handle any non-numeric or NaN marks appropriately before applying the logic, e.g., by filling with 0 or a specific category).\n",
        "2. Print the 'name', 'mark', and `mark_category` columns."
      ]
    },
    {
      "cell_type": "code",
      "execution_count": null,
      "id": "7d2e3836",
      "metadata": {
        "id": "7d2e3836"
      },
      "outputs": [],
      "source": [
        "# Exercise 8.1.2 Code Cell\n",
        "if 'df_students' in globals():\n",
        "    df_students_category = df_students.copy()\n",
        "    df_students_category['mark'] = pd.to_numeric(df_students_category['mark'], errors='coerce').fillna(0) # Handle NaNs\n",
        "\n",
        "    def categorize_mark(mark_value):\n",
        "        if mark_value >= 80:\n",
        "            return 'High'\n",
        "        elif mark_value >= 60:\n",
        "            return 'Medium'\n",
        "        else:\n",
        "            return 'Low'\n",
        "\n",
        "    df_students_category['mark_category'] = df_students_category['mark'].apply(categorize_mark)\n",
        "    print(df_students_category[['name', 'mark', 'mark_category']].head())\n",
        "else:\n",
        "    print(\"df_students not loaded.\")"
      ]
    },
    {
      "cell_type": "markdown",
      "id": "10f8074a",
      "metadata": {
        "id": "10f8074a"
      },
      "source": [
        "# **8.2. Changing Data Types**\n",
        "Sometimes data is loaded with incorrect types (e.g., numbers as strings). Use `astype()` to convert.\n",
        "\n",
        "* `df['column'] = df['column'].astype(new_type)`\n",
        "    * `new_type` can be `int`, `float`, `str`, `bool`, `category`, etc.\n",
        "    * `pd.to_numeric(df['column'], errors='coerce')` is robust for converting to numbers, turning errors into `NaN`."
      ]
    },
    {
      "cell_type": "markdown",
      "id": "84f3741f",
      "metadata": {
        "id": "84f3741f"
      },
      "source": [
        "**Changing Data Types**\n",
        "\n",
        "Sometimes data columns are loaded with the wrong type (e.g., numbers as strings). Converting to the correct type is important for mathematical operations, sorting, and plotting. You can change types using:\n",
        "\n",
        "- **`df['column'].astype(new_type)`**: converts to types like `int`, `float`, or `str`.\n",
        "- **`pd.to_datetime(df['column'])`**: converts strings to datetime objects.\n",
        "\n",
        "Always check the result with `df.dtypes` to confirm the change."
      ]
    },
    {
      "cell_type": "code",
      "execution_count": null,
      "id": "463c58a9",
      "metadata": {
        "id": "463c58a9"
      },
      "outputs": [],
      "source": [
        "# 1. Show dtypes before conversion\n",
        "print(\"Before:\", df_students.dtypes, \"\\n\")\n",
        "\n",
        "# 2. Convert 'id' to int if present\n",
        "if 'id' in df_students:\n",
        "    df_students['id'] = (\n",
        "        pd.to_numeric(df_students['id'], errors='coerce')\n",
        "          .fillna(0)\n",
        "          .astype(int)\n",
        "    )\n",
        "\n",
        "# 3. Convert 'class' to category if present\n",
        "if 'class' in df_students:\n",
        "    df_students['class'] = df_students['class'].astype('category')\n",
        "\n",
        "# 4. Convert any date column if present\n",
        "if 'date_of_birth' in df_students:\n",
        "    df_students['date_of_birth'] = pd.to_datetime(df_students['date_of_birth'], errors='coerce')\n",
        "\n",
        "# 5. Show dtypes after\n",
        "print(\"After:\", df_students.dtypes)\n"
      ]
    },
    {
      "cell_type": "markdown",
      "id": "c5496130",
      "metadata": {
        "id": "c5496130"
      },
      "source": [
        "**Exercise 8.2.1:** In `df_students`, the 'mark' column should be numeric.\n",
        "1. Print the `dtype` of the 'mark' column before conversion.\n",
        "2. Use `pd.to_numeric()` to ensure it's a numeric type, coercing errors.\n",
        "3. Then, convert it to an integer type (if appropriate, or float if decimals are important - let's assume integer for this exercise after ensuring it's numeric and NaNs are handled, e.g. filled with 0).\n",
        "4. Print the `dtype` of the 'mark' column after conversion."
      ]
    },
    {
      "cell_type": "code",
      "execution_count": null,
      "id": "b5db3c5a",
      "metadata": {
        "id": "b5db3c5a"
      },
      "outputs": [],
      "source": [
        "# Exercise 8.2.1 Code Cell\n",
        "if 'df_students' in globals():\n",
        "    df_mark_typed = df_students.copy()\n",
        "    print(\"Before 'mark' conversion dtype:\", df_mark_typed['mark'].dtype)\n",
        "\n",
        "    df_mark_typed['mark'] = pd.to_numeric(df_mark_typed['mark'], errors='coerce')\n",
        "    df_mark_typed['mark'] = df_mark_typed['mark'].fillna(0).astype(int) # Fill NaNs then convert to int\n",
        "\n",
        "    print(\"After 'mark' conversion dtype:\", df_mark_typed['mark'].dtype)\n",
        "else:\n",
        "    print(\"df_students not loaded.\")"
      ]
    },
    {
      "cell_type": "markdown",
      "id": "e8c92f30",
      "metadata": {
        "id": "e8c92f30"
      },
      "source": [
        "**Exercise 8.2.2:** Create a new column 'is_adult' (boolean) in a copy of `df_students`. First, add an 'age' column (e.g., `df_copy['age'] = df_copy['id'] + 15`). Set 'is_adult' to `True` if age >= 18, else `False`. Ensure 'is_adult' is of boolean type. Print the head with 'name', 'age', and 'is_adult'."
      ]
    },
    {
      "cell_type": "code",
      "execution_count": null,
      "id": "96db29a2",
      "metadata": {
        "id": "96db29a2"
      },
      "outputs": [],
      "source": [
        "# Exercise 8.2.2 Code Cell\n",
        "if 'df_students' in globals():\n",
        "    df_students_adult = df_students.copy()\n",
        "    # Ensure 'id' is numeric for age calculation\n",
        "    df_students_adult['id'] = pd.to_numeric(df_students_adult['id'], errors='coerce').fillna(0)\n",
        "    df_students_adult['age'] = df_students_adult['id'] + 15\n",
        "\n",
        "    df_students_adult['is_adult'] = (df_students_adult['age'] >= 18).astype(bool)\n",
        "\n",
        "    print(df_students_adult[['name', 'age', 'is_adult']].head())\n",
        "    print(\"\\nData type of 'is_adult':\", df_students_adult['is_adult'].dtype)\n",
        "else:\n",
        "    print(\"df_students not loaded.\")"
      ]
    },
    {
      "cell_type": "markdown",
      "id": "b3553818",
      "metadata": {
        "id": "b3553818"
      },
      "source": [
        "# **✨ Group Activity 7: Debugging `apply()` for a New Column ✨**\n",
        "\n",
        "**Scenario:** You want to create a 'name_length' column showing the length of each student's name.\n",
        "1. **Buggy Code attempt:**\n",
        "   ```python\n",
        "# **df_students_copy = df_students.copy()**\n",
        "# **df_students_copy['name_length'] = df_students_copy['name'].apply(len()) # Incorrect use of len()**\n",
        "# **print(df_students_copy[['name', 'name_length']].head())**\n",
        "   ```\n",
        "2. Discuss: Why does `len()` (with parentheses) cause an error inside `apply()` here? How should `len` (or a `lambda` using `len`) be correctly used with `apply` for this task?\n",
        "3. Write the corrected code. Also, consider what happens if a name is `NaN`. How could you handle that (e.g., by filling NaN names with an empty string or a placeholder before applying `len`)?"
      ]
    },
    {
      "cell_type": "code",
      "execution_count": null,
      "id": "18cb86c8",
      "metadata": {
        "id": "18cb86c8"
      },
      "outputs": [],
      "source": [
        "# Group Activity 7 Code Cell\n",
        "if 'df_students' in globals():\n",
        "    df_students_namelen = df_students.copy()\n",
        "    # Buggy attempt - len() would call the function immediately, not pass it to apply.\n",
        "    # df_students_namelen['name_length'] = df_students_namelen['name'].apply(len())\n",
        "\n",
        "    # Corrected code:\n",
        "    # Handle potential NaNs in 'name' column first, as len() on NaN will error.\n",
        "    df_students_namelen['name'] = df_students_namelen['name'].fillna('') # Fill NaN names with empty string\n",
        "\n",
        "    # Option 1: Pass the function `len` directly (without parentheses)\n",
        "    # df_students_namelen['name_length'] = df_students_namelen['name'].apply(len)\n",
        "\n",
        "    # Option 2: Use a lambda function\n",
        "    df_students_namelen['name_length'] = df_students_namelen['name'].apply(lambda x: len(str(x))) # str(x) for robustness if not all are strings\n",
        "\n",
        "    print(df_students_namelen[['name', 'name_length']].head())\n",
        "else:\n",
        "    print(\"df_students not loaded.\")"
      ]
    },
    {
      "cell_type": "markdown",
      "id": "a02a37ef",
      "metadata": {
        "id": "a02a37ef"
      },
      "source": [
        "---\n",
        "# **9. Basic Statistics and Aggregation 📊**\n",
        "\n",
        "Pandas makes it easy to get insights from your data through statistics and aggregation.\n",
        "\n",
        "* `df['column'].value_counts()`: Counts of unique values in a Series (good for categorical data).\n",
        "* Basic statistics on Series/DataFrame columns:\n",
        "    * `df['column'].mean()`\n",
        "    * `df['column'].median()`\n",
        "    * `df['column'].min()`, `df['column'].max()`\n",
        "    * `df['column'].std()` (standard deviation)\n",
        "    * `df['column'].sum()`\n",
        "    * `df['column'].count()` (non-null values)\n",
        "* `df.groupby('column_to_group_by')`: Groups data based on categories in a column. You can then apply aggregate functions (like mean, sum, count) to the groups.\n",
        "    * Example: `df.groupby('class')['mark'].mean()` (average mark per class)"
      ]
    },
    {
      "cell_type": "code",
      "execution_count": null,
      "id": "a5602db5",
      "metadata": {
        "id": "a5602db5"
      },
      "outputs": [],
      "source": [
        "# Assume df_students has columns: 'student_class', 'score', 'gender', 'id'\n",
        "\n",
        "# 1. Counts of unique values (good for categorical data)\n",
        "print(\"Counts per student_class:\")\n",
        "print(df_students['student_class'].value_counts(), \"\\n\")\n",
        "\n",
        "# 2. Basic statistics on the 'score' column\n",
        "print(\"Mean score:       \", df_students['score'].mean())\n",
        "print(\"Median score:     \", df_students['score'].median())\n",
        "print(\"Min score:        \", df_students['score'].min())\n",
        "print(\"Max score:        \", df_students['score'].max())\n",
        "print(\"Std deviation:    \", df_students['score'].std())\n",
        "print(\"Sum of scores:    \", df_students['score'].sum())\n",
        "print(\"Count (non-null): \", df_students['score'].count(), \"\\n\")\n",
        "\n",
        "# 3. Grouping and aggregation\n",
        "print(\"Average score per student_class:\")\n",
        "print(df_students.groupby('student_class')['score'].mean(), \"\\n\")\n",
        "\n",
        "# 4. Multiple aggregations at once\n",
        "print(\"Aggregated stats per student_class:\")\n",
        "print(\n",
        "    df_students\n",
        "      .groupby('student_class')['score']\n",
        "      .agg(['mean', 'median', 'min', 'max', 'std', 'count'])\n",
        ")\n"
      ]
    },
    {
      "cell_type": "markdown",
      "id": "c9e674ed",
      "metadata": {
        "id": "c9e674ed"
      },
      "source": [
        "**Exercise 1**\n",
        "\n",
        "Add your solution below:"
      ]
    },
    {
      "cell_type": "code",
      "execution_count": null,
      "id": "7941168d",
      "metadata": {
        "id": "7941168d"
      },
      "outputs": [],
      "source": [
        "# Your code here"
      ]
    },
    {
      "cell_type": "markdown",
      "id": "c833f7df",
      "metadata": {
        "id": "c833f7df"
      },
      "source": [
        "**Exercise 2**\n",
        "\n",
        "Add your solution below:"
      ]
    },
    {
      "cell_type": "code",
      "execution_count": null,
      "id": "fc8b9509",
      "metadata": {
        "id": "fc8b9509"
      },
      "outputs": [],
      "source": [
        "# Your code here"
      ]
    },
    {
      "cell_type": "markdown",
      "id": "12c0c758",
      "metadata": {
        "id": "12c0c758"
      },
      "source": [
        "**Group Activity**\n",
        "\n",
        "Discuss with your group: ..."
      ]
    },
    {
      "cell_type": "markdown",
      "id": "742fd896",
      "metadata": {
        "id": "742fd896"
      },
      "source": [
        "**Exercise 9.1.1:** Using `df_students`:\n",
        "1. Get the value counts for the 'gender' column.\n",
        "2. Calculate and print the percentage of each gender using `value_counts(normalize=True) * 100`."
      ]
    },
    {
      "cell_type": "code",
      "execution_count": null,
      "id": "15fb59c9",
      "metadata": {
        "id": "15fb59c9"
      },
      "outputs": [],
      "source": [
        "# Exercise 9.1.1 Code Cell\n",
        "if 'df_students' in globals():\n",
        "    print(\"Value counts for gender:\")\n",
        "    print(df_students['gender'].value_counts())\n",
        "    print(\"\\nPercentage of each gender:\")\n",
        "    print(df_students['gender'].value_counts(normalize=True) * 100)\n",
        "else:\n",
        "    print(\"df_students not loaded.\")"
      ]
    },
    {
      "cell_type": "markdown",
      "id": "e9aed07b",
      "metadata": {
        "id": "e9aed07b"
      },
      "source": [
        "**Exercise 9.1.2:** Using `df_students`:\n",
        "1. Find the maximum mark achieved by 'male' students and 'female' students separately (Hint: use `groupby()`).\n",
        "2. Find the total number of students in each 'class'."
      ]
    },
    {
      "cell_type": "code",
      "execution_count": null,
      "id": "8d743b16",
      "metadata": {
        "id": "8d743b16"
      },
      "outputs": [],
      "source": [
        "# Exercise 9.1.2 Code Cell\n",
        "if 'df_students' in globals():\n",
        "    df_students['mark'] = pd.to_numeric(df_students['mark'], errors='coerce') # Ensure numeric\n",
        "\n",
        "    print(\"Maximum mark by gender:\")\n",
        "    print(df_students.groupby('gender')['mark'].max())\n",
        "\n",
        "    print(\"\\nTotal number of students per class:\")\n",
        "    print(df_students.groupby('class')['id'].count()) # Or .size()\n",
        "else:\n",
        "    print(\"df_students not loaded.\")"
      ]
    },
    {
      "cell_type": "markdown",
      "id": "c3b682b2",
      "metadata": {
        "id": "c3b682b2"
      },
      "source": [
        "# **✨ Group Activity 8: Interpreting `groupby()` Results ✨**\n",
        "\n",
        "**Scenario:** You run `df_students.groupby('class')['mark'].agg(['mean', 'min', 'max', 'count'])`.\n",
        "1. Execute this code.\n",
        "2. Discuss what each column in the resulting DataFrame represents (`mean`, `min`, `max`, `count`).\n",
        "3. Pick one 'class' from the output (e.g., 'Four'). Explain in plain English what the statistics tell you about the marks of students in that class."
      ]
    },
    {
      "cell_type": "code",
      "execution_count": null,
      "id": "14a0601e",
      "metadata": {
        "id": "14a0601e"
      },
      "outputs": [],
      "source": [
        "# Group Activity 8 Code Cell\n",
        "if 'df_students' in globals():\n",
        "    df_students['mark'] = pd.to_numeric(df_students['mark'], errors='coerce')\n",
        "    class_stats = df_students.groupby('class')['mark'].agg(['mean', 'min', 'max', 'count'])\n",
        "    print(class_stats)\n",
        "    # Discussion:\n",
        "    # 'mean': Average mark for students in that class.\n",
        "    # 'min': Lowest mark achieved by a student in that class.\n",
        "    # 'max': Highest mark achieved by a student in that class.\n",
        "    # 'count': Number of students in that class who have a non-missing mark.\n",
        "    # Example for 'Four': \"In Class Four, there are [count] students with recorded marks.\n",
        "    # The average mark is [mean]. The highest mark was [max], and the lowest was [min].\"\n",
        "else:\n",
        "    print(\"df_students not loaded.\")"
      ]
    },
    {
      "cell_type": "markdown",
      "id": "0935aa29",
      "metadata": {
        "id": "0935aa29"
      },
      "source": [
        "---\n",
        "# **10. Basic Visualizations 📈📉**\n",
        "\n",
        "Visualizations help in understanding data patterns and trends. Pandas integrates with Matplotlib for plotting.\n",
        "Remember we imported `matplotlib.pyplot as plt`.\n",
        "\n"
      ]
    },
    {
      "cell_type": "markdown",
      "id": "f4f40011",
      "metadata": {
        "id": "f4f40011"
      },
      "source": [
        "**10. Basic Visualization**\n",
        "\n",
        "Visualizing data helps you see patterns, trends, and outliers quickly. Pandas integrates with matplotlib for simple plotting:\n",
        "\n",
        "- **Bar Charts**: `df['column'].value_counts().plot(kind='bar')` displays counts.\n",
        "- **Line Plots**: `df['column'].plot()` shows how a variable changes over an index.\n",
        "- **Scatter Plots**: `df.plot.scatter(x='col1', y='col2')` examines relationships between two variables.\n",
        "\n",
        "Remember to `import matplotlib.pyplot as plt` and then call `plt.show()` after plotting if needed. Always label axes with `plt.xlabel()` and `plt.ylabel()` and add a title with `plt.title()` for clarity."
      ]
    },
    {
      "cell_type": "markdown",
      "id": "3f3ffeb2",
      "metadata": {
        "id": "3f3ffeb2"
      },
      "source": [
        "# **10.1. Bar Plots**\n",
        "Bar plots are useful for comparing categorical data.\n",
        "`df['column'].value_counts().plot(kind='bar', title='My Bar Plot')`\n",
        "`plt.xlabel('Categories')`\n",
        "`plt.ylabel('Count')`\n",
        "`plt.xticks(rotation=45)` (to rotate x-axis labels if they overlap)\n",
        "`plt.show()`"
      ]
    },
    {
      "cell_type": "code",
      "execution_count": null,
      "id": "deb89bee",
      "metadata": {
        "id": "deb89bee"
      },
      "outputs": [],
      "source": [
        "# Exercise 10.1.1 Code Cell\n",
        "if 'df_students' in globals():\n",
        "    ids_for_hist = pd.to_numeric(df_students['id'], errors='coerce').dropna()\n",
        "    if not ids_for_hist.empty:\n",
        "        ids_for_hist.plot(kind='hist', title='Distribution of Student IDs', bins=10, edgecolor='blue')\n",
        "        plt.xlabel('Student ID')\n",
        "        plt.ylabel('Frequency')\n",
        "        plt.show()\n",
        "    else:\n",
        "        print(\"No valid IDs to plot for histogram.\")\n",
        "else:\n",
        "    print(\"df_students not loaded.\")"
      ]
    },
    {
      "cell_type": "code",
      "source": [
        "# Same Bar Visual with Matplotlib Library\n",
        "# 1. Compute counts per class\n",
        "counts = df_students['student_class'].value_counts()\n",
        "classes = counts.index.tolist()\n",
        "values = counts.values\n",
        "\n",
        "# 2. Create the bar chart with matplotlib\n",
        "plt.figure(figsize=(8, 5))\n",
        "plt.bar(classes, values, edgecolor='black')\n",
        "\n",
        "# 3. Add titles and labels\n",
        "plt.title('Number of Students per Class')\n",
        "plt.xlabel('Class')\n",
        "plt.ylabel('Number of Students')\n",
        "\n",
        "# 4. Add a grid on the y-axis for readability\n",
        "plt.grid(axis='y', alpha=0.75)\n",
        "\n",
        "# 5. Rotate x-labels if they overlap\n",
        "plt.xticks(rotation=30)\n",
        "\n",
        "plt.tight_layout()\n",
        "plt.show()\n"
      ],
      "metadata": {
        "id": "QrnEk-j9z4By"
      },
      "id": "QrnEk-j9z4By",
      "execution_count": null,
      "outputs": []
    },
    {
      "cell_type": "markdown",
      "id": "5db0d76a",
      "metadata": {
        "id": "5db0d76a"
      },
      "source": [
        "**Exercise 10.1.1:** Create a bar plot showing the counts of students by 'gender'. Add appropriate title and labels."
      ]
    },
    {
      "cell_type": "code",
      "execution_count": null,
      "id": "15a01f14",
      "metadata": {
        "id": "15a01f14"
      },
      "outputs": [],
      "source": [
        "# Exercise 10.2.1 Code Cell\n",
        "if 'df_students' in globals():\n",
        "    # Fill NA for gender to include them as a category if desired, or dropna()\n",
        "    gender_counts = df_students['gender'].fillna('Unknown').value_counts()\n",
        "    if not gender_counts.empty:\n",
        "        gender_counts.plot(kind='bar', title='Student Counts by Gender', color=['pink', 'lightblue', 'lightgray'])\n",
        "        plt.xlabel('Gender')\n",
        "        plt.ylabel('Number of Students')\n",
        "        plt.xticks(rotation=0)\n",
        "        plt.show()\n",
        "    else:\n",
        "        print(\"No data for 'gender' value counts plot.\")\n",
        "else:\n",
        "    print(\"df_students not loaded.\")"
      ]
    },
    {
      "cell_type": "markdown",
      "id": "e1641370",
      "metadata": {
        "id": "e1641370"
      },
      "source": [
        "# **10.2. Scatter Plots**\n",
        "Scatter plots show the relationship between two numerical variables.\n",
        "`df.plot.scatter(x='col1', y='col2', title='My Scatter Plot')`\n",
        "`plt.show()`"
      ]
    },
    {
      "cell_type": "code",
      "execution_count": null,
      "id": "c9912449",
      "metadata": {
        "id": "c9912449"
      },
      "outputs": [],
      "source": [
        "# Example 10.2.1: Scatter plot of 'id' vs 'mark'\n",
        "if 'df_students' in globals():\n",
        "    df_students['id'] = pd.to_numeric(df_students['id'], errors='coerce')\n",
        "    df_students['mark'] = pd.to_numeric(df_students['mark'], errors='coerce')\n",
        "    # Drop rows where either id or mark is NaN for a clean plot\n",
        "    df_scatter_data = df_students.dropna(subset=['id', 'mark'])\n",
        "    if not df_scatter_data.empty:\n",
        "        df_scatter_data.plot.scatter(x='id', y='mark', title='Student ID vs. Mark', color='green', alpha=0.6)\n",
        "        plt.xlabel('Student ID')\n",
        "        plt.ylabel('Mark Achieved')\n",
        "        plt.grid(True)\n",
        "        plt.show()\n",
        "    else:\n",
        "        print(\"Not enough valid data for scatter plot after cleaning 'id' and 'mark'.\")\n",
        "else:\n",
        "    print(\"df_students is not loaded or has issues with 'id'/'mark' columns.\")"
      ]
    },
    {
      "cell_type": "markdown",
      "id": "b14b296b",
      "metadata": {
        "id": "b14b296b"
      },
      "source": [
        "**Exercise 10.2.1:** Create a scatter plot of 'mark' vs 'id' (reverse of the example). Does it look different? Why or why not? Add a title."
      ]
    },
    {
      "cell_type": "code",
      "execution_count": null,
      "id": "6b8f81c0",
      "metadata": {
        "id": "6b8f81c0"
      },
      "outputs": [],
      "source": [
        "# Exercise 10.2.1 Code Cell\n",
        "if 'df_students' in globals():\n",
        "    df_scatter_data_rev = df_students.dropna(subset=['id', 'mark'])\n",
        "    if not df_scatter_data_rev.empty:\n",
        "        df_scatter_data_rev.plot.scatter(x='mark', y='id', title='Mark vs. Student ID', color='purple', alpha=0.6)\n",
        "        plt.xlabel('Mark Achieved')\n",
        "        plt.ylabel('Student ID')\n",
        "        plt.grid(True)\n",
        "        plt.show()\n",
        "        print(\"The plot looks different because the axes are swapped. The relationship visualization changes perspective.\")\n",
        "    else:\n",
        "        print(\"Not enough valid data for scatter plot.\")\n",
        "else:\n",
        "    print(\"df_students not loaded.\")"
      ]
    },
    {
      "cell_type": "markdown",
      "source": [
        "**10.3. Line Plots**  \n",
        "Line plots connect data points in the order they appear, making them ideal for visualizing trends over a sequence (e.g., time series).  \n",
        "`df.plot.line(x='col1', y='col2', title='My Line Plot')`  \n",
        "`plt.show()`  \n"
      ],
      "metadata": {
        "id": "Li9Ma0H213AC"
      },
      "id": "Li9Ma0H213AC"
    },
    {
      "cell_type": "code",
      "source": [
        "# Plot 'score' over the DataFrame index using pandas’ built-in plotting\n",
        "ax = df_students['score'].plot.line(\n",
        "    title='Trend of Score Over Index',\n",
        "    xlabel='Record Number',\n",
        "    ylabel='Score',\n",
        "    grid=True\n",
        ")\n"
      ],
      "metadata": {
        "id": "q-TcXCQB14hN"
      },
      "id": "q-TcXCQB14hN",
      "execution_count": null,
      "outputs": []
    },
    {
      "cell_type": "markdown",
      "id": "99e8d6d8",
      "metadata": {
        "id": "99e8d6d8"
      },
      "source": [
        "---\n",
        "# **11. Best Practices Recap 🌟**\n",
        "\n",
        "* **Clear Variable Names:** Use descriptive names for DataFrames and Series (e.g., `df_students`, `mean_score`).\n",
        "* **Comment Your Code:** Explain complex steps or a non-obvious logic with `#` comments.\n",
        "* **Inspect Frequently:** Use `.head()`, `.info()`, `.shape`, `.describe()` often to check your data and the results of operations.\n",
        "* **Work on Copies:** When performing operations that modify a DataFrame (especially `inplace=True` or tricky transformations), it's often safer to work on a copy: `df_copy = df.copy()`.\n",
        "* **Break Down Problems:** For complex tasks, break them into smaller, manageable steps.\n",
        "* **Understand Your Data Types:** Ensure columns have the correct data types for the operations you want to perform."
      ]
    },
    {
      "cell_type": "markdown",
      "id": "7fe67b52",
      "metadata": {
        "id": "7fe67b52"
      },
      "source": [
        "---\n",
        "# **🎉 Day 3 Wrap-up**\n",
        "\n",
        "Congratulations! You've learned the fundamentals of data analysis using Pandas. You can now:\n",
        "* Create and understand Series and DataFrames.\n",
        "* Load data from CSV files.\n",
        "* Inspect, clean, and transform datasets.\n",
        "* Calculate basic statistics and perform aggregations.\n",
        "* Create simple visualizations to explore your data.\n",
        "\n",
        "**Keep practicing!** The more you work with data, the more comfortable you'll become with Pandas. Try these techniques on different datasets or explore more advanced Pandas features.\n",
        "\n",
        "**Next Steps:** We'll build upon these skills to tackle more complex data analysis tasks and possibly explore other libraries like Seaborn for more advanced visualizations."
      ]
    }
  ],
  "metadata": {
    "kernelspec": {
      "display_name": "Python 3",
      "language": "python",
      "name": "python3"
    },
    "language_info": {
      "codemirror_mode": {
        "name": "ipython",
        "version": 3
      },
      "file_extension": ".py",
      "mimetype": "text/x-python",
      "name": "python",
      "nbconvert_exporter": "python",
      "pygments_lexer": "ipython3",
      "version": "3.10.0"
    },
    "colab": {
      "provenance": []
    }
  },
  "nbformat": 4,
  "nbformat_minor": 5
}