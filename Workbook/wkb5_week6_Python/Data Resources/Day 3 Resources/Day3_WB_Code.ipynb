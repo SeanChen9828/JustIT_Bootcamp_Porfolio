{
  "nbformat": 4,
  "nbformat_minor": 0,
  "metadata": {
    "colab": {
      "provenance": []
    },
    "kernelspec": {
      "name": "python3",
      "display_name": "Python 3"
    },
    "language_info": {
      "name": "python"
    }
  },
  "cells": [
    {
      "cell_type": "code",
      "source": [
        "!python --version\n",
        "!pip --version"
      ],
      "metadata": {
        "colab": {
          "base_uri": "https://localhost:8080/"
        },
        "id": "S_4wm8XtAZX7",
        "outputId": "250c560b-0809-4d5e-ae07-6b0623e2b192"
      },
      "execution_count": 26,
      "outputs": [
        {
          "output_type": "stream",
          "name": "stdout",
          "text": [
            "Python 3.11.11\n",
            "pip 24.1.2 from /usr/local/lib/python3.11/dist-packages/pip (python 3.11)\n"
          ]
        }
      ]
    },
    {
      "cell_type": "code",
      "source": [
        "df = pd.read_csv('student.csv')"
      ],
      "metadata": {
        "id": "ZID6ow3bEPh9"
      },
      "execution_count": 109,
      "outputs": []
    },
    {
      "cell_type": "code",
      "source": [
        "# Select the 'name' column\n",
        "name_column = df[\"name\"]\n"
      ],
      "metadata": {
        "id": "B6A_OrMrp1LX"
      },
      "execution_count": 110,
      "outputs": []
    },
    {
      "cell_type": "code",
      "source": [
        "# Select the 'name' and 'mark' columns\n",
        "selected_columns = df[[\"name\", \"mark\"]]\n"
      ],
      "metadata": {
        "id": "yScyqXOYqSI7"
      },
      "execution_count": 111,
      "outputs": []
    },
    {
      "cell_type": "code",
      "source": [
        "# Select rows where 'class' is 'Four'\n",
        "class_four_students = df[df[\"class\"] == \"Four\"]\n"
      ],
      "metadata": {
        "id": "9bMMucpuqTQr"
      },
      "execution_count": 112,
      "outputs": []
    },
    {
      "cell_type": "code",
      "source": [
        "# Add 'passed' column (Pass if mark >= 60, otherwise Fail)\n",
        "df[\"passed\"] = df[\"mark\"].apply(lambda x: \"Pass\" if x >= 60 else \"Fail\")\n"
      ],
      "metadata": {
        "id": "rHIp5md0qhda"
      },
      "execution_count": 113,
      "outputs": []
    },
    {
      "cell_type": "code",
      "source": [
        "# Rename the 'mark' column to 'score'\n",
        "df.rename(columns={\"mark\": \"score\"}, inplace=True)\n"
      ],
      "metadata": {
        "id": "APx8pr2yqttj"
      },
      "execution_count": 114,
      "outputs": []
    },
    {
      "cell_type": "code",
      "source": [
        "# Drop the 'passed' column\n",
        "df.drop(columns=[\"passed\"], inplace=True)\n"
      ],
      "metadata": {
        "id": "MXmolt6lq7ud"
      },
      "execution_count": 115,
      "outputs": []
    },
    {
      "cell_type": "code",
      "source": [
        "# Group by 'class' and calculate the mean of 'mark'\n",
        "class_mean_score = df.groupby(\"class\")[\"score\"].mean()\n",
        "print(class_mean_score)\n",
        "\n"
      ],
      "metadata": {
        "colab": {
          "base_uri": "https://localhost:8080/"
        },
        "id": "fuPLUSI5rmX0",
        "outputId": "e1e8b707-1c4e-4b0e-d0aa-27bd3aa34f3b"
      },
      "execution_count": 132,
      "outputs": [
        {
          "output_type": "stream",
          "name": "stdout",
          "text": [
            "class\n",
            "Eight    79.000000\n",
            "Fifth    78.000000\n",
            "Five     80.000000\n",
            "Four     68.750000\n",
            "Nine     41.500000\n",
            "Seven    77.600000\n",
            "Six      82.571429\n",
            "Three    73.666667\n",
            "Name: score, dtype: float64\n"
          ]
        }
      ]
    },
    {
      "cell_type": "code",
      "source": [
        "# Count the number of students in each class\n",
        "students_per_class = df[\"class\"].value_counts()\n",
        "print(students_per_class)\n"
      ],
      "metadata": {
        "colab": {
          "base_uri": "https://localhost:8080/"
        },
        "id": "qDFmFg5VsGcQ",
        "outputId": "1af8c902-6fd6-4732-ed0b-4ba7c72dacfb"
      },
      "execution_count": 121,
      "outputs": [
        {
          "output_type": "stream",
          "name": "stdout",
          "text": [
            "class\n",
            "Seven    10\n",
            "Four      8\n",
            "Six       7\n",
            "Three     3\n",
            "Five      2\n",
            "Nine      2\n",
            "Fifth     1\n",
            "Eight     1\n",
            "Name: count, dtype: int64\n"
          ]
        }
      ]
    },
    {
      "cell_type": "code",
      "source": [
        "# Create the pivot table\n",
        "pivot_table = df.pivot_table(values=\"score\", index=\"class\", columns=\"gender\", aggfunc=\"mean\")\n",
        "print(pivot_table)\n"
      ],
      "metadata": {
        "colab": {
          "base_uri": "https://localhost:8080/"
        },
        "id": "L0lZHvfMsrLO",
        "outputId": "7ec09535-23b7-417c-f639-6d0dfed80ba3"
      },
      "execution_count": 123,
      "outputs": [
        {
          "output_type": "stream",
          "name": "stdout",
          "text": [
            "gender  female  male\n",
            "class               \n",
            "Eight      NaN  79.0\n",
            "Fifth      NaN  78.0\n",
            "Five       NaN  80.0\n",
            "Four      63.8  77.0\n",
            "Nine      65.0  18.0\n",
            "Seven     81.4  73.8\n",
            "Six       89.2  54.0\n",
            "Three      NaN  70.0\n"
          ]
        }
      ]
    },
    {
      "cell_type": "code",
      "source": [
        "# Function to assign grades based on marks\n",
        "def assign_grade(score):\n",
        "    if score >= 85:\n",
        "        return \"A\"\n",
        "    elif score >= 70:\n",
        "        return \"B\"\n",
        "    elif score >= 60:\n",
        "        return \"C\"\n",
        "    else:\n",
        "        return \"D\"\n",
        "\n",
        "# Apply the function to create the 'grade' column\n",
        "df[\"grade\"] = df[\"score\"].apply(assign_grade)\n",
        "print(df)\n"
      ],
      "metadata": {
        "colab": {
          "base_uri": "https://localhost:8080/"
        },
        "collapsed": true,
        "id": "TmtaYUSGuMtl",
        "outputId": "4410cbe3-f9c3-41ad-bc0c-e6cf4eeae412"
      },
      "execution_count": 124,
      "outputs": [
        {
          "output_type": "stream",
          "name": "stdout",
          "text": [
            "    id         name  class  score  gender grade\n",
            "0    1     John Deo   Four     75  female     B\n",
            "1    2     Max Ruin  Three     85    male     A\n",
            "2    3       Arnold  Three     55    male     D\n",
            "3    4   Krish Star   Four     60  female     C\n",
            "4    5    John Mike   Four     60  female     C\n",
            "5    6    Alex John   Four     55    male     D\n",
            "6    7  My John Rob  Fifth     78    male     B\n",
            "7    8       Asruid   Five     85    male     A\n",
            "8    9      Tes Qry    Six     78     NaN     B\n",
            "9   10     Big John   Four     55  female     D\n",
            "10  11       Ronald    Six     89  female     A\n",
            "11  12        Recky    Six     94  female     A\n",
            "12  13          Kty  Seven     88  female     A\n",
            "13  14         Bigy  Seven     88  female     A\n",
            "14  15     Tade Row    NaN     88    male     A\n",
            "15  16        Gimmy   Four     88    male     A\n",
            "16  17        Tumyu    Six     54    male     D\n",
            "17  18        Honny   Five     75    male     B\n",
            "18  19        Tinny   Nine     18    male     D\n",
            "19  20       Jackly   Nine     65  female     C\n",
            "20  21   Babby John   Four     69  female     C\n",
            "21  22       Reggid  Seven     55  female     D\n",
            "22  23        Herod  Eight     79    male     B\n",
            "23  24    Tiddy Now  Seven     78    male     B\n",
            "24  25     Giff Tow  Seven     88    male     A\n",
            "25  26       Crelea  Seven     79    male     B\n",
            "26  27          NaN  Three     81     NaN     B\n",
            "27  28    Rojj Base  Seven     86  female     A\n",
            "28  29  Tess Played  Seven     55    male     D\n",
            "29  30    Reppy Red    Six     79  female     B\n",
            "30  31  Marry Toeey   Four     88    male     A\n",
            "31  32    Binn Rott  Seven     90  female     A\n",
            "32  33    Kenn Rein    Six     96  female     A\n",
            "33  34     Gain Toe  Seven     69    male     C\n",
            "34  35   Rows Noump    Six     88  female     A\n"
          ]
        }
      ]
    },
    {
      "cell_type": "code",
      "source": [
        "# Sort the DataFrame by 'score' in descending order\n",
        "df_sorted = df.sort_values(\"score\", ascending=False)\n",
        "print(df_sorted)\n"
      ],
      "metadata": {
        "colab": {
          "base_uri": "https://localhost:8080/"
        },
        "collapsed": true,
        "id": "nwEIhTiFvAR9",
        "outputId": "b552bce6-9009-4137-c9d9-ce2fde85fb03"
      },
      "execution_count": 127,
      "outputs": [
        {
          "output_type": "stream",
          "name": "stdout",
          "text": [
            "    id         name  class  score  gender grade\n",
            "32  33    Kenn Rein    Six     96  female     A\n",
            "11  12        Recky    Six     94  female     A\n",
            "31  32    Binn Rott  Seven     90  female     A\n",
            "10  11       Ronald    Six     89  female     A\n",
            "24  25     Giff Tow  Seven     88    male     A\n",
            "15  16        Gimmy   Four     88    male     A\n",
            "14  15     Tade Row    NaN     88    male     A\n",
            "13  14         Bigy  Seven     88  female     A\n",
            "12  13          Kty  Seven     88  female     A\n",
            "34  35   Rows Noump    Six     88  female     A\n",
            "30  31  Marry Toeey   Four     88    male     A\n",
            "27  28    Rojj Base  Seven     86  female     A\n",
            "7    8       Asruid   Five     85    male     A\n",
            "1    2     Max Ruin  Three     85    male     A\n",
            "26  27          NaN  Three     81     NaN     B\n",
            "22  23        Herod  Eight     79    male     B\n",
            "29  30    Reppy Red    Six     79  female     B\n",
            "25  26       Crelea  Seven     79    male     B\n",
            "8    9      Tes Qry    Six     78     NaN     B\n",
            "6    7  My John Rob  Fifth     78    male     B\n",
            "23  24    Tiddy Now  Seven     78    male     B\n",
            "0    1     John Deo   Four     75  female     B\n",
            "17  18        Honny   Five     75    male     B\n",
            "20  21   Babby John   Four     69  female     C\n",
            "33  34     Gain Toe  Seven     69    male     C\n",
            "19  20       Jackly   Nine     65  female     C\n",
            "4    5    John Mike   Four     60  female     C\n",
            "3    4   Krish Star   Four     60  female     C\n",
            "21  22       Reggid  Seven     55  female     D\n",
            "9   10     Big John   Four     55  female     D\n",
            "28  29  Tess Played  Seven     55    male     D\n",
            "5    6    Alex John   Four     55    male     D\n",
            "2    3       Arnold  Three     55    male     D\n",
            "16  17        Tumyu    Six     54    male     D\n",
            "18  19        Tinny   Nine     18    male     D\n"
          ]
        }
      ]
    },
    {
      "cell_type": "code",
      "source": [
        "from google.colab import drive\n",
        "# Mount Google Drive\n",
        "drive.mount('/content/drive')\n",
        "\n",
        "# Define the file path in Google Drive\n",
        "save_path = \"/content/drive/My Drive/student_with_grades.csv\"\n",
        "\n",
        "# Save the DataFrame as a CSV file\n",
        "df.to_csv(save_path, index=False)\n",
        "\n",
        "# Print confirmation\n",
        "print(f\"File saved successfully at: {save_path}\")\n"
      ],
      "metadata": {
        "colab": {
          "base_uri": "https://localhost:8080/"
        },
        "id": "FSDnpFP8vGps",
        "outputId": "0d15ce8d-04c7-4dd9-82f9-a69e02a51815"
      },
      "execution_count": 129,
      "outputs": [
        {
          "output_type": "stream",
          "name": "stdout",
          "text": [
            "Mounted at /content/drive\n",
            "File saved successfully at: /content/drive/My Drive/student_with_grades.csv\n"
          ]
        }
      ]
    },
    {
      "cell_type": "code",
      "source": [
        "import matplotlib.pyplot as plt\n",
        "\n",
        "# Plot the pivot table as a column chart (bar chart)\n",
        "pivot_table.plot(kind=\"bar\", figsize=(10, 6), width=0.8)\n",
        "\n",
        "# Customize the chart\n",
        "plt.title(\"Average Score by Class and Gender\")\n",
        "plt.xlabel(\"Class\")\n",
        "plt.ylabel(\"Average Score\")\n",
        "plt.xticks(rotation=0)  # Keep class labels readable\n",
        "plt.legend(title=\"Gender\")\n",
        "plt.grid(axis=\"y\", linestyle=\"--\", alpha=0.7)\n",
        "\n",
        "# Show the plot\n",
        "plt.show()\n"
      ],
      "metadata": {
        "colab": {
          "base_uri": "https://localhost:8080/",
          "height": 564
        },
        "id": "neFCHkNg0hJl",
        "outputId": "95a2cb1a-74e8-422e-9ea7-8bf3fbcd9866"
      },
      "execution_count": 131,
      "outputs": [
        {
          "output_type": "display_data",
          "data": {
            "text/plain": [
              "<Figure size 1000x600 with 1 Axes>"
            ],
            "image/png": "[encoded data removed]"
          },
          "metadata": {}
        }
      ]
    }
  ]
}