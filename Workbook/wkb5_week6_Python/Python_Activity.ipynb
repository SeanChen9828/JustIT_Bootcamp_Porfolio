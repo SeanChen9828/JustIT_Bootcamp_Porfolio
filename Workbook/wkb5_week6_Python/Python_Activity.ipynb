{
 "cells": [
  {
   "cell_type": "markdown",
   "id": "1d59ce7d",
   "metadata": {},
   "source": [
    "# Pandas, Matplotlib and Seaborn"
   ]
  },
  {
   "cell_type": "code",
   "execution_count": 2,
   "id": "a163483f",
   "metadata": {},
   "outputs": [],
   "source": [
    "import pandas as pd"
   ]
  },
  {
   "cell_type": "markdown",
   "id": "3e9cb5a8",
   "metadata": {},
   "source": [
    "[Dataset Soruce](https://www.kaggle.com/datasets/rajkumarpandey02/gdp-in-usd-per-capita-income-by-country)"
   ]
  },
  {
   "cell_type": "markdown",
   "id": "7d8ea84d",
   "metadata": {},
   "source": [
    "CONTENT\n",
    "<p>The figures presented here do not take into account differences in the cost of living in different countries, and the results vary greatly from one year to another based on fluctuations in the exchange rates of the country's currency. Such fluctuations change a country's ranking from one year to the next, even though they often make little or no difference to the standard of living of its population.\n",
    "\n",
    "GDP per capita is often considered an indicator of a country's standard of living; however, this is inaccurate because GDP per capita is not a measure of personal income.\n",
    "\n",
    "Comparisons of national income are also frequently made on the basis of purchasing power parity (PPP), to adjust for differences in the cost of living in different countries. (See List of countries by GDP (PPP) per capita.) PPP largely removes the exchange rate problem but not others; it does not reflect the value of economic output in international trade, and it also requires more estimation than GDP per capita. On the whole, PPP per capita figures are more narrowly spread than nominal GDP per capita figures.</p>"
   ]
  },
  {
   "cell_type": "markdown",
   "id": "439369dd",
   "metadata": {},
   "source": [
    "Here are some resources to learn about GDP: \n",
    "#### [World Bank](https://data.worldbank.org/indicator/ny.gdp.pcap.cd?most_recent_value_desc=false)\n",
    "#### [Our World in Data](https://ourworldindata.org/grapher/gdp-per-capita-worldbank)\n",
    "#### [IMF](https://www.imf.org/external/datamapper/NGDPD@WEO/OEMDC/ADVEC/WEOWORLD)\n",
    "#### [UN Data](https://data.un.org/Data.aspx?d=SNAAMA&f=grID%3A101%3BcurrID%3AUSD%3BpcFlag%3A1)\n",
    "\n"
   ]
  },
  {
   "cell_type": "code",
   "execution_count": null,
   "id": "d007012d",
   "metadata": {},
   "outputs": [],
   "source": [
    "df = pd.read_csv(\"GDP (nominal) per Capita.csv\",encoding= 'unicode_escape',  index_col=0)"
   ]
  },
  {
   "cell_type": "code",
   "execution_count": 3,
   "id": "9fd78d58",
   "metadata": {},
   "outputs": [],
   "source": [
    "df = pd.read_csv(r\"D:\\桌面\\bootcamp\\week 6\\Day 4 Resources\\GDP (nominal) per Capita.csv\",encoding= 'unicode_escape',  index_col=0)"
   ]
  },
  {
   "cell_type": "markdown",
   "id": "96a8f1f7",
   "metadata": {},
   "source": [
    "## EDA (Exploratory Data Analysis)"
   ]
  },
  {
   "cell_type": "markdown",
   "id": "5110f855-43ca-4e07-bab6-0339c0cfb3a0",
   "metadata": {},
   "source": [
    "### Use this section to explore and inspect dataset."
   ]
  },
  {
   "cell_type": "code",
   "execution_count": null,
   "id": "483250d8-486e-4046-9ebe-e73940f0f1f3",
   "metadata": {},
   "outputs": [],
   "source": [
    "# number of countries per region"
   ]
  },
  {
   "cell_type": "code",
   "execution_count": 4,
   "id": "635bebcc-cfea-4ab4-a504-73fd884e7bef",
   "metadata": {},
   "outputs": [
    {
     "data": {
      "text/html": [
       "<div>\n",
       "<style scoped>\n",
       "    .dataframe tbody tr th:only-of-type {\n",
       "        vertical-align: middle;\n",
       "    }\n",
       "\n",
       "    .dataframe tbody tr th {\n",
       "        vertical-align: top;\n",
       "    }\n",
       "\n",
       "    .dataframe thead th {\n",
       "        text-align: right;\n",
       "    }\n",
       "</style>\n",
       "<table border=\"1\" class=\"dataframe\">\n",
       "  <thead>\n",
       "    <tr style=\"text-align: right;\">\n",
       "      <th></th>\n",
       "      <th>Country/Territory</th>\n",
       "      <th>UN_Region</th>\n",
       "      <th>IMF_Estimate</th>\n",
       "      <th>IMF_Year</th>\n",
       "      <th>WorldBank_Estimate</th>\n",
       "      <th>WorldBank_Year</th>\n",
       "      <th>UN_Estimate</th>\n",
       "      <th>UN_Year</th>\n",
       "    </tr>\n",
       "  </thead>\n",
       "  <tbody>\n",
       "    <tr>\n",
       "      <th>1</th>\n",
       "      <td>Monaco</td>\n",
       "      <td>Europe</td>\n",
       "      <td>0</td>\n",
       "      <td>0</td>\n",
       "      <td>234316</td>\n",
       "      <td>2021</td>\n",
       "      <td>234317</td>\n",
       "      <td>2021</td>\n",
       "    </tr>\n",
       "    <tr>\n",
       "      <th>2</th>\n",
       "      <td>Liechtenstein</td>\n",
       "      <td>Europe</td>\n",
       "      <td>0</td>\n",
       "      <td>0</td>\n",
       "      <td>157755</td>\n",
       "      <td>2020</td>\n",
       "      <td>169260</td>\n",
       "      <td>2021</td>\n",
       "    </tr>\n",
       "    <tr>\n",
       "      <th>3</th>\n",
       "      <td>Luxembourg</td>\n",
       "      <td>Europe</td>\n",
       "      <td>132372</td>\n",
       "      <td>2023</td>\n",
       "      <td>133590</td>\n",
       "      <td>2021</td>\n",
       "      <td>133745</td>\n",
       "      <td>2021</td>\n",
       "    </tr>\n",
       "    <tr>\n",
       "      <th>4</th>\n",
       "      <td>Ireland</td>\n",
       "      <td>Europe</td>\n",
       "      <td>114581</td>\n",
       "      <td>2023</td>\n",
       "      <td>100172</td>\n",
       "      <td>2021</td>\n",
       "      <td>101109</td>\n",
       "      <td>2021</td>\n",
       "    </tr>\n",
       "    <tr>\n",
       "      <th>5</th>\n",
       "      <td>Bermuda</td>\n",
       "      <td>Americas</td>\n",
       "      <td>0</td>\n",
       "      <td>0</td>\n",
       "      <td>114090</td>\n",
       "      <td>2021</td>\n",
       "      <td>112653</td>\n",
       "      <td>2021</td>\n",
       "    </tr>\n",
       "  </tbody>\n",
       "</table>\n",
       "</div>"
      ],
      "text/plain": [
       "  Country/Territory UN_Region  IMF_Estimate  IMF_Year  WorldBank_Estimate  \\\n",
       "1            Monaco    Europe             0         0              234316   \n",
       "2     Liechtenstein    Europe             0         0              157755   \n",
       "3        Luxembourg    Europe        132372      2023              133590   \n",
       "4           Ireland    Europe        114581      2023              100172   \n",
       "5           Bermuda  Americas             0         0              114090   \n",
       "\n",
       "   WorldBank_Year  UN_Estimate UN_Year  \n",
       "1            2021       234317    2021  \n",
       "2            2020       169260    2021  \n",
       "3            2021       133745    2021  \n",
       "4            2021       101109    2021  \n",
       "5            2021       112653    2021  "
      ]
     },
     "execution_count": 4,
     "metadata": {},
     "output_type": "execute_result"
    }
   ],
   "source": [
    "df.head(5)"
   ]
  },
  {
   "cell_type": "code",
   "execution_count": 5,
   "id": "5d6acaba-eb81-4bd5-a465-5b0f7958222e",
   "metadata": {},
   "outputs": [
    {
     "data": {
      "text/plain": [
       "UN_Region\n",
       "Africa      55\n",
       "Americas    48\n",
       "Asia        51\n",
       "Europe      48\n",
       "Oceania     20\n",
       "World        1\n",
       "Name: Country/Territory, dtype: int64"
      ]
     },
     "execution_count": 5,
     "metadata": {},
     "output_type": "execute_result"
    }
   ],
   "source": [
    "df.groupby(\"UN_Region\")[\"Country/Territory\"].size()"
   ]
  },
  {
   "cell_type": "code",
   "execution_count": 6,
   "id": "e36a6506-e322-4065-a437-a7013d7459fb",
   "metadata": {},
   "outputs": [
    {
     "data": {
      "text/plain": [
       "UN_Region\n",
       "Africa      55\n",
       "Americas    48\n",
       "Asia        51\n",
       "Europe      48\n",
       "Oceania     20\n",
       "World        1\n",
       "Name: Country/Territory, dtype: int64"
      ]
     },
     "execution_count": 6,
     "metadata": {},
     "output_type": "execute_result"
    }
   ],
   "source": [
    "df.groupby(\"UN_Region\")[\"Country/Territory\"].count()"
   ]
  },
  {
   "cell_type": "code",
   "execution_count": 7,
   "id": "8514ca25-dd9b-4bda-a679-8e8c8026b55b",
   "metadata": {},
   "outputs": [
    {
     "data": {
      "text/html": [
       "<div>\n",
       "<style scoped>\n",
       "    .dataframe tbody tr th:only-of-type {\n",
       "        vertical-align: middle;\n",
       "    }\n",
       "\n",
       "    .dataframe tbody tr th {\n",
       "        vertical-align: top;\n",
       "    }\n",
       "\n",
       "    .dataframe thead th {\n",
       "        text-align: right;\n",
       "    }\n",
       "</style>\n",
       "<table border=\"1\" class=\"dataframe\">\n",
       "  <thead>\n",
       "    <tr style=\"text-align: right;\">\n",
       "      <th></th>\n",
       "      <th>Country/Territory</th>\n",
       "    </tr>\n",
       "    <tr>\n",
       "      <th>UN_Region</th>\n",
       "      <th></th>\n",
       "    </tr>\n",
       "  </thead>\n",
       "  <tbody>\n",
       "    <tr>\n",
       "      <th>Africa</th>\n",
       "      <td>55</td>\n",
       "    </tr>\n",
       "    <tr>\n",
       "      <th>Americas</th>\n",
       "      <td>48</td>\n",
       "    </tr>\n",
       "    <tr>\n",
       "      <th>Asia</th>\n",
       "      <td>51</td>\n",
       "    </tr>\n",
       "    <tr>\n",
       "      <th>Europe</th>\n",
       "      <td>48</td>\n",
       "    </tr>\n",
       "    <tr>\n",
       "      <th>Oceania</th>\n",
       "      <td>20</td>\n",
       "    </tr>\n",
       "    <tr>\n",
       "      <th>World</th>\n",
       "      <td>1</td>\n",
       "    </tr>\n",
       "  </tbody>\n",
       "</table>\n",
       "</div>"
      ],
      "text/plain": [
       "           Country/Territory\n",
       "UN_Region                   \n",
       "Africa                    55\n",
       "Americas                  48\n",
       "Asia                      51\n",
       "Europe                    48\n",
       "Oceania                   20\n",
       "World                      1"
      ]
     },
     "execution_count": 7,
     "metadata": {},
     "output_type": "execute_result"
    }
   ],
   "source": [
    "# number of countries per region\n",
    "\n",
    "#df.groupby(\"UN_Region\")[\"Country/Territory\"].count()\n",
    "#df.groupby(\"UN_Region\")[\"Country/Territory\"].size()\n",
    "pd.pivot_table(df, index='UN_Region', values='Country/Territory',aggfunc='count')"
   ]
  },
  {
   "cell_type": "code",
   "execution_count": 8,
   "id": "1e7735c0-817c-4f71-8dd5-7f65242ce8f1",
   "metadata": {},
   "outputs": [
    {
     "data": {
      "text/plain": [
       "Country/Territory     0\n",
       "UN_Region             0\n",
       "IMF_Estimate          0\n",
       "IMF_Year              0\n",
       "WorldBank_Estimate    0\n",
       "WorldBank_Year        0\n",
       "UN_Estimate           0\n",
       "UN_Year               0\n",
       "dtype: int64"
      ]
     },
     "execution_count": 8,
     "metadata": {},
     "output_type": "execute_result"
    }
   ],
   "source": [
    "df.isnull().sum()"
   ]
  },
  {
   "cell_type": "code",
   "execution_count": 9,
   "id": "88dc8751-581f-42bb-b845-852876b155a2",
   "metadata": {},
   "outputs": [
    {
     "name": "stdout",
     "output_type": "stream",
     "text": [
      "IMF_Year: [0, 2020, 2022, 2023]\n",
      "WorldBank_Year: [0, 2007, 2011, 2014, 2015, 2018, 2019, 2020, 2021]\n",
      "UN_Year: ['0', '2021', '[n 10]2021']\n"
     ]
    }
   ],
   "source": [
    "print(\"IMF_Year:\",sorted(df[\"IMF_Year\"].unique()))\n",
    "print(\"WorldBank_Year:\",sorted(df[\"WorldBank_Year\"].unique()))\n",
    "print(\"UN_Year:\",sorted(df[\"UN_Year\"].unique()))"
   ]
  },
  {
   "cell_type": "code",
   "execution_count": 10,
   "id": "c02ead7c-7f52-40e6-8aaf-f8dfca2f0c65",
   "metadata": {
    "scrolled": false
   },
   "outputs": [
    {
     "data": {
      "text/html": [
       "<div>\n",
       "<style scoped>\n",
       "    .dataframe tbody tr th:only-of-type {\n",
       "        vertical-align: middle;\n",
       "    }\n",
       "\n",
       "    .dataframe tbody tr th {\n",
       "        vertical-align: top;\n",
       "    }\n",
       "\n",
       "    .dataframe thead th {\n",
       "        text-align: right;\n",
       "    }\n",
       "</style>\n",
       "<table border=\"1\" class=\"dataframe\">\n",
       "  <thead>\n",
       "    <tr style=\"text-align: right;\">\n",
       "      <th></th>\n",
       "      <th>Country/Territory</th>\n",
       "      <th>UN_Region</th>\n",
       "      <th>IMF_Estimate</th>\n",
       "      <th>IMF_Year</th>\n",
       "      <th>WorldBank_Estimate</th>\n",
       "      <th>WorldBank_Year</th>\n",
       "      <th>UN_Estimate</th>\n",
       "      <th>UN_Year</th>\n",
       "    </tr>\n",
       "  </thead>\n",
       "  <tbody>\n",
       "    <tr>\n",
       "      <th>194</th>\n",
       "      <td>Tanzania</td>\n",
       "      <td>Africa</td>\n",
       "      <td>1348</td>\n",
       "      <td>2023</td>\n",
       "      <td>1099</td>\n",
       "      <td>2021</td>\n",
       "      <td>1136</td>\n",
       "      <td>[n 10]2021</td>\n",
       "    </tr>\n",
       "  </tbody>\n",
       "</table>\n",
       "</div>"
      ],
      "text/plain": [
       "    Country/Territory UN_Region  IMF_Estimate  IMF_Year  WorldBank_Estimate  \\\n",
       "194          Tanzania    Africa          1348      2023                1099   \n",
       "\n",
       "     WorldBank_Year  UN_Estimate     UN_Year  \n",
       "194            2021         1136  [n 10]2021  "
      ]
     },
     "execution_count": 10,
     "metadata": {},
     "output_type": "execute_result"
    }
   ],
   "source": [
    "df_1 = df[df[\"UN_Year\"] == '[n 10]2021']\n",
    "df_1"
   ]
  },
  {
   "cell_type": "code",
   "execution_count": 11,
   "id": "e2c91b67",
   "metadata": {},
   "outputs": [
    {
     "data": {
      "text/plain": [
       "array(['2021', '0'], dtype=object)"
      ]
     },
     "execution_count": 11,
     "metadata": {},
     "output_type": "execute_result"
    }
   ],
   "source": [
    "import re\n",
    "\n",
    "df['UN_Year_Clean'] = df['UN_Year'].apply(\n",
    "    lambda x: re.search(r'\\d{4}', x).group(0) if isinstance(x, str) and '[n 10]' in x else x\n",
    ")\n",
    "df[\"UN_Year_Clean\"].unique()"
   ]
  },
  {
   "cell_type": "code",
   "execution_count": 33,
   "id": "dabce9e3",
   "metadata": {
    "scrolled": true
   },
   "outputs": [],
   "source": [
    "#print(\"IMF_Estimate:\\n\",sorted(df[\"IMF_Estimate\"].unique()))\n",
    "#print(\"WorldBank_Estimate:\\n\",sorted(df[\"WorldBank_Estimate\"].unique()))\n",
    "#print(\"UN_Estimate:\\n\",sorted(df[\"UN_Estimate\"].unique()))"
   ]
  },
  {
   "cell_type": "code",
   "execution_count": 12,
   "id": "9a0ef557",
   "metadata": {},
   "outputs": [
    {
     "data": {
      "text/html": [
       "<div>\n",
       "<style scoped>\n",
       "    .dataframe tbody tr th:only-of-type {\n",
       "        vertical-align: middle;\n",
       "    }\n",
       "\n",
       "    .dataframe tbody tr th {\n",
       "        vertical-align: top;\n",
       "    }\n",
       "\n",
       "    .dataframe thead th {\n",
       "        text-align: right;\n",
       "    }\n",
       "</style>\n",
       "<table border=\"1\" class=\"dataframe\">\n",
       "  <thead>\n",
       "    <tr style=\"text-align: right;\">\n",
       "      <th></th>\n",
       "      <th>Country/Territory</th>\n",
       "      <th>UN_Region</th>\n",
       "      <th>IMF_Estimate</th>\n",
       "      <th>IMF_Year</th>\n",
       "      <th>WorldBank_Estimate</th>\n",
       "      <th>WorldBank_Year</th>\n",
       "      <th>UN_Estimate</th>\n",
       "      <th>UN_Year</th>\n",
       "      <th>UN_Year_Clean</th>\n",
       "    </tr>\n",
       "  </thead>\n",
       "  <tbody>\n",
       "    <tr>\n",
       "      <th>36</th>\n",
       "      <td>European Union[n 1]</td>\n",
       "      <td>Europe</td>\n",
       "      <td>39940</td>\n",
       "      <td>2023</td>\n",
       "      <td>38411</td>\n",
       "      <td>2021</td>\n",
       "      <td>31875</td>\n",
       "      <td>2021</td>\n",
       "      <td>2021</td>\n",
       "    </tr>\n",
       "  </tbody>\n",
       "</table>\n",
       "</div>"
      ],
      "text/plain": [
       "      Country/Territory UN_Region  IMF_Estimate  IMF_Year  WorldBank_Estimate  \\\n",
       "36  European Union[n 1]    Europe         39940      2023               38411   \n",
       "\n",
       "    WorldBank_Year  UN_Estimate UN_Year UN_Year_Clean  \n",
       "36            2021        31875    2021          2021  "
      ]
     },
     "execution_count": 12,
     "metadata": {},
     "output_type": "execute_result"
    }
   ],
   "source": [
    "#What is European Union[n 1]?\n",
    "\n",
    "df[df[\"Country/Territory\"] == \"European Union[n 1]\"]"
   ]
  },
  {
   "cell_type": "code",
   "execution_count": null,
   "id": "ca4a2e48-503d-4401-8d9f-6d5afb9373b5",
   "metadata": {},
   "outputs": [],
   "source": [
    "# Countries in Europe below avarege"
   ]
  },
  {
   "cell_type": "code",
   "execution_count": 14,
   "id": "d46b01f3",
   "metadata": {
    "collapsed": true
   },
   "outputs": [
    {
     "data": {
      "text/html": [
       "<div>\n",
       "<style scoped>\n",
       "    .dataframe tbody tr th:only-of-type {\n",
       "        vertical-align: middle;\n",
       "    }\n",
       "\n",
       "    .dataframe tbody tr th {\n",
       "        vertical-align: top;\n",
       "    }\n",
       "\n",
       "    .dataframe thead th {\n",
       "        text-align: right;\n",
       "    }\n",
       "</style>\n",
       "<table border=\"1\" class=\"dataframe\">\n",
       "  <thead>\n",
       "    <tr style=\"text-align: right;\">\n",
       "      <th></th>\n",
       "      <th>Country/Territory</th>\n",
       "      <th>UN_Region</th>\n",
       "      <th>IMF_Estimate</th>\n",
       "      <th>IMF_Year</th>\n",
       "      <th>WorldBank_Estimate</th>\n",
       "      <th>WorldBank_Year</th>\n",
       "      <th>UN_Estimate</th>\n",
       "      <th>UN_Year</th>\n",
       "      <th>UN_Year_Clean</th>\n",
       "    </tr>\n",
       "  </thead>\n",
       "  <tbody>\n",
       "    <tr>\n",
       "      <th>1</th>\n",
       "      <td>Monaco</td>\n",
       "      <td>Europe</td>\n",
       "      <td>0</td>\n",
       "      <td>0</td>\n",
       "      <td>234316</td>\n",
       "      <td>2021</td>\n",
       "      <td>234317</td>\n",
       "      <td>2021</td>\n",
       "      <td>2021</td>\n",
       "    </tr>\n",
       "    <tr>\n",
       "      <th>2</th>\n",
       "      <td>Liechtenstein</td>\n",
       "      <td>Europe</td>\n",
       "      <td>0</td>\n",
       "      <td>0</td>\n",
       "      <td>157755</td>\n",
       "      <td>2020</td>\n",
       "      <td>169260</td>\n",
       "      <td>2021</td>\n",
       "      <td>2021</td>\n",
       "    </tr>\n",
       "    <tr>\n",
       "      <th>3</th>\n",
       "      <td>Luxembourg</td>\n",
       "      <td>Europe</td>\n",
       "      <td>132372</td>\n",
       "      <td>2023</td>\n",
       "      <td>133590</td>\n",
       "      <td>2021</td>\n",
       "      <td>133745</td>\n",
       "      <td>2021</td>\n",
       "      <td>2021</td>\n",
       "    </tr>\n",
       "    <tr>\n",
       "      <th>4</th>\n",
       "      <td>Ireland</td>\n",
       "      <td>Europe</td>\n",
       "      <td>114581</td>\n",
       "      <td>2023</td>\n",
       "      <td>100172</td>\n",
       "      <td>2021</td>\n",
       "      <td>101109</td>\n",
       "      <td>2021</td>\n",
       "      <td>2021</td>\n",
       "    </tr>\n",
       "    <tr>\n",
       "      <th>6</th>\n",
       "      <td>Norway</td>\n",
       "      <td>Europe</td>\n",
       "      <td>101103</td>\n",
       "      <td>2023</td>\n",
       "      <td>89154</td>\n",
       "      <td>2021</td>\n",
       "      <td>89242</td>\n",
       "      <td>2021</td>\n",
       "      <td>2021</td>\n",
       "    </tr>\n",
       "    <tr>\n",
       "      <th>7</th>\n",
       "      <td>Switzerland</td>\n",
       "      <td>Europe</td>\n",
       "      <td>98767</td>\n",
       "      <td>2023</td>\n",
       "      <td>91992</td>\n",
       "      <td>2021</td>\n",
       "      <td>93525</td>\n",
       "      <td>2021</td>\n",
       "      <td>2021</td>\n",
       "    </tr>\n",
       "    <tr>\n",
       "      <th>9</th>\n",
       "      <td>Isle of Man</td>\n",
       "      <td>Europe</td>\n",
       "      <td>0</td>\n",
       "      <td>0</td>\n",
       "      <td>87158</td>\n",
       "      <td>2019</td>\n",
       "      <td>0</td>\n",
       "      <td>0</td>\n",
       "      <td>0</td>\n",
       "    </tr>\n",
       "    <tr>\n",
       "      <th>13</th>\n",
       "      <td>Iceland</td>\n",
       "      <td>Europe</td>\n",
       "      <td>75180</td>\n",
       "      <td>2023</td>\n",
       "      <td>68728</td>\n",
       "      <td>2021</td>\n",
       "      <td>69133</td>\n",
       "      <td>2021</td>\n",
       "      <td>2021</td>\n",
       "    </tr>\n",
       "    <tr>\n",
       "      <th>14</th>\n",
       "      <td>Channel Islands</td>\n",
       "      <td>Europe</td>\n",
       "      <td>0</td>\n",
       "      <td>0</td>\n",
       "      <td>75153</td>\n",
       "      <td>2007</td>\n",
       "      <td>0</td>\n",
       "      <td>0</td>\n",
       "      <td>0</td>\n",
       "    </tr>\n",
       "    <tr>\n",
       "      <th>15</th>\n",
       "      <td>Faroe Islands</td>\n",
       "      <td>Europe</td>\n",
       "      <td>0</td>\n",
       "      <td>0</td>\n",
       "      <td>69010</td>\n",
       "      <td>2021</td>\n",
       "      <td>0</td>\n",
       "      <td>0</td>\n",
       "      <td>0</td>\n",
       "    </tr>\n",
       "    <tr>\n",
       "      <th>16</th>\n",
       "      <td>Denmark</td>\n",
       "      <td>Europe</td>\n",
       "      <td>68827</td>\n",
       "      <td>2023</td>\n",
       "      <td>68008</td>\n",
       "      <td>2021</td>\n",
       "      <td>68037</td>\n",
       "      <td>2021</td>\n",
       "      <td>2021</td>\n",
       "    </tr>\n",
       "    <tr>\n",
       "      <th>18</th>\n",
       "      <td>Netherlands</td>\n",
       "      <td>Europe</td>\n",
       "      <td>61098</td>\n",
       "      <td>2023</td>\n",
       "      <td>57768</td>\n",
       "      <td>2021</td>\n",
       "      <td>57871</td>\n",
       "      <td>2021</td>\n",
       "      <td>2021</td>\n",
       "    </tr>\n",
       "    <tr>\n",
       "      <th>20</th>\n",
       "      <td>Austria</td>\n",
       "      <td>Europe</td>\n",
       "      <td>56802</td>\n",
       "      <td>2023</td>\n",
       "      <td>53638</td>\n",
       "      <td>2021</td>\n",
       "      <td>53840</td>\n",
       "      <td>2021</td>\n",
       "      <td>2021</td>\n",
       "    </tr>\n",
       "    <tr>\n",
       "      <th>22</th>\n",
       "      <td>Sweden</td>\n",
       "      <td>Europe</td>\n",
       "      <td>55395</td>\n",
       "      <td>2023</td>\n",
       "      <td>61029</td>\n",
       "      <td>2021</td>\n",
       "      <td>60730</td>\n",
       "      <td>2021</td>\n",
       "      <td>2021</td>\n",
       "    </tr>\n",
       "    <tr>\n",
       "      <th>23</th>\n",
       "      <td>Finland</td>\n",
       "      <td>Europe</td>\n",
       "      <td>54351</td>\n",
       "      <td>2023</td>\n",
       "      <td>53655</td>\n",
       "      <td>2021</td>\n",
       "      <td>53703</td>\n",
       "      <td>2021</td>\n",
       "      <td>2021</td>\n",
       "    </tr>\n",
       "    <tr>\n",
       "      <th>24</th>\n",
       "      <td>Belgium</td>\n",
       "      <td>Europe</td>\n",
       "      <td>53377</td>\n",
       "      <td>2023</td>\n",
       "      <td>51247</td>\n",
       "      <td>2021</td>\n",
       "      <td>51166</td>\n",
       "      <td>2021</td>\n",
       "      <td>2021</td>\n",
       "    </tr>\n",
       "    <tr>\n",
       "      <th>25</th>\n",
       "      <td>San Marino</td>\n",
       "      <td>Europe</td>\n",
       "      <td>52949</td>\n",
       "      <td>2023</td>\n",
       "      <td>45320</td>\n",
       "      <td>2020</td>\n",
       "      <td>50425</td>\n",
       "      <td>2021</td>\n",
       "      <td>2021</td>\n",
       "    </tr>\n",
       "    <tr>\n",
       "      <th>28</th>\n",
       "      <td>Germany</td>\n",
       "      <td>Europe</td>\n",
       "      <td>51383</td>\n",
       "      <td>2023</td>\n",
       "      <td>51204</td>\n",
       "      <td>2021</td>\n",
       "      <td>51073</td>\n",
       "      <td>2021</td>\n",
       "      <td>2021</td>\n",
       "    </tr>\n",
       "    <tr>\n",
       "      <th>33</th>\n",
       "      <td>United Kingdom</td>\n",
       "      <td>Europe</td>\n",
       "      <td>46371</td>\n",
       "      <td>2023</td>\n",
       "      <td>46510</td>\n",
       "      <td>2021</td>\n",
       "      <td>46542</td>\n",
       "      <td>2021</td>\n",
       "      <td>2021</td>\n",
       "    </tr>\n",
       "    <tr>\n",
       "      <th>34</th>\n",
       "      <td>France</td>\n",
       "      <td>Europe</td>\n",
       "      <td>44408</td>\n",
       "      <td>2023</td>\n",
       "      <td>43659</td>\n",
       "      <td>2021</td>\n",
       "      <td>44229</td>\n",
       "      <td>2021</td>\n",
       "      <td>2021</td>\n",
       "    </tr>\n",
       "    <tr>\n",
       "      <th>35</th>\n",
       "      <td>Andorra</td>\n",
       "      <td>Europe</td>\n",
       "      <td>44387</td>\n",
       "      <td>2023</td>\n",
       "      <td>42137</td>\n",
       "      <td>2021</td>\n",
       "      <td>42066</td>\n",
       "      <td>2021</td>\n",
       "      <td>2021</td>\n",
       "    </tr>\n",
       "    <tr>\n",
       "      <th>36</th>\n",
       "      <td>European Union[n 1]</td>\n",
       "      <td>Europe</td>\n",
       "      <td>39940</td>\n",
       "      <td>2023</td>\n",
       "      <td>38411</td>\n",
       "      <td>2021</td>\n",
       "      <td>31875</td>\n",
       "      <td>2021</td>\n",
       "      <td>2021</td>\n",
       "    </tr>\n",
       "    <tr>\n",
       "      <th>40</th>\n",
       "      <td>Malta</td>\n",
       "      <td>Europe</td>\n",
       "      <td>36989</td>\n",
       "      <td>2023</td>\n",
       "      <td>33487</td>\n",
       "      <td>2021</td>\n",
       "      <td>33642</td>\n",
       "      <td>2021</td>\n",
       "      <td>2021</td>\n",
       "    </tr>\n",
       "    <tr>\n",
       "      <th>41</th>\n",
       "      <td>Italy</td>\n",
       "      <td>Europe</td>\n",
       "      <td>36812</td>\n",
       "      <td>2023</td>\n",
       "      <td>35658</td>\n",
       "      <td>2021</td>\n",
       "      <td>35579</td>\n",
       "      <td>2021</td>\n",
       "      <td>2021</td>\n",
       "    </tr>\n",
       "    <tr>\n",
       "      <th>51</th>\n",
       "      <td>Slovenia</td>\n",
       "      <td>Europe</td>\n",
       "      <td>32214</td>\n",
       "      <td>2023</td>\n",
       "      <td>29291</td>\n",
       "      <td>2021</td>\n",
       "      <td>29135</td>\n",
       "      <td>2021</td>\n",
       "      <td>2021</td>\n",
       "    </tr>\n",
       "    <tr>\n",
       "      <th>52</th>\n",
       "      <td>Czech Republic</td>\n",
       "      <td>Europe</td>\n",
       "      <td>31368</td>\n",
       "      <td>2023</td>\n",
       "      <td>26821</td>\n",
       "      <td>2021</td>\n",
       "      <td>26809</td>\n",
       "      <td>2021</td>\n",
       "      <td>2021</td>\n",
       "    </tr>\n",
       "    <tr>\n",
       "      <th>53</th>\n",
       "      <td>Spain</td>\n",
       "      <td>Europe</td>\n",
       "      <td>31223</td>\n",
       "      <td>2023</td>\n",
       "      <td>30104</td>\n",
       "      <td>2021</td>\n",
       "      <td>30058</td>\n",
       "      <td>2021</td>\n",
       "      <td>2021</td>\n",
       "    </tr>\n",
       "    <tr>\n",
       "      <th>54</th>\n",
       "      <td>Estonia</td>\n",
       "      <td>Europe</td>\n",
       "      <td>31209</td>\n",
       "      <td>2023</td>\n",
       "      <td>27944</td>\n",
       "      <td>2021</td>\n",
       "      <td>27991</td>\n",
       "      <td>2021</td>\n",
       "      <td>2021</td>\n",
       "    </tr>\n",
       "    <tr>\n",
       "      <th>57</th>\n",
       "      <td>Lithuania</td>\n",
       "      <td>Europe</td>\n",
       "      <td>28094</td>\n",
       "      <td>2023</td>\n",
       "      <td>23723</td>\n",
       "      <td>2021</td>\n",
       "      <td>23844</td>\n",
       "      <td>2021</td>\n",
       "      <td>2021</td>\n",
       "    </tr>\n",
       "    <tr>\n",
       "      <th>59</th>\n",
       "      <td>Portugal</td>\n",
       "      <td>Europe</td>\n",
       "      <td>26012</td>\n",
       "      <td>2023</td>\n",
       "      <td>24568</td>\n",
       "      <td>2021</td>\n",
       "      <td>24651</td>\n",
       "      <td>2021</td>\n",
       "      <td>2021</td>\n",
       "    </tr>\n",
       "    <tr>\n",
       "      <th>60</th>\n",
       "      <td>Latvia</td>\n",
       "      <td>Europe</td>\n",
       "      <td>25136</td>\n",
       "      <td>2023</td>\n",
       "      <td>21148</td>\n",
       "      <td>2021</td>\n",
       "      <td>21267</td>\n",
       "      <td>2021</td>\n",
       "      <td>2021</td>\n",
       "    </tr>\n",
       "    <tr>\n",
       "      <th>62</th>\n",
       "      <td>Slovakia</td>\n",
       "      <td>Europe</td>\n",
       "      <td>23457</td>\n",
       "      <td>2023</td>\n",
       "      <td>21392</td>\n",
       "      <td>2021</td>\n",
       "      <td>21390</td>\n",
       "      <td>2021</td>\n",
       "      <td>2021</td>\n",
       "    </tr>\n",
       "    <tr>\n",
       "      <th>63</th>\n",
       "      <td>Greece</td>\n",
       "      <td>Europe</td>\n",
       "      <td>22595</td>\n",
       "      <td>2023</td>\n",
       "      <td>20193</td>\n",
       "      <td>2021</td>\n",
       "      <td>20571</td>\n",
       "      <td>2021</td>\n",
       "      <td>2021</td>\n",
       "    </tr>\n",
       "    <tr>\n",
       "      <th>70</th>\n",
       "      <td>Croatia</td>\n",
       "      <td>Europe</td>\n",
       "      <td>20537</td>\n",
       "      <td>2023</td>\n",
       "      <td>17685</td>\n",
       "      <td>2021</td>\n",
       "      <td>16983</td>\n",
       "      <td>2021</td>\n",
       "      <td>2021</td>\n",
       "    </tr>\n",
       "    <tr>\n",
       "      <th>72</th>\n",
       "      <td>Poland</td>\n",
       "      <td>Europe</td>\n",
       "      <td>19912</td>\n",
       "      <td>2023</td>\n",
       "      <td>18000</td>\n",
       "      <td>2021</td>\n",
       "      <td>17736</td>\n",
       "      <td>2021</td>\n",
       "      <td>2021</td>\n",
       "    </tr>\n",
       "    <tr>\n",
       "      <th>75</th>\n",
       "      <td>Hungary</td>\n",
       "      <td>Europe</td>\n",
       "      <td>19385</td>\n",
       "      <td>2023</td>\n",
       "      <td>18728</td>\n",
       "      <td>2021</td>\n",
       "      <td>18728</td>\n",
       "      <td>2021</td>\n",
       "      <td>2021</td>\n",
       "    </tr>\n",
       "    <tr>\n",
       "      <th>78</th>\n",
       "      <td>Romania</td>\n",
       "      <td>Europe</td>\n",
       "      <td>18530</td>\n",
       "      <td>2023</td>\n",
       "      <td>14858</td>\n",
       "      <td>2021</td>\n",
       "      <td>14698</td>\n",
       "      <td>2021</td>\n",
       "      <td>2021</td>\n",
       "    </tr>\n",
       "    <tr>\n",
       "      <th>87</th>\n",
       "      <td>Bulgaria</td>\n",
       "      <td>Europe</td>\n",
       "      <td>14893</td>\n",
       "      <td>2023</td>\n",
       "      <td>12222</td>\n",
       "      <td>2021</td>\n",
       "      <td>12207</td>\n",
       "      <td>2021</td>\n",
       "      <td>2021</td>\n",
       "    </tr>\n",
       "    <tr>\n",
       "      <th>90</th>\n",
       "      <td>Russia</td>\n",
       "      <td>Europe</td>\n",
       "      <td>14403</td>\n",
       "      <td>2023</td>\n",
       "      <td>12195</td>\n",
       "      <td>2021</td>\n",
       "      <td>12259</td>\n",
       "      <td>2021</td>\n",
       "      <td>2021</td>\n",
       "    </tr>\n",
       "    <tr>\n",
       "      <th>103</th>\n",
       "      <td>Montenegro</td>\n",
       "      <td>Europe</td>\n",
       "      <td>11289</td>\n",
       "      <td>2023</td>\n",
       "      <td>9466</td>\n",
       "      <td>2021</td>\n",
       "      <td>9252</td>\n",
       "      <td>2021</td>\n",
       "      <td>2021</td>\n",
       "    </tr>\n",
       "    <tr>\n",
       "      <th>106</th>\n",
       "      <td>Serbia</td>\n",
       "      <td>Europe</td>\n",
       "      <td>10849</td>\n",
       "      <td>2023</td>\n",
       "      <td>9230</td>\n",
       "      <td>2021</td>\n",
       "      <td>8643</td>\n",
       "      <td>2021</td>\n",
       "      <td>2021</td>\n",
       "    </tr>\n",
       "    <tr>\n",
       "      <th>112</th>\n",
       "      <td>Bosnia and Herzegovina</td>\n",
       "      <td>Europe</td>\n",
       "      <td>8223</td>\n",
       "      <td>2023</td>\n",
       "      <td>7143</td>\n",
       "      <td>2021</td>\n",
       "      <td>7143</td>\n",
       "      <td>2021</td>\n",
       "      <td>2021</td>\n",
       "    </tr>\n",
       "    <tr>\n",
       "      <th>115</th>\n",
       "      <td>Belarus</td>\n",
       "      <td>Europe</td>\n",
       "      <td>7944</td>\n",
       "      <td>2023</td>\n",
       "      <td>7302</td>\n",
       "      <td>2021</td>\n",
       "      <td>7121</td>\n",
       "      <td>2021</td>\n",
       "      <td>2021</td>\n",
       "    </tr>\n",
       "    <tr>\n",
       "      <th>118</th>\n",
       "      <td>North Macedonia</td>\n",
       "      <td>Europe</td>\n",
       "      <td>7384</td>\n",
       "      <td>2023</td>\n",
       "      <td>6695</td>\n",
       "      <td>2021</td>\n",
       "      <td>6600</td>\n",
       "      <td>2021</td>\n",
       "      <td>2021</td>\n",
       "    </tr>\n",
       "    <tr>\n",
       "      <th>120</th>\n",
       "      <td>Albania</td>\n",
       "      <td>Europe</td>\n",
       "      <td>7058</td>\n",
       "      <td>2023</td>\n",
       "      <td>6493</td>\n",
       "      <td>2021</td>\n",
       "      <td>6396</td>\n",
       "      <td>2021</td>\n",
       "      <td>2021</td>\n",
       "    </tr>\n",
       "    <tr>\n",
       "      <th>127</th>\n",
       "      <td>Moldova</td>\n",
       "      <td>Europe</td>\n",
       "      <td>6342</td>\n",
       "      <td>2023</td>\n",
       "      <td>5231</td>\n",
       "      <td>2021</td>\n",
       "      <td>4468</td>\n",
       "      <td>2021</td>\n",
       "      <td>2021</td>\n",
       "    </tr>\n",
       "    <tr>\n",
       "      <th>133</th>\n",
       "      <td>Kosovo</td>\n",
       "      <td>Europe</td>\n",
       "      <td>5641</td>\n",
       "      <td>2023</td>\n",
       "      <td>5270</td>\n",
       "      <td>2021</td>\n",
       "      <td>5663</td>\n",
       "      <td>2021</td>\n",
       "      <td>2021</td>\n",
       "    </tr>\n",
       "    <tr>\n",
       "      <th>143</th>\n",
       "      <td>Ukraine</td>\n",
       "      <td>Europe</td>\n",
       "      <td>4654</td>\n",
       "      <td>2023</td>\n",
       "      <td>4836</td>\n",
       "      <td>2021</td>\n",
       "      <td>4596</td>\n",
       "      <td>2021</td>\n",
       "      <td>2021</td>\n",
       "    </tr>\n",
       "  </tbody>\n",
       "</table>\n",
       "</div>"
      ],
      "text/plain": [
       "          Country/Territory UN_Region  IMF_Estimate  IMF_Year  \\\n",
       "1                    Monaco    Europe             0         0   \n",
       "2             Liechtenstein    Europe             0         0   \n",
       "3                Luxembourg    Europe        132372      2023   \n",
       "4                   Ireland    Europe        114581      2023   \n",
       "6                    Norway    Europe        101103      2023   \n",
       "7               Switzerland    Europe         98767      2023   \n",
       "9               Isle of Man    Europe             0         0   \n",
       "13                  Iceland    Europe         75180      2023   \n",
       "14          Channel Islands    Europe             0         0   \n",
       "15            Faroe Islands    Europe             0         0   \n",
       "16                  Denmark    Europe         68827      2023   \n",
       "18              Netherlands    Europe         61098      2023   \n",
       "20                  Austria    Europe         56802      2023   \n",
       "22                   Sweden    Europe         55395      2023   \n",
       "23                  Finland    Europe         54351      2023   \n",
       "24                  Belgium    Europe         53377      2023   \n",
       "25               San Marino    Europe         52949      2023   \n",
       "28                  Germany    Europe         51383      2023   \n",
       "33           United Kingdom    Europe         46371      2023   \n",
       "34                   France    Europe         44408      2023   \n",
       "35                  Andorra    Europe         44387      2023   \n",
       "36      European Union[n 1]    Europe         39940      2023   \n",
       "40                    Malta    Europe         36989      2023   \n",
       "41                    Italy    Europe         36812      2023   \n",
       "51                 Slovenia    Europe         32214      2023   \n",
       "52           Czech Republic    Europe         31368      2023   \n",
       "53                    Spain    Europe         31223      2023   \n",
       "54                  Estonia    Europe         31209      2023   \n",
       "57                Lithuania    Europe         28094      2023   \n",
       "59                 Portugal    Europe         26012      2023   \n",
       "60                   Latvia    Europe         25136      2023   \n",
       "62                 Slovakia    Europe         23457      2023   \n",
       "63                   Greece    Europe         22595      2023   \n",
       "70                  Croatia    Europe         20537      2023   \n",
       "72                   Poland    Europe         19912      2023   \n",
       "75                  Hungary    Europe         19385      2023   \n",
       "78                  Romania    Europe         18530      2023   \n",
       "87                 Bulgaria    Europe         14893      2023   \n",
       "90                   Russia    Europe         14403      2023   \n",
       "103              Montenegro    Europe         11289      2023   \n",
       "106                  Serbia    Europe         10849      2023   \n",
       "112  Bosnia and Herzegovina    Europe          8223      2023   \n",
       "115                 Belarus    Europe          7944      2023   \n",
       "118         North Macedonia    Europe          7384      2023   \n",
       "120                 Albania    Europe          7058      2023   \n",
       "127                 Moldova    Europe          6342      2023   \n",
       "133                  Kosovo    Europe          5641      2023   \n",
       "143                 Ukraine    Europe          4654      2023   \n",
       "\n",
       "     WorldBank_Estimate  WorldBank_Year  UN_Estimate UN_Year UN_Year_Clean  \n",
       "1                234316            2021       234317    2021          2021  \n",
       "2                157755            2020       169260    2021          2021  \n",
       "3                133590            2021       133745    2021          2021  \n",
       "4                100172            2021       101109    2021          2021  \n",
       "6                 89154            2021        89242    2021          2021  \n",
       "7                 91992            2021        93525    2021          2021  \n",
       "9                 87158            2019            0       0             0  \n",
       "13                68728            2021        69133    2021          2021  \n",
       "14                75153            2007            0       0             0  \n",
       "15                69010            2021            0       0             0  \n",
       "16                68008            2021        68037    2021          2021  \n",
       "18                57768            2021        57871    2021          2021  \n",
       "20                53638            2021        53840    2021          2021  \n",
       "22                61029            2021        60730    2021          2021  \n",
       "23                53655            2021        53703    2021          2021  \n",
       "24                51247            2021        51166    2021          2021  \n",
       "25                45320            2020        50425    2021          2021  \n",
       "28                51204            2021        51073    2021          2021  \n",
       "33                46510            2021        46542    2021          2021  \n",
       "34                43659            2021        44229    2021          2021  \n",
       "35                42137            2021        42066    2021          2021  \n",
       "36                38411            2021        31875    2021          2021  \n",
       "40                33487            2021        33642    2021          2021  \n",
       "41                35658            2021        35579    2021          2021  \n",
       "51                29291            2021        29135    2021          2021  \n",
       "52                26821            2021        26809    2021          2021  \n",
       "53                30104            2021        30058    2021          2021  \n",
       "54                27944            2021        27991    2021          2021  \n",
       "57                23723            2021        23844    2021          2021  \n",
       "59                24568            2021        24651    2021          2021  \n",
       "60                21148            2021        21267    2021          2021  \n",
       "62                21392            2021        21390    2021          2021  \n",
       "63                20193            2021        20571    2021          2021  \n",
       "70                17685            2021        16983    2021          2021  \n",
       "72                18000            2021        17736    2021          2021  \n",
       "75                18728            2021        18728    2021          2021  \n",
       "78                14858            2021        14698    2021          2021  \n",
       "87                12222            2021        12207    2021          2021  \n",
       "90                12195            2021        12259    2021          2021  \n",
       "103                9466            2021         9252    2021          2021  \n",
       "106                9230            2021         8643    2021          2021  \n",
       "112                7143            2021         7143    2021          2021  \n",
       "115                7302            2021         7121    2021          2021  \n",
       "118                6695            2021         6600    2021          2021  \n",
       "120                6493            2021         6396    2021          2021  \n",
       "127                5231            2021         4468    2021          2021  \n",
       "133                5270            2021         5663    2021          2021  \n",
       "143                4836            2021         4596    2021          2021  "
      ]
     },
     "execution_count": 14,
     "metadata": {},
     "output_type": "execute_result"
    }
   ],
   "source": [
    "df_Europe = df[df[\"UN_Region\"] == \"Europe\"]\n",
    "df_Europe"
   ]
  },
  {
   "cell_type": "code",
   "execution_count": 39,
   "id": "63d594fe-29e1-4a69-a326-591622991fa3",
   "metadata": {
    "scrolled": true
   },
   "outputs": [
    {
     "data": {
      "text/html": [
       "<div>\n",
       "<style scoped>\n",
       "    .dataframe tbody tr th:only-of-type {\n",
       "        vertical-align: middle;\n",
       "    }\n",
       "\n",
       "    .dataframe tbody tr th {\n",
       "        vertical-align: top;\n",
       "    }\n",
       "\n",
       "    .dataframe thead th {\n",
       "        text-align: right;\n",
       "    }\n",
       "</style>\n",
       "<table border=\"1\" class=\"dataframe\">\n",
       "  <thead>\n",
       "    <tr style=\"text-align: right;\">\n",
       "      <th>IMF_Year</th>\n",
       "      <th>0</th>\n",
       "      <th>2020</th>\n",
       "      <th>2022</th>\n",
       "      <th>2023</th>\n",
       "    </tr>\n",
       "    <tr>\n",
       "      <th>UN_Region</th>\n",
       "      <th></th>\n",
       "      <th></th>\n",
       "      <th></th>\n",
       "      <th></th>\n",
       "    </tr>\n",
       "  </thead>\n",
       "  <tbody>\n",
       "    <tr>\n",
       "      <th>Africa</th>\n",
       "      <td>0.0</td>\n",
       "      <td>NaN</td>\n",
       "      <td>NaN</td>\n",
       "      <td>2854.240741</td>\n",
       "    </tr>\n",
       "    <tr>\n",
       "      <th>Americas</th>\n",
       "      <td>0.0</td>\n",
       "      <td>NaN</td>\n",
       "      <td>NaN</td>\n",
       "      <td>15828.055556</td>\n",
       "    </tr>\n",
       "    <tr>\n",
       "      <th>Asia</th>\n",
       "      <td>0.0</td>\n",
       "      <td>2100.0</td>\n",
       "      <td>2510.0</td>\n",
       "      <td>18682.400000</td>\n",
       "    </tr>\n",
       "    <tr>\n",
       "      <th>Europe</th>\n",
       "      <td>0.0</td>\n",
       "      <td>NaN</td>\n",
       "      <td>NaN</td>\n",
       "      <td>38452.186047</td>\n",
       "    </tr>\n",
       "    <tr>\n",
       "      <th>Oceania</th>\n",
       "      <td>0.0</td>\n",
       "      <td>NaN</td>\n",
       "      <td>NaN</td>\n",
       "      <td>13047.357143</td>\n",
       "    </tr>\n",
       "    <tr>\n",
       "      <th>World</th>\n",
       "      <td>NaN</td>\n",
       "      <td>NaN</td>\n",
       "      <td>NaN</td>\n",
       "      <td>13440.000000</td>\n",
       "    </tr>\n",
       "  </tbody>\n",
       "</table>\n",
       "</div>"
      ],
      "text/plain": [
       "IMF_Year   0       2020    2022          2023\n",
       "UN_Region                                    \n",
       "Africa      0.0     NaN     NaN   2854.240741\n",
       "Americas    0.0     NaN     NaN  15828.055556\n",
       "Asia        0.0  2100.0  2510.0  18682.400000\n",
       "Europe      0.0     NaN     NaN  38452.186047\n",
       "Oceania     0.0     NaN     NaN  13047.357143\n",
       "World       NaN     NaN     NaN  13440.000000"
      ]
     },
     "execution_count": 39,
     "metadata": {},
     "output_type": "execute_result"
    }
   ],
   "source": [
    "#df.groupby(\"UN_Region\")[\"IMF_Estimate\"].mean()\n",
    "pd.pivot_table(df, index='UN_Region',columns = 'IMF_Year',values='IMF_Estimate',aggfunc='mean')"
   ]
  },
  {
   "cell_type": "code",
   "execution_count": 26,
   "id": "00e18543-e035-4e92-9b34-532a95f0e4bd",
   "metadata": {
    "collapsed": true
   },
   "outputs": [
    {
     "name": "stdout",
     "output_type": "stream",
     "text": [
      "          Country/Territory UN_Region  IMF_Estimate  IMF_Estimate_Mean\n",
      "1                    Monaco    Europe             0           34446.75\n",
      "2             Liechtenstein    Europe             0           34446.75\n",
      "9               Isle of Man    Europe             0           34446.75\n",
      "14          Channel Islands    Europe             0           34446.75\n",
      "15            Faroe Islands    Europe             0           34446.75\n",
      "51                 Slovenia    Europe         32214           34446.75\n",
      "52           Czech Republic    Europe         31368           34446.75\n",
      "53                    Spain    Europe         31223           34446.75\n",
      "54                  Estonia    Europe         31209           34446.75\n",
      "57                Lithuania    Europe         28094           34446.75\n",
      "59                 Portugal    Europe         26012           34446.75\n",
      "60                   Latvia    Europe         25136           34446.75\n",
      "62                 Slovakia    Europe         23457           34446.75\n",
      "63                   Greece    Europe         22595           34446.75\n",
      "70                  Croatia    Europe         20537           34446.75\n",
      "72                   Poland    Europe         19912           34446.75\n",
      "75                  Hungary    Europe         19385           34446.75\n",
      "78                  Romania    Europe         18530           34446.75\n",
      "87                 Bulgaria    Europe         14893           34446.75\n",
      "90                   Russia    Europe         14403           34446.75\n",
      "103              Montenegro    Europe         11289           34446.75\n",
      "106                  Serbia    Europe         10849           34446.75\n",
      "112  Bosnia and Herzegovina    Europe          8223           34446.75\n",
      "115                 Belarus    Europe          7944           34446.75\n",
      "118         North Macedonia    Europe          7384           34446.75\n",
      "120                 Albania    Europe          7058           34446.75\n",
      "127                 Moldova    Europe          6342           34446.75\n",
      "133                  Kosovo    Europe          5641           34446.75\n",
      "143                 Ukraine    Europe          4654           34446.75 \n",
      "\n",
      "          Country/Territory UN_Region  WorldBank_Estimate  \\\n",
      "34                   France    Europe               43659   \n",
      "35                  Andorra    Europe               42137   \n",
      "36      European Union[n 1]    Europe               38411   \n",
      "40                    Malta    Europe               33487   \n",
      "41                    Italy    Europe               35658   \n",
      "51                 Slovenia    Europe               29291   \n",
      "52           Czech Republic    Europe               26821   \n",
      "53                    Spain    Europe               30104   \n",
      "54                  Estonia    Europe               27944   \n",
      "57                Lithuania    Europe               23723   \n",
      "59                 Portugal    Europe               24568   \n",
      "60                   Latvia    Europe               21148   \n",
      "62                 Slovakia    Europe               21392   \n",
      "63                   Greece    Europe               20193   \n",
      "70                  Croatia    Europe               17685   \n",
      "72                   Poland    Europe               18000   \n",
      "75                  Hungary    Europe               18728   \n",
      "78                  Romania    Europe               14858   \n",
      "87                 Bulgaria    Europe               12222   \n",
      "90                   Russia    Europe               12195   \n",
      "103              Montenegro    Europe                9466   \n",
      "106                  Serbia    Europe                9230   \n",
      "112  Bosnia and Herzegovina    Europe                7143   \n",
      "115                 Belarus    Europe                7302   \n",
      "118         North Macedonia    Europe                6695   \n",
      "120                 Albania    Europe                6493   \n",
      "127                 Moldova    Europe                5231   \n",
      "133                  Kosovo    Europe                5270   \n",
      "143                 Ukraine    Europe                4836   \n",
      "\n",
      "     WorldBank_Estimate_Mean  \n",
      "34                45193.6875  \n",
      "35                45193.6875  \n",
      "36                45193.6875  \n",
      "40                45193.6875  \n",
      "41                45193.6875  \n",
      "51                45193.6875  \n",
      "52                45193.6875  \n",
      "53                45193.6875  \n",
      "54                45193.6875  \n",
      "57                45193.6875  \n",
      "59                45193.6875  \n",
      "60                45193.6875  \n",
      "62                45193.6875  \n",
      "63                45193.6875  \n",
      "70                45193.6875  \n",
      "72                45193.6875  \n",
      "75                45193.6875  \n",
      "78                45193.6875  \n",
      "87                45193.6875  \n",
      "90                45193.6875  \n",
      "103               45193.6875  \n",
      "106               45193.6875  \n",
      "112               45193.6875  \n",
      "115               45193.6875  \n",
      "118               45193.6875  \n",
      "120               45193.6875  \n",
      "127               45193.6875  \n",
      "133               45193.6875  \n",
      "143               45193.6875   \n",
      "\n",
      "          Country/Territory UN_Region  UN_Estimate  UN_Estimate_Mean\n",
      "9               Isle of Man    Europe            0      40610.791667\n",
      "14          Channel Islands    Europe            0      40610.791667\n",
      "15            Faroe Islands    Europe            0      40610.791667\n",
      "36      European Union[n 1]    Europe        31875      40610.791667\n",
      "40                    Malta    Europe        33642      40610.791667\n",
      "41                    Italy    Europe        35579      40610.791667\n",
      "51                 Slovenia    Europe        29135      40610.791667\n",
      "52           Czech Republic    Europe        26809      40610.791667\n",
      "53                    Spain    Europe        30058      40610.791667\n",
      "54                  Estonia    Europe        27991      40610.791667\n",
      "57                Lithuania    Europe        23844      40610.791667\n",
      "59                 Portugal    Europe        24651      40610.791667\n",
      "60                   Latvia    Europe        21267      40610.791667\n",
      "62                 Slovakia    Europe        21390      40610.791667\n",
      "63                   Greece    Europe        20571      40610.791667\n",
      "70                  Croatia    Europe        16983      40610.791667\n",
      "72                   Poland    Europe        17736      40610.791667\n",
      "75                  Hungary    Europe        18728      40610.791667\n",
      "78                  Romania    Europe        14698      40610.791667\n",
      "87                 Bulgaria    Europe        12207      40610.791667\n",
      "90                   Russia    Europe        12259      40610.791667\n",
      "103              Montenegro    Europe         9252      40610.791667\n",
      "106                  Serbia    Europe         8643      40610.791667\n",
      "112  Bosnia and Herzegovina    Europe         7143      40610.791667\n",
      "115                 Belarus    Europe         7121      40610.791667\n",
      "118         North Macedonia    Europe         6600      40610.791667\n",
      "120                 Albania    Europe         6396      40610.791667\n",
      "127                 Moldova    Europe         4468      40610.791667\n",
      "133                  Kosovo    Europe         5663      40610.791667\n",
      "143                 Ukraine    Europe         4596      40610.791667\n"
     ]
    },
    {
     "name": "stderr",
     "output_type": "stream",
     "text": [
      "C:\\Users\\cxy\\AppData\\Local\\Temp\\ipykernel_35076\\2144564017.py:5: SettingWithCopyWarning: \n",
      "A value is trying to be set on a copy of a slice from a DataFrame.\n",
      "Try using .loc[row_indexer,col_indexer] = value instead\n",
      "\n",
      "See the caveats in the documentation: https://pandas.pydata.org/pandas-docs/stable/user_guide/indexing.html#returning-a-view-versus-a-copy\n",
      "  df_Europe_below_imfavg[\"IMF_Estimate_Mean\"] = df_Europe[\"IMF_Estimate\"].mean()\n",
      "C:\\Users\\cxy\\AppData\\Local\\Temp\\ipykernel_35076\\2144564017.py:10: SettingWithCopyWarning: \n",
      "A value is trying to be set on a copy of a slice from a DataFrame.\n",
      "Try using .loc[row_indexer,col_indexer] = value instead\n",
      "\n",
      "See the caveats in the documentation: https://pandas.pydata.org/pandas-docs/stable/user_guide/indexing.html#returning-a-view-versus-a-copy\n",
      "  df_Europe_below_wbavg[\"WorldBank_Estimate_Mean\"] = df_Europe[\"WorldBank_Estimate\"].mean()\n",
      "C:\\Users\\cxy\\AppData\\Local\\Temp\\ipykernel_35076\\2144564017.py:15: SettingWithCopyWarning: \n",
      "A value is trying to be set on a copy of a slice from a DataFrame.\n",
      "Try using .loc[row_indexer,col_indexer] = value instead\n",
      "\n",
      "See the caveats in the documentation: https://pandas.pydata.org/pandas-docs/stable/user_guide/indexing.html#returning-a-view-versus-a-copy\n",
      "  df_Europe_below_unavg[\"UN_Estimate_Mean\"] = df_Europe[\"UN_Estimate\"].mean()\n"
     ]
    }
   ],
   "source": [
    "# Countries in Europe below avarege\n",
    "\n",
    "#Based on IMF Statistics\n",
    "df_Europe_below_imfavg = df_Europe[df_Europe[\"IMF_Estimate\"] < df_Europe[\"IMF_Estimate\"].mean()]\n",
    "df_Europe_below_imfavg[\"IMF_Estimate_Mean\"] = df_Europe[\"IMF_Estimate\"].mean()\n",
    "print(df_Europe_below_imfavg[['Country/Territory','UN_Region','IMF_Estimate','IMF_Estimate_Mean']],\"\\n\")\n",
    "\n",
    "#Based on WorldBank Statistics\n",
    "df_Europe_below_wbavg = df_Europe[df_Europe[\"WorldBank_Estimate\"] < df_Europe[\"WorldBank_Estimate\"].mean()]\n",
    "df_Europe_below_wbavg[\"WorldBank_Estimate_Mean\"] = df_Europe[\"WorldBank_Estimate\"].mean()\n",
    "print(df_Europe_below_wbavg[['Country/Territory','UN_Region','WorldBank_Estimate','WorldBank_Estimate_Mean']],\"\\n\")\n",
    "\n",
    "#Based on UN Statistics\n",
    "df_Europe_below_unavg = df_Europe[df_Europe[\"UN_Estimate\"] < df_Europe[\"UN_Estimate\"].mean()]\n",
    "df_Europe_below_unavg[\"UN_Estimate_Mean\"] = df_Europe[\"UN_Estimate\"].mean()\n",
    "print(df_Europe_below_unavg[['Country/Territory','UN_Region','UN_Estimate','UN_Estimate_Mean']])\n"
   ]
  },
  {
   "cell_type": "code",
   "execution_count": 45,
   "id": "4c02e03c",
   "metadata": {},
   "outputs": [
    {
     "name": "stdout",
     "output_type": "stream",
     "text": [
      "Based on IMF Statistics,countries in Europe has higher GDP than UK are shown as follow:\n",
      "   Country/Territory UN_Region  IMF_Estimate  UK_IMF_Estimate\n",
      "3         Luxembourg    Europe        132372            46371\n",
      "4            Ireland    Europe        114581            46371\n",
      "6             Norway    Europe        101103            46371\n",
      "7        Switzerland    Europe         98767            46371\n",
      "13           Iceland    Europe         75180            46371\n",
      "16           Denmark    Europe         68827            46371\n",
      "18       Netherlands    Europe         61098            46371\n",
      "20           Austria    Europe         56802            46371\n",
      "22            Sweden    Europe         55395            46371\n",
      "23           Finland    Europe         54351            46371\n",
      "24           Belgium    Europe         53377            46371\n",
      "25        San Marino    Europe         52949            46371\n",
      "28           Germany    Europe         51383            46371 \n",
      "\n",
      "------------------------\n",
      "Based on WorldBank Statistics,countries in Europe has higher GDP than UK are shown as follow:\n",
      "   Country/Territory UN_Region  WorldBank_Estimate  UK_WorldBank_Estimate\n",
      "1             Monaco    Europe              234316                  46510\n",
      "2      Liechtenstein    Europe              157755                  46510\n",
      "3         Luxembourg    Europe              133590                  46510\n",
      "4            Ireland    Europe              100172                  46510\n",
      "6             Norway    Europe               89154                  46510\n",
      "7        Switzerland    Europe               91992                  46510\n",
      "9        Isle of Man    Europe               87158                  46510\n",
      "13           Iceland    Europe               68728                  46510\n",
      "14   Channel Islands    Europe               75153                  46510\n",
      "15     Faroe Islands    Europe               69010                  46510\n",
      "16           Denmark    Europe               68008                  46510\n",
      "18       Netherlands    Europe               57768                  46510\n",
      "20           Austria    Europe               53638                  46510\n",
      "22            Sweden    Europe               61029                  46510\n",
      "23           Finland    Europe               53655                  46510\n",
      "24           Belgium    Europe               51247                  46510\n",
      "28           Germany    Europe               51204                  46510 \n",
      "\n",
      "------------------------\n",
      "Based on UN Statistics,countries in Europe has higher GDP than UK are shown as follow:\n",
      "   Country/Territory UN_Region  UN_Estimate  UK_UN_Estimate\n",
      "1             Monaco    Europe       234317           46542\n",
      "2      Liechtenstein    Europe       169260           46542\n",
      "3         Luxembourg    Europe       133745           46542\n",
      "4            Ireland    Europe       101109           46542\n",
      "6             Norway    Europe        89242           46542\n",
      "7        Switzerland    Europe        93525           46542\n",
      "13           Iceland    Europe        69133           46542\n",
      "16           Denmark    Europe        68037           46542\n",
      "18       Netherlands    Europe        57871           46542\n",
      "20           Austria    Europe        53840           46542\n",
      "22            Sweden    Europe        60730           46542\n",
      "23           Finland    Europe        53703           46542\n",
      "24           Belgium    Europe        51166           46542\n",
      "25        San Marino    Europe        50425           46542\n",
      "28           Germany    Europe        51073           46542 \n",
      "\n",
      "------------------------\n"
     ]
    },
    {
     "name": "stderr",
     "output_type": "stream",
     "text": [
      "C:\\Users\\cxy\\AppData\\Local\\Temp\\ipykernel_35076\\2423601220.py:6: SettingWithCopyWarning: \n",
      "A value is trying to be set on a copy of a slice from a DataFrame.\n",
      "Try using .loc[row_indexer,col_indexer] = value instead\n",
      "\n",
      "See the caveats in the documentation: https://pandas.pydata.org/pandas-docs/stable/user_guide/indexing.html#returning-a-view-versus-a-copy\n",
      "  df_country_aboveuk_imf[\"UK_IMF_Estimate\"] = uk_imf\n",
      "C:\\Users\\cxy\\AppData\\Local\\Temp\\ipykernel_35076\\2423601220.py:14: SettingWithCopyWarning: \n",
      "A value is trying to be set on a copy of a slice from a DataFrame.\n",
      "Try using .loc[row_indexer,col_indexer] = value instead\n",
      "\n",
      "See the caveats in the documentation: https://pandas.pydata.org/pandas-docs/stable/user_guide/indexing.html#returning-a-view-versus-a-copy\n",
      "  df_country_aboveuk_wb[\"UK_WorldBank_Estimate\"] = uk_wb\n",
      "C:\\Users\\cxy\\AppData\\Local\\Temp\\ipykernel_35076\\2423601220.py:22: SettingWithCopyWarning: \n",
      "A value is trying to be set on a copy of a slice from a DataFrame.\n",
      "Try using .loc[row_indexer,col_indexer] = value instead\n",
      "\n",
      "See the caveats in the documentation: https://pandas.pydata.org/pandas-docs/stable/user_guide/indexing.html#returning-a-view-versus-a-copy\n",
      "  df_country_aboveuk_un[\"UK_UN_Estimate\"] = uk_un\n"
     ]
    }
   ],
   "source": [
    "## Which countries in Europe has higher GDP than UK?\n",
    "df_uk = df_Europe[df_Europe[\"Country/Territory\"] == 'United Kingdom']\n",
    "#Based on IMF Statistics\n",
    "uk_imf = df_uk['IMF_Estimate'].values[0]\n",
    "df_country_aboveuk_imf = df_Europe[df_Europe[\"IMF_Estimate\"]>uk_imf]\n",
    "df_country_aboveuk_imf[\"UK_IMF_Estimate\"] = uk_imf\n",
    "print(\"Based on IMF Statistics,countries in Europe has higher GDP than UK are shown as follow:\")\n",
    "print(df_country_aboveuk_imf[['Country/Territory','UN_Region','IMF_Estimate','UK_IMF_Estimate']],\"\\n\")\n",
    "print(\"------------------------\")\n",
    "\n",
    "#Based on WorldBank Statistics\n",
    "uk_wb = df_uk['WorldBank_Estimate'].values[0]\n",
    "df_country_aboveuk_wb = df_Europe[df_Europe[\"WorldBank_Estimate\"]>uk_wb]\n",
    "df_country_aboveuk_wb[\"UK_WorldBank_Estimate\"] = uk_wb\n",
    "print(\"Based on WorldBank Statistics,countries in Europe has higher GDP than UK are shown as follow:\")\n",
    "print(df_country_aboveuk_wb[['Country/Territory','UN_Region','WorldBank_Estimate','UK_WorldBank_Estimate']],\"\\n\")\n",
    "print(\"------------------------\")\n",
    "\n",
    "#Based on UN Statistics\n",
    "uk_un = df_uk['UN_Estimate'].values[0]\n",
    "df_country_aboveuk_un = df_Europe[df_Europe[\"UN_Estimate\"]>uk_un]\n",
    "df_country_aboveuk_un[\"UK_UN_Estimate\"] = uk_un\n",
    "print(\"Based on UN Statistics,countries in Europe has higher GDP than UK are shown as follow:\")\n",
    "print(df_country_aboveuk_un[['Country/Territory','UN_Region','UN_Estimate','UK_UN_Estimate']],\"\\n\")\n",
    "print(\"------------------------\")"
   ]
  },
  {
   "cell_type": "code",
   "execution_count": 20,
   "id": "b1a8923e-81b1-4fa4-93da-860feccf298b",
   "metadata": {
    "scrolled": true
   },
   "outputs": [
    {
     "data": {
      "text/html": [
       "<div>\n",
       "<style scoped>\n",
       "    .dataframe tbody tr th:only-of-type {\n",
       "        vertical-align: middle;\n",
       "    }\n",
       "\n",
       "    .dataframe tbody tr th {\n",
       "        vertical-align: top;\n",
       "    }\n",
       "\n",
       "    .dataframe thead th {\n",
       "        text-align: right;\n",
       "    }\n",
       "</style>\n",
       "<table border=\"1\" class=\"dataframe\">\n",
       "  <thead>\n",
       "    <tr style=\"text-align: right;\">\n",
       "      <th></th>\n",
       "      <th>Country/Territory</th>\n",
       "      <th>UN_Region</th>\n",
       "      <th>IMF_Estimate</th>\n",
       "      <th>IMF_Year</th>\n",
       "      <th>WorldBank_Estimate</th>\n",
       "      <th>WorldBank_Year</th>\n",
       "      <th>UN_Estimate</th>\n",
       "      <th>UN_Year</th>\n",
       "      <th>UN_Year_Clean</th>\n",
       "    </tr>\n",
       "  </thead>\n",
       "  <tbody>\n",
       "    <tr>\n",
       "      <th>1</th>\n",
       "      <td>Monaco</td>\n",
       "      <td>Europe</td>\n",
       "      <td>0</td>\n",
       "      <td>0</td>\n",
       "      <td>234316</td>\n",
       "      <td>2021</td>\n",
       "      <td>234317</td>\n",
       "      <td>2021</td>\n",
       "      <td>2021</td>\n",
       "    </tr>\n",
       "    <tr>\n",
       "      <th>2</th>\n",
       "      <td>Liechtenstein</td>\n",
       "      <td>Europe</td>\n",
       "      <td>0</td>\n",
       "      <td>0</td>\n",
       "      <td>157755</td>\n",
       "      <td>2020</td>\n",
       "      <td>169260</td>\n",
       "      <td>2021</td>\n",
       "      <td>2021</td>\n",
       "    </tr>\n",
       "    <tr>\n",
       "      <th>9</th>\n",
       "      <td>Isle of Man</td>\n",
       "      <td>Europe</td>\n",
       "      <td>0</td>\n",
       "      <td>0</td>\n",
       "      <td>87158</td>\n",
       "      <td>2019</td>\n",
       "      <td>0</td>\n",
       "      <td>0</td>\n",
       "      <td>0</td>\n",
       "    </tr>\n",
       "    <tr>\n",
       "      <th>14</th>\n",
       "      <td>Channel Islands</td>\n",
       "      <td>Europe</td>\n",
       "      <td>0</td>\n",
       "      <td>0</td>\n",
       "      <td>75153</td>\n",
       "      <td>2007</td>\n",
       "      <td>0</td>\n",
       "      <td>0</td>\n",
       "      <td>0</td>\n",
       "    </tr>\n",
       "    <tr>\n",
       "      <th>15</th>\n",
       "      <td>Faroe Islands</td>\n",
       "      <td>Europe</td>\n",
       "      <td>0</td>\n",
       "      <td>0</td>\n",
       "      <td>69010</td>\n",
       "      <td>2021</td>\n",
       "      <td>0</td>\n",
       "      <td>0</td>\n",
       "      <td>0</td>\n",
       "    </tr>\n",
       "  </tbody>\n",
       "</table>\n",
       "</div>"
      ],
      "text/plain": [
       "   Country/Territory UN_Region  IMF_Estimate  IMF_Year  WorldBank_Estimate  \\\n",
       "1             Monaco    Europe             0         0              234316   \n",
       "2      Liechtenstein    Europe             0         0              157755   \n",
       "9        Isle of Man    Europe             0         0               87158   \n",
       "14   Channel Islands    Europe             0         0               75153   \n",
       "15     Faroe Islands    Europe             0         0               69010   \n",
       "\n",
       "    WorldBank_Year  UN_Estimate UN_Year UN_Year_Clean  \n",
       "1             2021       234317    2021          2021  \n",
       "2             2020       169260    2021          2021  \n",
       "9             2019            0       0             0  \n",
       "14            2007            0       0             0  \n",
       "15            2021            0       0             0  "
      ]
     },
     "execution_count": 20,
     "metadata": {},
     "output_type": "execute_result"
    }
   ],
   "source": [
    "df_Europe_IMF0  = df_Europe[df_Europe['IMF_Year'] == 0]\n",
    "df_Europe_IMF0              \n",
    "#[\"IMF_Estimate\"] < df_Europe.groupby('IMF_Year')[\"IMF_Estimate\"].mean()]"
   ]
  },
  {
   "cell_type": "markdown",
   "id": "70c23a49-9c48-403c-bfc5-beb46f2f46be",
   "metadata": {
    "jp-MarkdownHeadingCollapsed": true
   },
   "source": [
    "## groupby()"
   ]
  },
  {
   "cell_type": "markdown",
   "id": "f3b07212-bd06-42f7-85f1-93a301f45977",
   "metadata": {},
   "source": [
    "[Learn more about groupby](https://www.geeksforgeeks.org/pandas-groupby/)"
   ]
  },
  {
   "cell_type": "code",
   "execution_count": null,
   "id": "bd78440d-61aa-40e9-a10b-cbd9c3b13847",
   "metadata": {},
   "outputs": [],
   "source": []
  },
  {
   "cell_type": "markdown",
   "id": "a7368ecd",
   "metadata": {
    "jp-MarkdownHeadingCollapsed": true
   },
   "source": [
    "## Which countries below average by IMF world estimate?"
   ]
  },
  {
   "cell_type": "code",
   "execution_count": 48,
   "id": "4ae0e278-675f-45f2-aea5-905eea7d2e66",
   "metadata": {},
   "outputs": [
    {
     "name": "stderr",
     "output_type": "stream",
     "text": [
      "C:\\Users\\cxy\\AppData\\Local\\Temp\\ipykernel_35076\\2372232952.py:2: SettingWithCopyWarning: \n",
      "A value is trying to be set on a copy of a slice from a DataFrame.\n",
      "Try using .loc[row_indexer,col_indexer] = value instead\n",
      "\n",
      "See the caveats in the documentation: https://pandas.pydata.org/pandas-docs/stable/user_guide/indexing.html#returning-a-view-versus-a-copy\n",
      "  df_countries_below_imf[\"IMF_world_avg_Estimate\"] = df['IMF_Estimate'].mean()\n"
     ]
    },
    {
     "data": {
      "text/html": [
       "<div>\n",
       "<style scoped>\n",
       "    .dataframe tbody tr th:only-of-type {\n",
       "        vertical-align: middle;\n",
       "    }\n",
       "\n",
       "    .dataframe tbody tr th {\n",
       "        vertical-align: top;\n",
       "    }\n",
       "\n",
       "    .dataframe thead th {\n",
       "        text-align: right;\n",
       "    }\n",
       "</style>\n",
       "<table border=\"1\" class=\"dataframe\">\n",
       "  <thead>\n",
       "    <tr style=\"text-align: right;\">\n",
       "      <th></th>\n",
       "      <th>Country/Territory</th>\n",
       "      <th>IMF_Estimate</th>\n",
       "      <th>IMF_world_avg_Estimate</th>\n",
       "    </tr>\n",
       "  </thead>\n",
       "  <tbody>\n",
       "    <tr>\n",
       "      <th>1</th>\n",
       "      <td>Monaco</td>\n",
       "      <td>0</td>\n",
       "      <td>15351.632287</td>\n",
       "    </tr>\n",
       "    <tr>\n",
       "      <th>2</th>\n",
       "      <td>Liechtenstein</td>\n",
       "      <td>0</td>\n",
       "      <td>15351.632287</td>\n",
       "    </tr>\n",
       "    <tr>\n",
       "      <th>5</th>\n",
       "      <td>Bermuda</td>\n",
       "      <td>0</td>\n",
       "      <td>15351.632287</td>\n",
       "    </tr>\n",
       "    <tr>\n",
       "      <th>9</th>\n",
       "      <td>Isle of Man</td>\n",
       "      <td>0</td>\n",
       "      <td>15351.632287</td>\n",
       "    </tr>\n",
       "    <tr>\n",
       "      <th>10</th>\n",
       "      <td>Cayman Islands</td>\n",
       "      <td>0</td>\n",
       "      <td>15351.632287</td>\n",
       "    </tr>\n",
       "    <tr>\n",
       "      <th>...</th>\n",
       "      <td>...</td>\n",
       "      <td>...</td>\n",
       "      <td>...</td>\n",
       "    </tr>\n",
       "    <tr>\n",
       "      <th>219</th>\n",
       "      <td>Malawi</td>\n",
       "      <td>496</td>\n",
       "      <td>15351.632287</td>\n",
       "    </tr>\n",
       "    <tr>\n",
       "      <th>220</th>\n",
       "      <td>South Sudan</td>\n",
       "      <td>467</td>\n",
       "      <td>15351.632287</td>\n",
       "    </tr>\n",
       "    <tr>\n",
       "      <th>221</th>\n",
       "      <td>Sierra Leone</td>\n",
       "      <td>415</td>\n",
       "      <td>15351.632287</td>\n",
       "    </tr>\n",
       "    <tr>\n",
       "      <th>222</th>\n",
       "      <td>Afghanistan</td>\n",
       "      <td>611</td>\n",
       "      <td>15351.632287</td>\n",
       "    </tr>\n",
       "    <tr>\n",
       "      <th>223</th>\n",
       "      <td>Burundi</td>\n",
       "      <td>249</td>\n",
       "      <td>15351.632287</td>\n",
       "    </tr>\n",
       "  </tbody>\n",
       "</table>\n",
       "<p>159 rows × 3 columns</p>\n",
       "</div>"
      ],
      "text/plain": [
       "    Country/Territory  IMF_Estimate  IMF_world_avg_Estimate\n",
       "1              Monaco             0            15351.632287\n",
       "2       Liechtenstein             0            15351.632287\n",
       "5             Bermuda             0            15351.632287\n",
       "9         Isle of Man             0            15351.632287\n",
       "10     Cayman Islands             0            15351.632287\n",
       "..                ...           ...                     ...\n",
       "219            Malawi           496            15351.632287\n",
       "220       South Sudan           467            15351.632287\n",
       "221      Sierra Leone           415            15351.632287\n",
       "222       Afghanistan           611            15351.632287\n",
       "223           Burundi           249            15351.632287\n",
       "\n",
       "[159 rows x 3 columns]"
      ]
     },
     "execution_count": 48,
     "metadata": {},
     "output_type": "execute_result"
    }
   ],
   "source": [
    "df_countries_below_imf = df[df['IMF_Estimate']<df['IMF_Estimate'].mean()]\n",
    "df_countries_below_imf[\"IMF_world_avg_Estimate\"] = df['IMF_Estimate'].mean()\n",
    "df_countries_below_imf[['Country/Territory','IMF_Estimate','IMF_world_avg_Estimate']]"
   ]
  },
  {
   "cell_type": "markdown",
   "id": "71573d1b",
   "metadata": {
    "jp-MarkdownHeadingCollapsed": true
   },
   "source": [
    "### IMF estimate 0 values"
   ]
  },
  {
   "cell_type": "code",
   "execution_count": 50,
   "id": "b1ee3245",
   "metadata": {
    "scrolled": true
   },
   "outputs": [
    {
     "data": {
      "text/html": [
       "<div>\n",
       "<style scoped>\n",
       "    .dataframe tbody tr th:only-of-type {\n",
       "        vertical-align: middle;\n",
       "    }\n",
       "\n",
       "    .dataframe tbody tr th {\n",
       "        vertical-align: top;\n",
       "    }\n",
       "\n",
       "    .dataframe thead th {\n",
       "        text-align: right;\n",
       "    }\n",
       "</style>\n",
       "<table border=\"1\" class=\"dataframe\">\n",
       "  <thead>\n",
       "    <tr style=\"text-align: right;\">\n",
       "      <th></th>\n",
       "      <th>Country/Territory</th>\n",
       "      <th>UN_Region</th>\n",
       "      <th>IMF_Estimate</th>\n",
       "      <th>IMF_Year</th>\n",
       "    </tr>\n",
       "  </thead>\n",
       "  <tbody>\n",
       "    <tr>\n",
       "      <th>1</th>\n",
       "      <td>Monaco</td>\n",
       "      <td>Europe</td>\n",
       "      <td>0</td>\n",
       "      <td>0</td>\n",
       "    </tr>\n",
       "    <tr>\n",
       "      <th>2</th>\n",
       "      <td>Liechtenstein</td>\n",
       "      <td>Europe</td>\n",
       "      <td>0</td>\n",
       "      <td>0</td>\n",
       "    </tr>\n",
       "    <tr>\n",
       "      <th>5</th>\n",
       "      <td>Bermuda</td>\n",
       "      <td>Americas</td>\n",
       "      <td>0</td>\n",
       "      <td>0</td>\n",
       "    </tr>\n",
       "    <tr>\n",
       "      <th>9</th>\n",
       "      <td>Isle of Man</td>\n",
       "      <td>Europe</td>\n",
       "      <td>0</td>\n",
       "      <td>0</td>\n",
       "    </tr>\n",
       "    <tr>\n",
       "      <th>10</th>\n",
       "      <td>Cayman Islands</td>\n",
       "      <td>Americas</td>\n",
       "      <td>0</td>\n",
       "      <td>0</td>\n",
       "    </tr>\n",
       "    <tr>\n",
       "      <th>14</th>\n",
       "      <td>Channel Islands</td>\n",
       "      <td>Europe</td>\n",
       "      <td>0</td>\n",
       "      <td>0</td>\n",
       "    </tr>\n",
       "    <tr>\n",
       "      <th>15</th>\n",
       "      <td>Faroe Islands</td>\n",
       "      <td>Europe</td>\n",
       "      <td>0</td>\n",
       "      <td>0</td>\n",
       "    </tr>\n",
       "    <tr>\n",
       "      <th>19</th>\n",
       "      <td>Greenland</td>\n",
       "      <td>Americas</td>\n",
       "      <td>0</td>\n",
       "      <td>0</td>\n",
       "    </tr>\n",
       "    <tr>\n",
       "      <th>31</th>\n",
       "      <td>British Virgin Islands</td>\n",
       "      <td>Americas</td>\n",
       "      <td>0</td>\n",
       "      <td>0</td>\n",
       "    </tr>\n",
       "    <tr>\n",
       "      <th>37</th>\n",
       "      <td>US Virgin Islands</td>\n",
       "      <td>Americas</td>\n",
       "      <td>0</td>\n",
       "      <td>0</td>\n",
       "    </tr>\n",
       "    <tr>\n",
       "      <th>39</th>\n",
       "      <td>New Caledonia</td>\n",
       "      <td>Oceania</td>\n",
       "      <td>0</td>\n",
       "      <td>0</td>\n",
       "    </tr>\n",
       "    <tr>\n",
       "      <th>42</th>\n",
       "      <td>Guam</td>\n",
       "      <td>Oceania</td>\n",
       "      <td>0</td>\n",
       "      <td>0</td>\n",
       "    </tr>\n",
       "    <tr>\n",
       "      <th>58</th>\n",
       "      <td>Sint Maarten (Dutch part)</td>\n",
       "      <td>Americas</td>\n",
       "      <td>0</td>\n",
       "      <td>0</td>\n",
       "    </tr>\n",
       "    <tr>\n",
       "      <th>61</th>\n",
       "      <td>Northern Mariana Islands</td>\n",
       "      <td>Oceania</td>\n",
       "      <td>0</td>\n",
       "      <td>0</td>\n",
       "    </tr>\n",
       "    <tr>\n",
       "      <th>65</th>\n",
       "      <td>Saint Martin (French part)</td>\n",
       "      <td>Americas</td>\n",
       "      <td>0</td>\n",
       "      <td>0</td>\n",
       "    </tr>\n",
       "    <tr>\n",
       "      <th>68</th>\n",
       "      <td>Turks and Caicos Islands</td>\n",
       "      <td>Americas</td>\n",
       "      <td>0</td>\n",
       "      <td>0</td>\n",
       "    </tr>\n",
       "    <tr>\n",
       "      <th>71</th>\n",
       "      <td>French Polynesia</td>\n",
       "      <td>Oceania</td>\n",
       "      <td>0</td>\n",
       "      <td>0</td>\n",
       "    </tr>\n",
       "    <tr>\n",
       "      <th>76</th>\n",
       "      <td>Cook Islands</td>\n",
       "      <td>Oceania</td>\n",
       "      <td>0</td>\n",
       "      <td>0</td>\n",
       "    </tr>\n",
       "    <tr>\n",
       "      <th>77</th>\n",
       "      <td>Anguilla</td>\n",
       "      <td>Americas</td>\n",
       "      <td>0</td>\n",
       "      <td>0</td>\n",
       "    </tr>\n",
       "    <tr>\n",
       "      <th>82</th>\n",
       "      <td>CuraÃ§ao</td>\n",
       "      <td>Americas</td>\n",
       "      <td>0</td>\n",
       "      <td>0</td>\n",
       "    </tr>\n",
       "    <tr>\n",
       "      <th>85</th>\n",
       "      <td>Montserrat</td>\n",
       "      <td>Americas</td>\n",
       "      <td>0</td>\n",
       "      <td>0</td>\n",
       "    </tr>\n",
       "    <tr>\n",
       "      <th>86</th>\n",
       "      <td>American Samoa</td>\n",
       "      <td>Oceania</td>\n",
       "      <td>0</td>\n",
       "      <td>0</td>\n",
       "    </tr>\n",
       "    <tr>\n",
       "      <th>104</th>\n",
       "      <td>Cuba</td>\n",
       "      <td>Americas</td>\n",
       "      <td>0</td>\n",
       "      <td>0</td>\n",
       "    </tr>\n",
       "    <tr>\n",
       "      <th>196</th>\n",
       "      <td>Zanzibar</td>\n",
       "      <td>Africa</td>\n",
       "      <td>0</td>\n",
       "      <td>0</td>\n",
       "    </tr>\n",
       "    <tr>\n",
       "      <th>204</th>\n",
       "      <td>Syria</td>\n",
       "      <td>Asia</td>\n",
       "      <td>0</td>\n",
       "      <td>0</td>\n",
       "    </tr>\n",
       "    <tr>\n",
       "      <th>212</th>\n",
       "      <td>North Korea</td>\n",
       "      <td>Asia</td>\n",
       "      <td>0</td>\n",
       "      <td>0</td>\n",
       "    </tr>\n",
       "  </tbody>\n",
       "</table>\n",
       "</div>"
      ],
      "text/plain": [
       "              Country/Territory UN_Region  IMF_Estimate  IMF_Year\n",
       "1                        Monaco    Europe             0         0\n",
       "2                 Liechtenstein    Europe             0         0\n",
       "5                       Bermuda  Americas             0         0\n",
       "9                   Isle of Man    Europe             0         0\n",
       "10               Cayman Islands  Americas             0         0\n",
       "14              Channel Islands    Europe             0         0\n",
       "15                Faroe Islands    Europe             0         0\n",
       "19                    Greenland  Americas             0         0\n",
       "31       British Virgin Islands  Americas             0         0\n",
       "37            US Virgin Islands  Americas             0         0\n",
       "39                New Caledonia   Oceania             0         0\n",
       "42                         Guam   Oceania             0         0\n",
       "58    Sint Maarten (Dutch part)  Americas             0         0\n",
       "61     Northern Mariana Islands   Oceania             0         0\n",
       "65   Saint Martin (French part)  Americas             0         0\n",
       "68     Turks and Caicos Islands  Americas             0         0\n",
       "71             French Polynesia   Oceania             0         0\n",
       "76                 Cook Islands   Oceania             0         0\n",
       "77                     Anguilla  Americas             0         0\n",
       "82                     CuraÃ§ao  Americas             0         0\n",
       "85                   Montserrat  Americas             0         0\n",
       "86               American Samoa   Oceania             0         0\n",
       "104                        Cuba  Americas             0         0\n",
       "196                    Zanzibar    Africa             0         0\n",
       "204                       Syria      Asia             0         0\n",
       "212                 North Korea      Asia             0         0"
      ]
     },
     "execution_count": 50,
     "metadata": {},
     "output_type": "execute_result"
    }
   ],
   "source": [
    "df_imf_0 = df[(df['IMF_Estimate'] == 0) | (df['IMF_Year'] == 0)]\n",
    "df_imf_0[['Country/Territory','UN_Region','IMF_Estimate','IMF_Year']]"
   ]
  },
  {
   "cell_type": "markdown",
   "id": "2228dc87",
   "metadata": {
    "jp-MarkdownHeadingCollapsed": true
   },
   "source": [
    "## Which country has highest UN Estimate?"
   ]
  },
  {
   "cell_type": "code",
   "execution_count": 52,
   "id": "8205397d",
   "metadata": {},
   "outputs": [
    {
     "name": "stdout",
     "output_type": "stream",
     "text": [
      "Country with highest UN Estimate: Monaco\n",
      "UN Estimate value: 234317\n"
     ]
    }
   ],
   "source": [
    "highest_un = df.loc[df['UN_Estimate'].idxmax()]\n",
    "\n",
    "# Display the country and the estimate\n",
    "print(\"Country with highest UN Estimate:\", highest_un['Country/Territory'])\n",
    "print(\"UN Estimate value:\", highest_un['UN_Estimate'])"
   ]
  },
  {
   "cell_type": "markdown",
   "id": "3a1d3c89",
   "metadata": {
    "jp-MarkdownHeadingCollapsed": true
   },
   "source": [
    "## Which country has highest Worlbank Estimate?"
   ]
  },
  {
   "cell_type": "code",
   "execution_count": 53,
   "id": "4dbc124d",
   "metadata": {},
   "outputs": [
    {
     "name": "stdout",
     "output_type": "stream",
     "text": [
      "Country with highest WorldBank Estimate: Monaco\n",
      "WorldBank Estimate value: 234316\n"
     ]
    }
   ],
   "source": [
    "highest_un = df.loc[df['WorldBank_Estimate'].idxmax()]\n",
    "\n",
    "# Display the country and the estimate\n",
    "print(\"Country with highest WorldBank Estimate:\", highest_un['Country/Territory'])\n",
    "print(\"WorldBank Estimate value:\", highest_un['WorldBank_Estimate'])"
   ]
  },
  {
   "cell_type": "markdown",
   "id": "7efaadc8",
   "metadata": {
    "jp-MarkdownHeadingCollapsed": true
   },
   "source": [
    "## Which country has highest IMF Estimate?"
   ]
  },
  {
   "cell_type": "code",
   "execution_count": 54,
   "id": "9f3dbffc",
   "metadata": {},
   "outputs": [
    {
     "name": "stdout",
     "output_type": "stream",
     "text": [
      "Country with highest IMF Estimate: Luxembourg\n",
      "IMF Estimate value: 132372\n"
     ]
    }
   ],
   "source": [
    "highest_un = df.loc[df['IMF_Estimate'].idxmax()]\n",
    "\n",
    "# Display the country and the estimate\n",
    "print(\"Country with highest IMF Estimate:\", highest_un['Country/Territory'])\n",
    "print(\"IMF Estimate value:\", highest_un['IMF_Estimate'])"
   ]
  },
  {
   "cell_type": "markdown",
   "id": "4b4f060e-3352-4e53-8f07-42131e363ed5",
   "metadata": {
    "jp-MarkdownHeadingCollapsed": true
   },
   "source": [
    "## Filling 0 Values by average"
   ]
  },
  {
   "cell_type": "code",
   "execution_count": null,
   "id": "66070730-be45-4c5b-b508-92113f9ab826",
   "metadata": {},
   "outputs": [],
   "source": [
    "import numpy as np"
   ]
  },
  {
   "cell_type": "code",
   "execution_count": 56,
   "id": "48b3f09e-8c51-43d5-ac74-4c33042a2300",
   "metadata": {},
   "outputs": [
    {
     "data": {
      "text/html": [
       "<div>\n",
       "<style scoped>\n",
       "    .dataframe tbody tr th:only-of-type {\n",
       "        vertical-align: middle;\n",
       "    }\n",
       "\n",
       "    .dataframe tbody tr th {\n",
       "        vertical-align: top;\n",
       "    }\n",
       "\n",
       "    .dataframe thead th {\n",
       "        text-align: right;\n",
       "    }\n",
       "</style>\n",
       "<table border=\"1\" class=\"dataframe\">\n",
       "  <thead>\n",
       "    <tr style=\"text-align: right;\">\n",
       "      <th></th>\n",
       "      <th>Country/Territory</th>\n",
       "      <th>UN_Region</th>\n",
       "      <th>IMF_Estimate</th>\n",
       "      <th>IMF_Year</th>\n",
       "      <th>WorldBank_Estimate</th>\n",
       "      <th>WorldBank_Year</th>\n",
       "      <th>UN_Estimate</th>\n",
       "      <th>UN_Year</th>\n",
       "      <th>UN_Year_Clean</th>\n",
       "    </tr>\n",
       "  </thead>\n",
       "  <tbody>\n",
       "    <tr>\n",
       "      <th>1</th>\n",
       "      <td>Monaco</td>\n",
       "      <td>Europe</td>\n",
       "      <td>NaN</td>\n",
       "      <td>NaN</td>\n",
       "      <td>234316.0</td>\n",
       "      <td>2021.0</td>\n",
       "      <td>234317.0</td>\n",
       "      <td>2021</td>\n",
       "      <td>2021</td>\n",
       "    </tr>\n",
       "    <tr>\n",
       "      <th>2</th>\n",
       "      <td>Liechtenstein</td>\n",
       "      <td>Europe</td>\n",
       "      <td>NaN</td>\n",
       "      <td>NaN</td>\n",
       "      <td>157755.0</td>\n",
       "      <td>2020.0</td>\n",
       "      <td>169260.0</td>\n",
       "      <td>2021</td>\n",
       "      <td>2021</td>\n",
       "    </tr>\n",
       "    <tr>\n",
       "      <th>3</th>\n",
       "      <td>Luxembourg</td>\n",
       "      <td>Europe</td>\n",
       "      <td>132372.0</td>\n",
       "      <td>2023.0</td>\n",
       "      <td>133590.0</td>\n",
       "      <td>2021.0</td>\n",
       "      <td>133745.0</td>\n",
       "      <td>2021</td>\n",
       "      <td>2021</td>\n",
       "    </tr>\n",
       "    <tr>\n",
       "      <th>4</th>\n",
       "      <td>Ireland</td>\n",
       "      <td>Europe</td>\n",
       "      <td>114581.0</td>\n",
       "      <td>2023.0</td>\n",
       "      <td>100172.0</td>\n",
       "      <td>2021.0</td>\n",
       "      <td>101109.0</td>\n",
       "      <td>2021</td>\n",
       "      <td>2021</td>\n",
       "    </tr>\n",
       "    <tr>\n",
       "      <th>5</th>\n",
       "      <td>Bermuda</td>\n",
       "      <td>Americas</td>\n",
       "      <td>NaN</td>\n",
       "      <td>NaN</td>\n",
       "      <td>114090.0</td>\n",
       "      <td>2021.0</td>\n",
       "      <td>112653.0</td>\n",
       "      <td>2021</td>\n",
       "      <td>2021</td>\n",
       "    </tr>\n",
       "    <tr>\n",
       "      <th>...</th>\n",
       "      <td>...</td>\n",
       "      <td>...</td>\n",
       "      <td>...</td>\n",
       "      <td>...</td>\n",
       "      <td>...</td>\n",
       "      <td>...</td>\n",
       "      <td>...</td>\n",
       "      <td>...</td>\n",
       "      <td>...</td>\n",
       "    </tr>\n",
       "    <tr>\n",
       "      <th>219</th>\n",
       "      <td>Malawi</td>\n",
       "      <td>Africa</td>\n",
       "      <td>496.0</td>\n",
       "      <td>2023.0</td>\n",
       "      <td>635.0</td>\n",
       "      <td>2021.0</td>\n",
       "      <td>613.0</td>\n",
       "      <td>2021</td>\n",
       "      <td>2021</td>\n",
       "    </tr>\n",
       "    <tr>\n",
       "      <th>220</th>\n",
       "      <td>South Sudan</td>\n",
       "      <td>Africa</td>\n",
       "      <td>467.0</td>\n",
       "      <td>2023.0</td>\n",
       "      <td>1072.0</td>\n",
       "      <td>2015.0</td>\n",
       "      <td>400.0</td>\n",
       "      <td>2021</td>\n",
       "      <td>2021</td>\n",
       "    </tr>\n",
       "    <tr>\n",
       "      <th>221</th>\n",
       "      <td>Sierra Leone</td>\n",
       "      <td>Africa</td>\n",
       "      <td>415.0</td>\n",
       "      <td>2023.0</td>\n",
       "      <td>480.0</td>\n",
       "      <td>2021.0</td>\n",
       "      <td>505.0</td>\n",
       "      <td>2021</td>\n",
       "      <td>2021</td>\n",
       "    </tr>\n",
       "    <tr>\n",
       "      <th>222</th>\n",
       "      <td>Afghanistan</td>\n",
       "      <td>Asia</td>\n",
       "      <td>611.0</td>\n",
       "      <td>2020.0</td>\n",
       "      <td>369.0</td>\n",
       "      <td>2021.0</td>\n",
       "      <td>373.0</td>\n",
       "      <td>2021</td>\n",
       "      <td>2021</td>\n",
       "    </tr>\n",
       "    <tr>\n",
       "      <th>223</th>\n",
       "      <td>Burundi</td>\n",
       "      <td>Africa</td>\n",
       "      <td>249.0</td>\n",
       "      <td>2023.0</td>\n",
       "      <td>222.0</td>\n",
       "      <td>2021.0</td>\n",
       "      <td>311.0</td>\n",
       "      <td>2021</td>\n",
       "      <td>2021</td>\n",
       "    </tr>\n",
       "  </tbody>\n",
       "</table>\n",
       "<p>223 rows × 9 columns</p>\n",
       "</div>"
      ],
      "text/plain": [
       "    Country/Territory UN_Region  IMF_Estimate  IMF_Year  WorldBank_Estimate  \\\n",
       "1              Monaco    Europe           NaN       NaN            234316.0   \n",
       "2       Liechtenstein    Europe           NaN       NaN            157755.0   \n",
       "3          Luxembourg    Europe      132372.0    2023.0            133590.0   \n",
       "4             Ireland    Europe      114581.0    2023.0            100172.0   \n",
       "5             Bermuda  Americas           NaN       NaN            114090.0   \n",
       "..                ...       ...           ...       ...                 ...   \n",
       "219            Malawi    Africa         496.0    2023.0               635.0   \n",
       "220       South Sudan    Africa         467.0    2023.0              1072.0   \n",
       "221      Sierra Leone    Africa         415.0    2023.0               480.0   \n",
       "222       Afghanistan      Asia         611.0    2020.0               369.0   \n",
       "223           Burundi    Africa         249.0    2023.0               222.0   \n",
       "\n",
       "     WorldBank_Year  UN_Estimate UN_Year UN_Year_Clean  \n",
       "1            2021.0     234317.0    2021          2021  \n",
       "2            2020.0     169260.0    2021          2021  \n",
       "3            2021.0     133745.0    2021          2021  \n",
       "4            2021.0     101109.0    2021          2021  \n",
       "5            2021.0     112653.0    2021          2021  \n",
       "..              ...          ...     ...           ...  \n",
       "219          2021.0        613.0    2021          2021  \n",
       "220          2015.0        400.0    2021          2021  \n",
       "221          2021.0        505.0    2021          2021  \n",
       "222          2021.0        373.0    2021          2021  \n",
       "223          2021.0        311.0    2021          2021  \n",
       "\n",
       "[223 rows x 9 columns]"
      ]
     },
     "execution_count": 56,
     "metadata": {},
     "output_type": "execute_result"
    }
   ],
   "source": [
    "# replace 0 with null values\n",
    "\n",
    "import numpy as np\n",
    "\n",
    "df.replace(0, np.nan, inplace=True)\n",
    "df"
   ]
  },
  {
   "cell_type": "code",
   "execution_count": 70,
   "id": "a5deaf5e-d69d-40ce-a6d7-e7205c29f006",
   "metadata": {},
   "outputs": [
    {
     "name": "stdout",
     "output_type": "stream",
     "text": [
      "The average of 'WorldBank_Estimate' column is: 19540.805555555555\n",
      "The average of 'UN_Estimate' column is: 18514.528037383177\n"
     ]
    },
    {
     "data": {
      "text/html": [
       "<div>\n",
       "<style scoped>\n",
       "    .dataframe tbody tr th:only-of-type {\n",
       "        vertical-align: middle;\n",
       "    }\n",
       "\n",
       "    .dataframe tbody tr th {\n",
       "        vertical-align: top;\n",
       "    }\n",
       "\n",
       "    .dataframe thead th {\n",
       "        text-align: right;\n",
       "    }\n",
       "</style>\n",
       "<table border=\"1\" class=\"dataframe\">\n",
       "  <thead>\n",
       "    <tr style=\"text-align: right;\">\n",
       "      <th></th>\n",
       "      <th>Country/Territory</th>\n",
       "      <th>UN_Region</th>\n",
       "      <th>IMF_Estimate</th>\n",
       "      <th>IMF_Year</th>\n",
       "      <th>WorldBank_Estimate</th>\n",
       "      <th>WorldBank_Year</th>\n",
       "      <th>UN_Estimate</th>\n",
       "      <th>UN_Year</th>\n",
       "      <th>UN_Year_Clean</th>\n",
       "      <th>avg_worldbank_un</th>\n",
       "    </tr>\n",
       "  </thead>\n",
       "  <tbody>\n",
       "    <tr>\n",
       "      <th>1</th>\n",
       "      <td>Monaco</td>\n",
       "      <td>Europe</td>\n",
       "      <td>17377.736041</td>\n",
       "      <td>2022</td>\n",
       "      <td>234316.0</td>\n",
       "      <td>2021.0</td>\n",
       "      <td>234317.0</td>\n",
       "      <td>2021</td>\n",
       "      <td>2021</td>\n",
       "      <td>234316.5</td>\n",
       "    </tr>\n",
       "    <tr>\n",
       "      <th>2</th>\n",
       "      <td>Liechtenstein</td>\n",
       "      <td>Europe</td>\n",
       "      <td>17377.736041</td>\n",
       "      <td>2022</td>\n",
       "      <td>157755.0</td>\n",
       "      <td>2020.0</td>\n",
       "      <td>169260.0</td>\n",
       "      <td>2021</td>\n",
       "      <td>2021</td>\n",
       "      <td>163507.5</td>\n",
       "    </tr>\n",
       "    <tr>\n",
       "      <th>3</th>\n",
       "      <td>Luxembourg</td>\n",
       "      <td>Europe</td>\n",
       "      <td>132372.000000</td>\n",
       "      <td>2023</td>\n",
       "      <td>133590.0</td>\n",
       "      <td>2021.0</td>\n",
       "      <td>133745.0</td>\n",
       "      <td>2021</td>\n",
       "      <td>2021</td>\n",
       "      <td>133667.5</td>\n",
       "    </tr>\n",
       "    <tr>\n",
       "      <th>4</th>\n",
       "      <td>Ireland</td>\n",
       "      <td>Europe</td>\n",
       "      <td>114581.000000</td>\n",
       "      <td>2023</td>\n",
       "      <td>100172.0</td>\n",
       "      <td>2021.0</td>\n",
       "      <td>101109.0</td>\n",
       "      <td>2021</td>\n",
       "      <td>2021</td>\n",
       "      <td>100640.5</td>\n",
       "    </tr>\n",
       "    <tr>\n",
       "      <th>5</th>\n",
       "      <td>Bermuda</td>\n",
       "      <td>Americas</td>\n",
       "      <td>17377.736041</td>\n",
       "      <td>2022</td>\n",
       "      <td>114090.0</td>\n",
       "      <td>2021.0</td>\n",
       "      <td>112653.0</td>\n",
       "      <td>2021</td>\n",
       "      <td>2021</td>\n",
       "      <td>113371.5</td>\n",
       "    </tr>\n",
       "    <tr>\n",
       "      <th>...</th>\n",
       "      <td>...</td>\n",
       "      <td>...</td>\n",
       "      <td>...</td>\n",
       "      <td>...</td>\n",
       "      <td>...</td>\n",
       "      <td>...</td>\n",
       "      <td>...</td>\n",
       "      <td>...</td>\n",
       "      <td>...</td>\n",
       "      <td>...</td>\n",
       "    </tr>\n",
       "    <tr>\n",
       "      <th>219</th>\n",
       "      <td>Malawi</td>\n",
       "      <td>Africa</td>\n",
       "      <td>496.000000</td>\n",
       "      <td>2023</td>\n",
       "      <td>635.0</td>\n",
       "      <td>2021.0</td>\n",
       "      <td>613.0</td>\n",
       "      <td>2021</td>\n",
       "      <td>2021</td>\n",
       "      <td>624.0</td>\n",
       "    </tr>\n",
       "    <tr>\n",
       "      <th>220</th>\n",
       "      <td>South Sudan</td>\n",
       "      <td>Africa</td>\n",
       "      <td>467.000000</td>\n",
       "      <td>2023</td>\n",
       "      <td>1072.0</td>\n",
       "      <td>2015.0</td>\n",
       "      <td>400.0</td>\n",
       "      <td>2021</td>\n",
       "      <td>2021</td>\n",
       "      <td>736.0</td>\n",
       "    </tr>\n",
       "    <tr>\n",
       "      <th>221</th>\n",
       "      <td>Sierra Leone</td>\n",
       "      <td>Africa</td>\n",
       "      <td>415.000000</td>\n",
       "      <td>2023</td>\n",
       "      <td>480.0</td>\n",
       "      <td>2021.0</td>\n",
       "      <td>505.0</td>\n",
       "      <td>2021</td>\n",
       "      <td>2021</td>\n",
       "      <td>492.5</td>\n",
       "    </tr>\n",
       "    <tr>\n",
       "      <th>222</th>\n",
       "      <td>Afghanistan</td>\n",
       "      <td>Asia</td>\n",
       "      <td>611.000000</td>\n",
       "      <td>2020</td>\n",
       "      <td>369.0</td>\n",
       "      <td>2021.0</td>\n",
       "      <td>373.0</td>\n",
       "      <td>2021</td>\n",
       "      <td>2021</td>\n",
       "      <td>371.0</td>\n",
       "    </tr>\n",
       "    <tr>\n",
       "      <th>223</th>\n",
       "      <td>Burundi</td>\n",
       "      <td>Africa</td>\n",
       "      <td>249.000000</td>\n",
       "      <td>2023</td>\n",
       "      <td>222.0</td>\n",
       "      <td>2021.0</td>\n",
       "      <td>311.0</td>\n",
       "      <td>2021</td>\n",
       "      <td>2021</td>\n",
       "      <td>266.5</td>\n",
       "    </tr>\n",
       "  </tbody>\n",
       "</table>\n",
       "<p>223 rows × 10 columns</p>\n",
       "</div>"
      ],
      "text/plain": [
       "    Country/Territory UN_Region   IMF_Estimate IMF_Year  WorldBank_Estimate  \\\n",
       "1              Monaco    Europe   17377.736041     2022            234316.0   \n",
       "2       Liechtenstein    Europe   17377.736041     2022            157755.0   \n",
       "3          Luxembourg    Europe  132372.000000     2023            133590.0   \n",
       "4             Ireland    Europe  114581.000000     2023            100172.0   \n",
       "5             Bermuda  Americas   17377.736041     2022            114090.0   \n",
       "..                ...       ...            ...      ...                 ...   \n",
       "219            Malawi    Africa     496.000000     2023               635.0   \n",
       "220       South Sudan    Africa     467.000000     2023              1072.0   \n",
       "221      Sierra Leone    Africa     415.000000     2023               480.0   \n",
       "222       Afghanistan      Asia     611.000000     2020               369.0   \n",
       "223           Burundi    Africa     249.000000     2023               222.0   \n",
       "\n",
       "     WorldBank_Year  UN_Estimate UN_Year UN_Year_Clean  avg_worldbank_un  \n",
       "1            2021.0     234317.0    2021          2021          234316.5  \n",
       "2            2020.0     169260.0    2021          2021          163507.5  \n",
       "3            2021.0     133745.0    2021          2021          133667.5  \n",
       "4            2021.0     101109.0    2021          2021          100640.5  \n",
       "5            2021.0     112653.0    2021          2021          113371.5  \n",
       "..              ...          ...     ...           ...               ...  \n",
       "219          2021.0        613.0    2021          2021             624.0  \n",
       "220          2015.0        400.0    2021          2021             736.0  \n",
       "221          2021.0        505.0    2021          2021             492.5  \n",
       "222          2021.0        373.0    2021          2021             371.0  \n",
       "223          2021.0        311.0    2021          2021             266.5  \n",
       "\n",
       "[223 rows x 10 columns]"
      ]
     },
     "execution_count": 70,
     "metadata": {},
     "output_type": "execute_result"
    }
   ],
   "source": [
    "# Calculate the average of 'Worldbank_Estimate' and 'UN_Estimate' columns\n",
    "avg_Worldbank_Estimate = df['WorldBank_Estimate'].mean()\n",
    "print(\"The average of 'WorldBank_Estimate' column is:\",avg_Worldbank_Estimate)\n",
    "avg_UN_Estimate = df['UN_Estimate'].mean()\n",
    "print(\"The average of 'UN_Estimate' column is:\",avg_UN_Estimate)\n",
    "\n",
    "\n",
    "df['avg_worldbank_un'] = df[['WorldBank_Estimate', 'UN_Estimate']].mean(axis=1)\n",
    "df"
   ]
  },
  {
   "cell_type": "code",
   "execution_count": 72,
   "id": "e6204448-c58b-413d-8015-36a7727c2ef5",
   "metadata": {},
   "outputs": [
    {
     "data": {
      "text/html": [
       "<div>\n",
       "<style scoped>\n",
       "    .dataframe tbody tr th:only-of-type {\n",
       "        vertical-align: middle;\n",
       "    }\n",
       "\n",
       "    .dataframe tbody tr th {\n",
       "        vertical-align: top;\n",
       "    }\n",
       "\n",
       "    .dataframe thead th {\n",
       "        text-align: right;\n",
       "    }\n",
       "</style>\n",
       "<table border=\"1\" class=\"dataframe\">\n",
       "  <thead>\n",
       "    <tr style=\"text-align: right;\">\n",
       "      <th></th>\n",
       "      <th>Country/Territory</th>\n",
       "      <th>UN_Region</th>\n",
       "      <th>IMF_Estimate</th>\n",
       "      <th>IMF_Year</th>\n",
       "      <th>WorldBank_Estimate</th>\n",
       "      <th>WorldBank_Year</th>\n",
       "      <th>UN_Estimate</th>\n",
       "      <th>UN_Year</th>\n",
       "      <th>UN_Year_Clean</th>\n",
       "      <th>avg_worldbank_un</th>\n",
       "    </tr>\n",
       "  </thead>\n",
       "  <tbody>\n",
       "    <tr>\n",
       "      <th>1</th>\n",
       "      <td>Monaco</td>\n",
       "      <td>Europe</td>\n",
       "      <td>17377.736041</td>\n",
       "      <td>2022</td>\n",
       "      <td>234316.0</td>\n",
       "      <td>2021.0</td>\n",
       "      <td>234317.0</td>\n",
       "      <td>2021</td>\n",
       "      <td>2021</td>\n",
       "      <td>234316.5</td>\n",
       "    </tr>\n",
       "    <tr>\n",
       "      <th>2</th>\n",
       "      <td>Liechtenstein</td>\n",
       "      <td>Europe</td>\n",
       "      <td>17377.736041</td>\n",
       "      <td>2022</td>\n",
       "      <td>157755.0</td>\n",
       "      <td>2020.0</td>\n",
       "      <td>169260.0</td>\n",
       "      <td>2021</td>\n",
       "      <td>2021</td>\n",
       "      <td>163507.5</td>\n",
       "    </tr>\n",
       "    <tr>\n",
       "      <th>3</th>\n",
       "      <td>Luxembourg</td>\n",
       "      <td>Europe</td>\n",
       "      <td>132372.000000</td>\n",
       "      <td>2023</td>\n",
       "      <td>133590.0</td>\n",
       "      <td>2021.0</td>\n",
       "      <td>133745.0</td>\n",
       "      <td>2021</td>\n",
       "      <td>2021</td>\n",
       "      <td>133667.5</td>\n",
       "    </tr>\n",
       "    <tr>\n",
       "      <th>4</th>\n",
       "      <td>Ireland</td>\n",
       "      <td>Europe</td>\n",
       "      <td>114581.000000</td>\n",
       "      <td>2023</td>\n",
       "      <td>100172.0</td>\n",
       "      <td>2021.0</td>\n",
       "      <td>101109.0</td>\n",
       "      <td>2021</td>\n",
       "      <td>2021</td>\n",
       "      <td>100640.5</td>\n",
       "    </tr>\n",
       "    <tr>\n",
       "      <th>5</th>\n",
       "      <td>Bermuda</td>\n",
       "      <td>Americas</td>\n",
       "      <td>17377.736041</td>\n",
       "      <td>2022</td>\n",
       "      <td>114090.0</td>\n",
       "      <td>2021.0</td>\n",
       "      <td>112653.0</td>\n",
       "      <td>2021</td>\n",
       "      <td>2021</td>\n",
       "      <td>113371.5</td>\n",
       "    </tr>\n",
       "    <tr>\n",
       "      <th>...</th>\n",
       "      <td>...</td>\n",
       "      <td>...</td>\n",
       "      <td>...</td>\n",
       "      <td>...</td>\n",
       "      <td>...</td>\n",
       "      <td>...</td>\n",
       "      <td>...</td>\n",
       "      <td>...</td>\n",
       "      <td>...</td>\n",
       "      <td>...</td>\n",
       "    </tr>\n",
       "    <tr>\n",
       "      <th>219</th>\n",
       "      <td>Malawi</td>\n",
       "      <td>Africa</td>\n",
       "      <td>496.000000</td>\n",
       "      <td>2023</td>\n",
       "      <td>635.0</td>\n",
       "      <td>2021.0</td>\n",
       "      <td>613.0</td>\n",
       "      <td>2021</td>\n",
       "      <td>2021</td>\n",
       "      <td>624.0</td>\n",
       "    </tr>\n",
       "    <tr>\n",
       "      <th>220</th>\n",
       "      <td>South Sudan</td>\n",
       "      <td>Africa</td>\n",
       "      <td>467.000000</td>\n",
       "      <td>2023</td>\n",
       "      <td>1072.0</td>\n",
       "      <td>2015.0</td>\n",
       "      <td>400.0</td>\n",
       "      <td>2021</td>\n",
       "      <td>2021</td>\n",
       "      <td>736.0</td>\n",
       "    </tr>\n",
       "    <tr>\n",
       "      <th>221</th>\n",
       "      <td>Sierra Leone</td>\n",
       "      <td>Africa</td>\n",
       "      <td>415.000000</td>\n",
       "      <td>2023</td>\n",
       "      <td>480.0</td>\n",
       "      <td>2021.0</td>\n",
       "      <td>505.0</td>\n",
       "      <td>2021</td>\n",
       "      <td>2021</td>\n",
       "      <td>492.5</td>\n",
       "    </tr>\n",
       "    <tr>\n",
       "      <th>222</th>\n",
       "      <td>Afghanistan</td>\n",
       "      <td>Asia</td>\n",
       "      <td>611.000000</td>\n",
       "      <td>2020</td>\n",
       "      <td>369.0</td>\n",
       "      <td>2021.0</td>\n",
       "      <td>373.0</td>\n",
       "      <td>2021</td>\n",
       "      <td>2021</td>\n",
       "      <td>371.0</td>\n",
       "    </tr>\n",
       "    <tr>\n",
       "      <th>223</th>\n",
       "      <td>Burundi</td>\n",
       "      <td>Africa</td>\n",
       "      <td>249.000000</td>\n",
       "      <td>2023</td>\n",
       "      <td>222.0</td>\n",
       "      <td>2021.0</td>\n",
       "      <td>311.0</td>\n",
       "      <td>2021</td>\n",
       "      <td>2021</td>\n",
       "      <td>266.5</td>\n",
       "    </tr>\n",
       "  </tbody>\n",
       "</table>\n",
       "<p>223 rows × 10 columns</p>\n",
       "</div>"
      ],
      "text/plain": [
       "    Country/Territory UN_Region   IMF_Estimate IMF_Year  WorldBank_Estimate  \\\n",
       "1              Monaco    Europe   17377.736041     2022            234316.0   \n",
       "2       Liechtenstein    Europe   17377.736041     2022            157755.0   \n",
       "3          Luxembourg    Europe  132372.000000     2023            133590.0   \n",
       "4             Ireland    Europe  114581.000000     2023            100172.0   \n",
       "5             Bermuda  Americas   17377.736041     2022            114090.0   \n",
       "..                ...       ...            ...      ...                 ...   \n",
       "219            Malawi    Africa     496.000000     2023               635.0   \n",
       "220       South Sudan    Africa     467.000000     2023              1072.0   \n",
       "221      Sierra Leone    Africa     415.000000     2023               480.0   \n",
       "222       Afghanistan      Asia     611.000000     2020               369.0   \n",
       "223           Burundi    Africa     249.000000     2023               222.0   \n",
       "\n",
       "     WorldBank_Year  UN_Estimate UN_Year UN_Year_Clean  avg_worldbank_un  \n",
       "1            2021.0     234317.0    2021          2021          234316.5  \n",
       "2            2020.0     169260.0    2021          2021          163507.5  \n",
       "3            2021.0     133745.0    2021          2021          133667.5  \n",
       "4            2021.0     101109.0    2021          2021          100640.5  \n",
       "5            2021.0     112653.0    2021          2021          113371.5  \n",
       "..              ...          ...     ...           ...               ...  \n",
       "219          2021.0        613.0    2021          2021             624.0  \n",
       "220          2015.0        400.0    2021          2021             736.0  \n",
       "221          2021.0        505.0    2021          2021             492.5  \n",
       "222          2021.0        373.0    2021          2021             371.0  \n",
       "223          2021.0        311.0    2021          2021             266.5  \n",
       "\n",
       "[223 rows x 10 columns]"
      ]
     },
     "execution_count": 72,
     "metadata": {},
     "output_type": "execute_result"
    }
   ],
   "source": [
    "# Fill the null values in 'imf' column with the calculated average\n",
    "df['IMF_Estimate'] = df['IMF_Estimate'].fillna(df['IMF_Estimate'].mean())\n",
    "#imf_mean_year = round(df['IMF_Year'].mean())\n",
    "df['IMF_Year'] = df['IMF_Year'].fillna(imf_mean_year).astype(int).astype(str)\n",
    "df"
   ]
  },
  {
   "cell_type": "code",
   "execution_count": 73,
   "id": "cd6c1dc9-caa5-4489-a607-671526727dd6",
   "metadata": {},
   "outputs": [
    {
     "data": {
      "text/html": [
       "<div>\n",
       "<style scoped>\n",
       "    .dataframe tbody tr th:only-of-type {\n",
       "        vertical-align: middle;\n",
       "    }\n",
       "\n",
       "    .dataframe tbody tr th {\n",
       "        vertical-align: top;\n",
       "    }\n",
       "\n",
       "    .dataframe thead th {\n",
       "        text-align: right;\n",
       "    }\n",
       "</style>\n",
       "<table border=\"1\" class=\"dataframe\">\n",
       "  <thead>\n",
       "    <tr style=\"text-align: right;\">\n",
       "      <th></th>\n",
       "      <th>Country/Territory</th>\n",
       "      <th>UN_Region</th>\n",
       "      <th>IMF_Estimate</th>\n",
       "      <th>IMF_Year</th>\n",
       "      <th>WorldBank_Estimate</th>\n",
       "      <th>WorldBank_Year</th>\n",
       "      <th>UN_Estimate</th>\n",
       "      <th>UN_Year</th>\n",
       "      <th>UN_Year_Clean</th>\n",
       "    </tr>\n",
       "  </thead>\n",
       "  <tbody>\n",
       "    <tr>\n",
       "      <th>1</th>\n",
       "      <td>Monaco</td>\n",
       "      <td>Europe</td>\n",
       "      <td>17377.736041</td>\n",
       "      <td>2022</td>\n",
       "      <td>234316.0</td>\n",
       "      <td>2021.0</td>\n",
       "      <td>234317.0</td>\n",
       "      <td>2021</td>\n",
       "      <td>2021</td>\n",
       "    </tr>\n",
       "    <tr>\n",
       "      <th>2</th>\n",
       "      <td>Liechtenstein</td>\n",
       "      <td>Europe</td>\n",
       "      <td>17377.736041</td>\n",
       "      <td>2022</td>\n",
       "      <td>157755.0</td>\n",
       "      <td>2020.0</td>\n",
       "      <td>169260.0</td>\n",
       "      <td>2021</td>\n",
       "      <td>2021</td>\n",
       "    </tr>\n",
       "    <tr>\n",
       "      <th>3</th>\n",
       "      <td>Luxembourg</td>\n",
       "      <td>Europe</td>\n",
       "      <td>132372.000000</td>\n",
       "      <td>2023</td>\n",
       "      <td>133590.0</td>\n",
       "      <td>2021.0</td>\n",
       "      <td>133745.0</td>\n",
       "      <td>2021</td>\n",
       "      <td>2021</td>\n",
       "    </tr>\n",
       "    <tr>\n",
       "      <th>4</th>\n",
       "      <td>Ireland</td>\n",
       "      <td>Europe</td>\n",
       "      <td>114581.000000</td>\n",
       "      <td>2023</td>\n",
       "      <td>100172.0</td>\n",
       "      <td>2021.0</td>\n",
       "      <td>101109.0</td>\n",
       "      <td>2021</td>\n",
       "      <td>2021</td>\n",
       "    </tr>\n",
       "    <tr>\n",
       "      <th>5</th>\n",
       "      <td>Bermuda</td>\n",
       "      <td>Americas</td>\n",
       "      <td>17377.736041</td>\n",
       "      <td>2022</td>\n",
       "      <td>114090.0</td>\n",
       "      <td>2021.0</td>\n",
       "      <td>112653.0</td>\n",
       "      <td>2021</td>\n",
       "      <td>2021</td>\n",
       "    </tr>\n",
       "    <tr>\n",
       "      <th>...</th>\n",
       "      <td>...</td>\n",
       "      <td>...</td>\n",
       "      <td>...</td>\n",
       "      <td>...</td>\n",
       "      <td>...</td>\n",
       "      <td>...</td>\n",
       "      <td>...</td>\n",
       "      <td>...</td>\n",
       "      <td>...</td>\n",
       "    </tr>\n",
       "    <tr>\n",
       "      <th>219</th>\n",
       "      <td>Malawi</td>\n",
       "      <td>Africa</td>\n",
       "      <td>496.000000</td>\n",
       "      <td>2023</td>\n",
       "      <td>635.0</td>\n",
       "      <td>2021.0</td>\n",
       "      <td>613.0</td>\n",
       "      <td>2021</td>\n",
       "      <td>2021</td>\n",
       "    </tr>\n",
       "    <tr>\n",
       "      <th>220</th>\n",
       "      <td>South Sudan</td>\n",
       "      <td>Africa</td>\n",
       "      <td>467.000000</td>\n",
       "      <td>2023</td>\n",
       "      <td>1072.0</td>\n",
       "      <td>2015.0</td>\n",
       "      <td>400.0</td>\n",
       "      <td>2021</td>\n",
       "      <td>2021</td>\n",
       "    </tr>\n",
       "    <tr>\n",
       "      <th>221</th>\n",
       "      <td>Sierra Leone</td>\n",
       "      <td>Africa</td>\n",
       "      <td>415.000000</td>\n",
       "      <td>2023</td>\n",
       "      <td>480.0</td>\n",
       "      <td>2021.0</td>\n",
       "      <td>505.0</td>\n",
       "      <td>2021</td>\n",
       "      <td>2021</td>\n",
       "    </tr>\n",
       "    <tr>\n",
       "      <th>222</th>\n",
       "      <td>Afghanistan</td>\n",
       "      <td>Asia</td>\n",
       "      <td>611.000000</td>\n",
       "      <td>2020</td>\n",
       "      <td>369.0</td>\n",
       "      <td>2021.0</td>\n",
       "      <td>373.0</td>\n",
       "      <td>2021</td>\n",
       "      <td>2021</td>\n",
       "    </tr>\n",
       "    <tr>\n",
       "      <th>223</th>\n",
       "      <td>Burundi</td>\n",
       "      <td>Africa</td>\n",
       "      <td>249.000000</td>\n",
       "      <td>2023</td>\n",
       "      <td>222.0</td>\n",
       "      <td>2021.0</td>\n",
       "      <td>311.0</td>\n",
       "      <td>2021</td>\n",
       "      <td>2021</td>\n",
       "    </tr>\n",
       "  </tbody>\n",
       "</table>\n",
       "<p>223 rows × 9 columns</p>\n",
       "</div>"
      ],
      "text/plain": [
       "    Country/Territory UN_Region   IMF_Estimate IMF_Year  WorldBank_Estimate  \\\n",
       "1              Monaco    Europe   17377.736041     2022            234316.0   \n",
       "2       Liechtenstein    Europe   17377.736041     2022            157755.0   \n",
       "3          Luxembourg    Europe  132372.000000     2023            133590.0   \n",
       "4             Ireland    Europe  114581.000000     2023            100172.0   \n",
       "5             Bermuda  Americas   17377.736041     2022            114090.0   \n",
       "..                ...       ...            ...      ...                 ...   \n",
       "219            Malawi    Africa     496.000000     2023               635.0   \n",
       "220       South Sudan    Africa     467.000000     2023              1072.0   \n",
       "221      Sierra Leone    Africa     415.000000     2023               480.0   \n",
       "222       Afghanistan      Asia     611.000000     2020               369.0   \n",
       "223           Burundi    Africa     249.000000     2023               222.0   \n",
       "\n",
       "     WorldBank_Year  UN_Estimate UN_Year UN_Year_Clean  \n",
       "1            2021.0     234317.0    2021          2021  \n",
       "2            2020.0     169260.0    2021          2021  \n",
       "3            2021.0     133745.0    2021          2021  \n",
       "4            2021.0     101109.0    2021          2021  \n",
       "5            2021.0     112653.0    2021          2021  \n",
       "..              ...          ...     ...           ...  \n",
       "219          2021.0        613.0    2021          2021  \n",
       "220          2015.0        400.0    2021          2021  \n",
       "221          2021.0        505.0    2021          2021  \n",
       "222          2021.0        373.0    2021          2021  \n",
       "223          2021.0        311.0    2021          2021  \n",
       "\n",
       "[223 rows x 9 columns]"
      ]
     },
     "execution_count": 73,
     "metadata": {},
     "output_type": "execute_result"
    }
   ],
   "source": [
    "# Drop the temporary 'avg_worldbank_un' column if not needed\n",
    "df.drop(columns=['avg_worldbank_un'], inplace=True)\n",
    "df"
   ]
  },
  {
   "cell_type": "code",
   "execution_count": null,
   "id": "813e7182-de55-41a3-aab9-de2423f3eaab",
   "metadata": {},
   "outputs": [],
   "source": []
  },
  {
   "cell_type": "markdown",
   "id": "162be68a-dee1-478a-80b6-ac8e8537bcf7",
   "metadata": {},
   "source": [
    "[Visit this link to learn more about ffill](https://www.w3schools.com/python/pandas/ref_df_ffill.asp)"
   ]
  },
  {
   "cell_type": "markdown",
   "id": "56061f24-0128-4773-a177-37b33640c9a9",
   "metadata": {},
   "source": [
    "[Visit this link to learn more about bfill](https://www.w3schools.com/python/pandas/ref_df_bfill.asp)"
   ]
  },
  {
   "cell_type": "markdown",
   "id": "3432bd13",
   "metadata": {
    "jp-MarkdownHeadingCollapsed": true
   },
   "source": [
    "## Checking Missing Values"
   ]
  },
  {
   "cell_type": "code",
   "execution_count": 74,
   "id": "48996ae2",
   "metadata": {},
   "outputs": [
    {
     "name": "stdout",
     "output_type": "stream",
     "text": [
      "     Country/Territory  UN_Region  IMF_Estimate  IMF_Year  WorldBank_Estimate  \\\n",
      "1                False      False         False     False               False   \n",
      "2                False      False         False     False               False   \n",
      "3                False      False         False     False               False   \n",
      "4                False      False         False     False               False   \n",
      "5                False      False         False     False               False   \n",
      "..                 ...        ...           ...       ...                 ...   \n",
      "219              False      False         False     False               False   \n",
      "220              False      False         False     False               False   \n",
      "221              False      False         False     False               False   \n",
      "222              False      False         False     False               False   \n",
      "223              False      False         False     False               False   \n",
      "\n",
      "     WorldBank_Year  UN_Estimate  UN_Year  UN_Year_Clean  \n",
      "1             False        False    False          False  \n",
      "2             False        False    False          False  \n",
      "3             False        False    False          False  \n",
      "4             False        False    False          False  \n",
      "5             False        False    False          False  \n",
      "..              ...          ...      ...            ...  \n",
      "219           False        False    False          False  \n",
      "220           False        False    False          False  \n",
      "221           False        False    False          False  \n",
      "222           False        False    False          False  \n",
      "223           False        False    False          False  \n",
      "\n",
      "[223 rows x 9 columns]\n",
      "Country/Territory     0\n",
      "UN_Region             0\n",
      "IMF_Estimate          0\n",
      "IMF_Year              0\n",
      "WorldBank_Estimate    7\n",
      "WorldBank_Year        7\n",
      "UN_Estimate           9\n",
      "UN_Year               0\n",
      "UN_Year_Clean         0\n",
      "dtype: int64\n"
     ]
    }
   ],
   "source": [
    "print(df.isnull())\n",
    "print(df.isnull().sum())"
   ]
  },
  {
   "cell_type": "markdown",
   "id": "84e9d86b",
   "metadata": {
    "jp-MarkdownHeadingCollapsed": true
   },
   "source": [
    "## Visualization"
   ]
  },
  {
   "cell_type": "code",
   "execution_count": 75,
   "id": "bf0b0c79",
   "metadata": {},
   "outputs": [],
   "source": [
    "import matplotlib.pyplot as plt\n",
    "import seaborn as sns"
   ]
  },
  {
   "cell_type": "markdown",
   "id": "4a4da1d7",
   "metadata": {},
   "source": [
    "### Histogram"
   ]
  },
  {
   "cell_type": "code",
   "execution_count": 76,
   "id": "a924b0ee",
   "metadata": {},
   "outputs": [
    {
     "data": {
      "image/png": "[encoded data removed]",
      "text/plain": [
       "<Figure size 1000x800 with 4 Axes>"
      ]
     },
     "metadata": {},
     "output_type": "display_data"
    }
   ],
   "source": [
    "df.hist(figsize=(10,8))\n",
    "plt.show()"
   ]
  },
  {
   "cell_type": "code",
   "execution_count": 77,
   "id": "45fc4edf",
   "metadata": {},
   "outputs": [
    {
     "data": {
      "image/png": "[encoded data removed]",
      "text/plain": [
       "<Figure size 1200x900 with 4 Axes>"
      ]
     },
     "metadata": {},
     "output_type": "display_data"
    }
   ],
   "source": [
    "df[[\"IMF_Estimate\", \"UN_Estimate\", \"WorldBank_Estimate\"]].hist(figsize=(12,9))\n",
    "\n",
    "plt.show()"
   ]
  },
  {
   "cell_type": "code",
   "execution_count": 78,
   "id": "765a97e0",
   "metadata": {},
   "outputs": [
    {
     "data": {
      "image/png": "[encoded data removed]",
      "text/plain": [
       "<Figure size 1200x900 with 4 Axes>"
      ]
     },
     "metadata": {},
     "output_type": "display_data"
    }
   ],
   "source": [
    "df[[\"IMF_Estimate\", \"UN_Estimate\", \"WorldBank_Estimate\"]].hist(bins=5, figsize=(12,9))\n",
    "\n",
    "plt.show()"
   ]
  },
  {
   "cell_type": "code",
   "execution_count": 79,
   "id": "1f89e26d",
   "metadata": {},
   "outputs": [
    {
     "data": {
      "text/plain": [
       "min       222.0\n",
       "max    234316.0\n",
       "Name: WorldBank_Estimate, dtype: float64"
      ]
     },
     "execution_count": 79,
     "metadata": {},
     "output_type": "execute_result"
    }
   ],
   "source": [
    "df[\"WorldBank_Estimate\"].agg([\"min\",\"max\"])"
   ]
  },
  {
   "cell_type": "code",
   "execution_count": null,
   "id": "623ac797",
   "metadata": {},
   "outputs": [],
   "source": [
    "234316/5\n",
    "#1 bin size if bins=5"
   ]
  },
  {
   "cell_type": "code",
   "execution_count": 80,
   "id": "58c05fdf-ab62-4f74-9c3d-b4dbf8f9dc55",
   "metadata": {},
   "outputs": [
    {
     "data": {
      "text/plain": [
       "188"
      ]
     },
     "execution_count": 80,
     "metadata": {},
     "output_type": "execute_result"
    }
   ],
   "source": [
    "df[df[\"WorldBank_Estimate\"]<=46863.2][\"WorldBank_Estimate\"].count()"
   ]
  },
  {
   "cell_type": "code",
   "execution_count": null,
   "id": "a36546fa",
   "metadata": {},
   "outputs": [],
   "source": [
    "234316/10\n",
    "#1 bin size if bins not given any number"
   ]
  },
  {
   "cell_type": "code",
   "execution_count": 81,
   "id": "79c3d1e5",
   "metadata": {},
   "outputs": [
    {
     "data": {
      "image/png": "[encoded data removed]",
      "text/plain": [
       "<Figure size 1200x900 with 4 Axes>"
      ]
     },
     "metadata": {},
     "output_type": "display_data"
    }
   ],
   "source": [
    "df[[\"IMF_Estimate\", \"UN_Estimate\", \"WorldBank_Estimate\"]].hist(bins=3, figsize=(12,9))\n",
    "\n",
    "plt.show()"
   ]
  },
  {
   "cell_type": "code",
   "execution_count": 82,
   "id": "05e7fd91",
   "metadata": {},
   "outputs": [
    {
     "data": {
      "image/png": "[encoded data removed]",
      "text/plain": [
       "<Figure size 1500x1200 with 4 Axes>"
      ]
     },
     "metadata": {},
     "output_type": "display_data"
    }
   ],
   "source": [
    "df[[\"IMF_Estimate\", \"UN_Estimate\", \"WorldBank_Estimate\"]].hist(bins=15, figsize=(15,12))\n",
    "\n",
    "#23400/15 = 15300\n",
    "plt.show()"
   ]
  },
  {
   "cell_type": "markdown",
   "id": "e70fb08b",
   "metadata": {},
   "source": [
    "### Correlation Heatmap"
   ]
  },
  {
   "cell_type": "code",
   "execution_count": null,
   "id": "e9ddd23e",
   "metadata": {},
   "outputs": [],
   "source": [
    "df[[\"IMF_Estimate\", \"UN_Estimate\", \"WorldBank_Estimate\"]].corr()"
   ]
  },
  {
   "cell_type": "code",
   "execution_count": 83,
   "id": "f6dbc603",
   "metadata": {},
   "outputs": [
    {
     "data": {
      "image/png": "[encoded data removed]",
      "text/plain": [
       "<Figure size 900x600 with 2 Axes>"
      ]
     },
     "metadata": {},
     "output_type": "display_data"
    }
   ],
   "source": [
    "corr = df[[\"IMF_Estimate\", \"UN_Estimate\", \"WorldBank_Estimate\"]].corr()\n",
    "\n",
    "plt.figure(figsize=(9,6))\n",
    "sns.heatmap(corr)\n",
    "\n",
    "plt.show()"
   ]
  },
  {
   "cell_type": "code",
   "execution_count": 84,
   "id": "0ea2c2c6",
   "metadata": {},
   "outputs": [
    {
     "data": {
      "image/png": "[encoded data removed]",
      "text/plain": [
       "<Figure size 900x600 with 2 Axes>"
      ]
     },
     "metadata": {},
     "output_type": "display_data"
    }
   ],
   "source": [
    "corr = df[[\"IMF_Estimate\", \"UN_Estimate\", \"WorldBank_Estimate\"]].corr()\n",
    "\n",
    "plt.figure(figsize=(9,6))\n",
    "\n",
    "sns.heatmap(corr, annot=True)\n",
    "\n",
    "plt.show()"
   ]
  },
  {
   "cell_type": "code",
   "execution_count": 85,
   "id": "ec56839b",
   "metadata": {},
   "outputs": [
    {
     "data": {
      "image/png": "[encoded data removed]",
      "text/plain": [
       "<Figure size 900x600 with 2 Axes>"
      ]
     },
     "metadata": {},
     "output_type": "display_data"
    }
   ],
   "source": [
    "corr = df[[\"IMF_Estimate\", \"UN_Estimate\", \"WorldBank_Estimate\"]].corr()\n",
    "\n",
    "plt.figure(figsize=(9,6))\n",
    "\n",
    "sns.heatmap(corr, annot=True, fmt=\".2f\", cmap = 'GnBu', annot_kws={\"size\": 12})\n",
    "\n",
    "plt.show()"
   ]
  },
  {
   "cell_type": "code",
   "execution_count": 86,
   "id": "a4688e18",
   "metadata": {},
   "outputs": [
    {
     "data": {
      "image/png": "[encoded data removed]",
      "text/plain": [
       "<Figure size 900x600 with 2 Axes>"
      ]
     },
     "metadata": {},
     "output_type": "display_data"
    }
   ],
   "source": [
    "corr = df[[\"IMF_Estimate\", \"UN_Estimate\", \"WorldBank_Estimate\"]].corr()\n",
    "\n",
    "plt.figure(figsize=(9,6))\n",
    "\n",
    "sns.heatmap(corr, annot=True, cmap = 'Purples')\n",
    "\n",
    "plt.title(\"Correlation Map\")\n",
    "\n",
    "\n",
    "plt.show()"
   ]
  },
  {
   "cell_type": "code",
   "execution_count": 87,
   "id": "acba3c9a-0a72-40a0-80f7-be19ec50d5e0",
   "metadata": {},
   "outputs": [
    {
     "data": {
      "image/png": "[encoded data removed]",
      "text/plain": [
       "<Figure size 900x600 with 2 Axes>"
      ]
     },
     "metadata": {},
     "output_type": "display_data"
    }
   ],
   "source": [
    "corr = df.select_dtypes(include=[int, float]).corr()\n",
    " \n",
    "plt.figure(figsize=(9,6))\n",
    " \n",
    "sns.heatmap(corr, annot=True, cmap = 'Purples')\n",
    " \n",
    "plt.show()"
   ]
  },
  {
   "cell_type": "markdown",
   "id": "8ee4dc00",
   "metadata": {
    "jp-MarkdownHeadingCollapsed": true
   },
   "source": [
    "### Bar plot"
   ]
  },
  {
   "cell_type": "code",
   "execution_count": 88,
   "id": "4ca42efd",
   "metadata": {},
   "outputs": [
    {
     "data": {
      "text/html": [
       "<div>\n",
       "<style scoped>\n",
       "    .dataframe tbody tr th:only-of-type {\n",
       "        vertical-align: middle;\n",
       "    }\n",
       "\n",
       "    .dataframe tbody tr th {\n",
       "        vertical-align: top;\n",
       "    }\n",
       "\n",
       "    .dataframe thead th {\n",
       "        text-align: right;\n",
       "    }\n",
       "</style>\n",
       "<table border=\"1\" class=\"dataframe\">\n",
       "  <thead>\n",
       "    <tr style=\"text-align: right;\">\n",
       "      <th></th>\n",
       "      <th>Country/Territory</th>\n",
       "      <th>UN_Region</th>\n",
       "      <th>IMF_Estimate</th>\n",
       "      <th>IMF_Year</th>\n",
       "      <th>WorldBank_Estimate</th>\n",
       "      <th>WorldBank_Year</th>\n",
       "      <th>UN_Estimate</th>\n",
       "      <th>UN_Year</th>\n",
       "      <th>UN_Year_Clean</th>\n",
       "    </tr>\n",
       "  </thead>\n",
       "  <tbody>\n",
       "    <tr>\n",
       "      <th>1</th>\n",
       "      <td>Monaco</td>\n",
       "      <td>Europe</td>\n",
       "      <td>17377.736041</td>\n",
       "      <td>2022</td>\n",
       "      <td>234316.0</td>\n",
       "      <td>2021.0</td>\n",
       "      <td>234317.0</td>\n",
       "      <td>2021</td>\n",
       "      <td>2021</td>\n",
       "    </tr>\n",
       "    <tr>\n",
       "      <th>2</th>\n",
       "      <td>Liechtenstein</td>\n",
       "      <td>Europe</td>\n",
       "      <td>17377.736041</td>\n",
       "      <td>2022</td>\n",
       "      <td>157755.0</td>\n",
       "      <td>2020.0</td>\n",
       "      <td>169260.0</td>\n",
       "      <td>2021</td>\n",
       "      <td>2021</td>\n",
       "    </tr>\n",
       "    <tr>\n",
       "      <th>3</th>\n",
       "      <td>Luxembourg</td>\n",
       "      <td>Europe</td>\n",
       "      <td>132372.000000</td>\n",
       "      <td>2023</td>\n",
       "      <td>133590.0</td>\n",
       "      <td>2021.0</td>\n",
       "      <td>133745.0</td>\n",
       "      <td>2021</td>\n",
       "      <td>2021</td>\n",
       "    </tr>\n",
       "    <tr>\n",
       "      <th>4</th>\n",
       "      <td>Ireland</td>\n",
       "      <td>Europe</td>\n",
       "      <td>114581.000000</td>\n",
       "      <td>2023</td>\n",
       "      <td>100172.0</td>\n",
       "      <td>2021.0</td>\n",
       "      <td>101109.0</td>\n",
       "      <td>2021</td>\n",
       "      <td>2021</td>\n",
       "    </tr>\n",
       "    <tr>\n",
       "      <th>5</th>\n",
       "      <td>Bermuda</td>\n",
       "      <td>Americas</td>\n",
       "      <td>17377.736041</td>\n",
       "      <td>2022</td>\n",
       "      <td>114090.0</td>\n",
       "      <td>2021.0</td>\n",
       "      <td>112653.0</td>\n",
       "      <td>2021</td>\n",
       "      <td>2021</td>\n",
       "    </tr>\n",
       "  </tbody>\n",
       "</table>\n",
       "</div>"
      ],
      "text/plain": [
       "  Country/Territory UN_Region   IMF_Estimate IMF_Year  WorldBank_Estimate  \\\n",
       "1            Monaco    Europe   17377.736041     2022            234316.0   \n",
       "2     Liechtenstein    Europe   17377.736041     2022            157755.0   \n",
       "3        Luxembourg    Europe  132372.000000     2023            133590.0   \n",
       "4           Ireland    Europe  114581.000000     2023            100172.0   \n",
       "5           Bermuda  Americas   17377.736041     2022            114090.0   \n",
       "\n",
       "   WorldBank_Year  UN_Estimate UN_Year UN_Year_Clean  \n",
       "1          2021.0     234317.0    2021          2021  \n",
       "2          2020.0     169260.0    2021          2021  \n",
       "3          2021.0     133745.0    2021          2021  \n",
       "4          2021.0     101109.0    2021          2021  \n",
       "5          2021.0     112653.0    2021          2021  "
      ]
     },
     "execution_count": 88,
     "metadata": {},
     "output_type": "execute_result"
    }
   ],
   "source": [
    "df.head()"
   ]
  },
  {
   "cell_type": "code",
   "execution_count": 89,
   "id": "09e70a00",
   "metadata": {},
   "outputs": [
    {
     "data": {
      "image/png": "[encoded data removed]",
      "text/plain": [
       "<Figure size 640x480 with 1 Axes>"
      ]
     },
     "metadata": {},
     "output_type": "display_data"
    }
   ],
   "source": [
    "sns.barplot(x=\"UN_Region\", y=\"WorldBank_Estimate\", data=df, errorbar=None)\n",
    "\n",
    "plt.show()"
   ]
  },
  {
   "cell_type": "code",
   "execution_count": 90,
   "id": "6a7c7377",
   "metadata": {},
   "outputs": [
    {
     "data": {
      "image/png": "[encoded data removed]",
      "text/plain": [
       "<Figure size 640x480 with 1 Axes>"
      ]
     },
     "metadata": {},
     "output_type": "display_data"
    }
   ],
   "source": [
    "sns.barplot(x=\"WorldBank_Estimate\", y=\"UN_Region\", data=df, errorbar=None)\n",
    "\n",
    "plt.show()"
   ]
  },
  {
   "cell_type": "code",
   "execution_count": 91,
   "id": "f8659907",
   "metadata": {},
   "outputs": [
    {
     "data": {
      "image/png": "[encoded data removed]",
      "text/plain": [
       "<Figure size 800x500 with 1 Axes>"
      ]
     },
     "metadata": {},
     "output_type": "display_data"
    }
   ],
   "source": [
    "fig = plt.figure(figsize = (8,5))\n",
    "\n",
    "ax = sns.barplot(x = \"IMF_Estimate\",  y = \"UN_Region\",  \n",
    "data = df, errorbar = None)\n",
    "\n",
    "ax.bar_label(ax.containers[0])\n",
    "\n",
    "plt.show()"
   ]
  },
  {
   "cell_type": "code",
   "execution_count": 92,
   "id": "9a15bcad",
   "metadata": {},
   "outputs": [
    {
     "data": {
      "image/png": "[encoded data removed]",
      "text/plain": [
       "<Figure size 800x500 with 1 Axes>"
      ]
     },
     "metadata": {},
     "output_type": "display_data"
    }
   ],
   "source": [
    "fig = plt.figure(figsize = (8,5)) \n",
    "ax = sns.barplot(x = \"UN_Region\",  y = \"IMF_Estimate\", \n",
    "                 data = df, errorbar = None) \n",
    "\n",
    "ax.bar_label(ax.containers[0]) \n",
    "\n",
    "\n",
    "ax.set_title(\"Regions by IMF Estimate\")\n",
    "plt.show()"
   ]
  },
  {
   "cell_type": "code",
   "execution_count": null,
   "id": "6e99479a",
   "metadata": {},
   "outputs": [],
   "source": []
  },
  {
   "cell_type": "markdown",
   "id": "f1aa35d0",
   "metadata": {
    "jp-MarkdownHeadingCollapsed": true
   },
   "source": [
    "### Scatter Plot"
   ]
  },
  {
   "cell_type": "code",
   "execution_count": 93,
   "id": "d8583563",
   "metadata": {},
   "outputs": [
    {
     "data": {
      "image/png": "[encoded data removed]",
      "text/plain": [
       "<Figure size 1000x600 with 1 Axes>"
      ]
     },
     "metadata": {},
     "output_type": "display_data"
    }
   ],
   "source": [
    "df.plot(x='UN_Region', y='UN_Estimate', kind='scatter',\n",
    "        figsize=(10,6),\n",
    "        title=\"Scatter Plot\")\n",
    "\n",
    "plt.show()"
   ]
  },
  {
   "cell_type": "code",
   "execution_count": null,
   "id": "67dc9155",
   "metadata": {},
   "outputs": [],
   "source": []
  },
  {
   "cell_type": "code",
   "execution_count": null,
   "id": "510f198a",
   "metadata": {},
   "outputs": [],
   "source": []
  },
  {
   "cell_type": "code",
   "execution_count": null,
   "id": "14284f4f",
   "metadata": {},
   "outputs": [],
   "source": []
  },
  {
   "cell_type": "code",
   "execution_count": null,
   "id": "f56493b0",
   "metadata": {},
   "outputs": [],
   "source": []
  },
  {
   "cell_type": "markdown",
   "id": "08663651",
   "metadata": {},
   "source": [
    "### Boxplot and Outliers"
   ]
  },
  {
   "attachments": {
    "da6a7715-3b1c-4165-a2a9-4dc8ca096bd7.png": {
     "image/png": "[encoded data removed]"
    }
   },
   "cell_type": "markdown",
   "id": "fb12e7bd-1553-4cd8-b19d-9cb3d4589107",
   "metadata": {},
   "source": [
    "![image.png](attachment:da6a7715-3b1c-4165-a2a9-4dc8ca096bd7.png)"
   ]
  },
  {
   "cell_type": "code",
   "execution_count": 94,
   "id": "3ceac0a3",
   "metadata": {},
   "outputs": [
    {
     "data": {
      "image/png": "[encoded data removed]",
      "text/plain": [
       "<Figure size 640x480 with 1 Axes>"
      ]
     },
     "metadata": {},
     "output_type": "display_data"
    }
   ],
   "source": [
    "sns.boxplot(x=df[\"UN_Estimate\"])\n",
    "\n",
    "plt.show()"
   ]
  },
  {
   "cell_type": "code",
   "execution_count": 95,
   "id": "7081b2d4",
   "metadata": {},
   "outputs": [
    {
     "data": {
      "text/html": [
       "<div>\n",
       "<style scoped>\n",
       "    .dataframe tbody tr th:only-of-type {\n",
       "        vertical-align: middle;\n",
       "    }\n",
       "\n",
       "    .dataframe tbody tr th {\n",
       "        vertical-align: top;\n",
       "    }\n",
       "\n",
       "    .dataframe thead th {\n",
       "        text-align: right;\n",
       "    }\n",
       "</style>\n",
       "<table border=\"1\" class=\"dataframe\">\n",
       "  <thead>\n",
       "    <tr style=\"text-align: right;\">\n",
       "      <th></th>\n",
       "      <th>Country/Territory</th>\n",
       "      <th>UN_Region</th>\n",
       "      <th>IMF_Estimate</th>\n",
       "      <th>IMF_Year</th>\n",
       "      <th>WorldBank_Estimate</th>\n",
       "      <th>WorldBank_Year</th>\n",
       "      <th>UN_Estimate</th>\n",
       "      <th>UN_Year</th>\n",
       "      <th>UN_Year_Clean</th>\n",
       "    </tr>\n",
       "  </thead>\n",
       "  <tbody>\n",
       "    <tr>\n",
       "      <th>1</th>\n",
       "      <td>Monaco</td>\n",
       "      <td>Europe</td>\n",
       "      <td>17377.736041</td>\n",
       "      <td>2022</td>\n",
       "      <td>234316.0</td>\n",
       "      <td>2021.0</td>\n",
       "      <td>234317.0</td>\n",
       "      <td>2021</td>\n",
       "      <td>2021</td>\n",
       "    </tr>\n",
       "    <tr>\n",
       "      <th>2</th>\n",
       "      <td>Liechtenstein</td>\n",
       "      <td>Europe</td>\n",
       "      <td>17377.736041</td>\n",
       "      <td>2022</td>\n",
       "      <td>157755.0</td>\n",
       "      <td>2020.0</td>\n",
       "      <td>169260.0</td>\n",
       "      <td>2021</td>\n",
       "      <td>2021</td>\n",
       "    </tr>\n",
       "    <tr>\n",
       "      <th>3</th>\n",
       "      <td>Luxembourg</td>\n",
       "      <td>Europe</td>\n",
       "      <td>132372.000000</td>\n",
       "      <td>2023</td>\n",
       "      <td>133590.0</td>\n",
       "      <td>2021.0</td>\n",
       "      <td>133745.0</td>\n",
       "      <td>2021</td>\n",
       "      <td>2021</td>\n",
       "    </tr>\n",
       "    <tr>\n",
       "      <th>4</th>\n",
       "      <td>Ireland</td>\n",
       "      <td>Europe</td>\n",
       "      <td>114581.000000</td>\n",
       "      <td>2023</td>\n",
       "      <td>100172.0</td>\n",
       "      <td>2021.0</td>\n",
       "      <td>101109.0</td>\n",
       "      <td>2021</td>\n",
       "      <td>2021</td>\n",
       "    </tr>\n",
       "    <tr>\n",
       "      <th>5</th>\n",
       "      <td>Bermuda</td>\n",
       "      <td>Americas</td>\n",
       "      <td>17377.736041</td>\n",
       "      <td>2022</td>\n",
       "      <td>114090.0</td>\n",
       "      <td>2021.0</td>\n",
       "      <td>112653.0</td>\n",
       "      <td>2021</td>\n",
       "      <td>2021</td>\n",
       "    </tr>\n",
       "  </tbody>\n",
       "</table>\n",
       "</div>"
      ],
      "text/plain": [
       "  Country/Territory UN_Region   IMF_Estimate IMF_Year  WorldBank_Estimate  \\\n",
       "1            Monaco    Europe   17377.736041     2022            234316.0   \n",
       "2     Liechtenstein    Europe   17377.736041     2022            157755.0   \n",
       "3        Luxembourg    Europe  132372.000000     2023            133590.0   \n",
       "4           Ireland    Europe  114581.000000     2023            100172.0   \n",
       "5           Bermuda  Americas   17377.736041     2022            114090.0   \n",
       "\n",
       "   WorldBank_Year  UN_Estimate UN_Year UN_Year_Clean  \n",
       "1          2021.0     234317.0    2021          2021  \n",
       "2          2020.0     169260.0    2021          2021  \n",
       "3          2021.0     133745.0    2021          2021  \n",
       "4          2021.0     101109.0    2021          2021  \n",
       "5          2021.0     112653.0    2021          2021  "
      ]
     },
     "execution_count": 95,
     "metadata": {},
     "output_type": "execute_result"
    }
   ],
   "source": [
    "df[df[\"UN_Estimate\"]>50000].head()"
   ]
  },
  {
   "cell_type": "code",
   "execution_count": 96,
   "id": "99282133",
   "metadata": {},
   "outputs": [
    {
     "data": {
      "image/png": "[encoded data removed]",
      "text/plain": [
       "<Figure size 640x480 with 1 Axes>"
      ]
     },
     "metadata": {},
     "output_type": "display_data"
    }
   ],
   "source": [
    "sns.boxplot(x=df[\"WorldBank_Estimate\"])\n",
    "\n",
    "plt.show()"
   ]
  },
  {
   "cell_type": "code",
   "execution_count": 97,
   "id": "6ba80c49",
   "metadata": {},
   "outputs": [
    {
     "data": {
      "image/png": "[encoded data removed]",
      "text/plain": [
       "<Figure size 640x480 with 1 Axes>"
      ]
     },
     "metadata": {},
     "output_type": "display_data"
    }
   ],
   "source": [
    "sns.boxplot(x=df[\"IMF_Estimate\"])\n",
    "\n",
    "plt.show()"
   ]
  },
  {
   "cell_type": "code",
   "execution_count": 98,
   "id": "983a04a2",
   "metadata": {},
   "outputs": [
    {
     "data": {
      "text/html": [
       "<div>\n",
       "<style scoped>\n",
       "    .dataframe tbody tr th:only-of-type {\n",
       "        vertical-align: middle;\n",
       "    }\n",
       "\n",
       "    .dataframe tbody tr th {\n",
       "        vertical-align: top;\n",
       "    }\n",
       "\n",
       "    .dataframe thead th {\n",
       "        text-align: right;\n",
       "    }\n",
       "</style>\n",
       "<table border=\"1\" class=\"dataframe\">\n",
       "  <thead>\n",
       "    <tr style=\"text-align: right;\">\n",
       "      <th></th>\n",
       "      <th>Country/Territory</th>\n",
       "      <th>UN_Region</th>\n",
       "      <th>IMF_Estimate</th>\n",
       "      <th>IMF_Year</th>\n",
       "      <th>WorldBank_Estimate</th>\n",
       "      <th>WorldBank_Year</th>\n",
       "      <th>UN_Estimate</th>\n",
       "      <th>UN_Year</th>\n",
       "      <th>UN_Year_Clean</th>\n",
       "    </tr>\n",
       "  </thead>\n",
       "  <tbody>\n",
       "    <tr>\n",
       "      <th>1</th>\n",
       "      <td>Monaco</td>\n",
       "      <td>Europe</td>\n",
       "      <td>17377.736041</td>\n",
       "      <td>2022</td>\n",
       "      <td>234316.0</td>\n",
       "      <td>2021.0</td>\n",
       "      <td>234317.0</td>\n",
       "      <td>2021</td>\n",
       "      <td>2021</td>\n",
       "    </tr>\n",
       "    <tr>\n",
       "      <th>2</th>\n",
       "      <td>Liechtenstein</td>\n",
       "      <td>Europe</td>\n",
       "      <td>17377.736041</td>\n",
       "      <td>2022</td>\n",
       "      <td>157755.0</td>\n",
       "      <td>2020.0</td>\n",
       "      <td>169260.0</td>\n",
       "      <td>2021</td>\n",
       "      <td>2021</td>\n",
       "    </tr>\n",
       "    <tr>\n",
       "      <th>3</th>\n",
       "      <td>Luxembourg</td>\n",
       "      <td>Europe</td>\n",
       "      <td>132372.000000</td>\n",
       "      <td>2023</td>\n",
       "      <td>133590.0</td>\n",
       "      <td>2021.0</td>\n",
       "      <td>133745.0</td>\n",
       "      <td>2021</td>\n",
       "      <td>2021</td>\n",
       "    </tr>\n",
       "    <tr>\n",
       "      <th>4</th>\n",
       "      <td>Ireland</td>\n",
       "      <td>Europe</td>\n",
       "      <td>114581.000000</td>\n",
       "      <td>2023</td>\n",
       "      <td>100172.0</td>\n",
       "      <td>2021.0</td>\n",
       "      <td>101109.0</td>\n",
       "      <td>2021</td>\n",
       "      <td>2021</td>\n",
       "    </tr>\n",
       "    <tr>\n",
       "      <th>5</th>\n",
       "      <td>Bermuda</td>\n",
       "      <td>Americas</td>\n",
       "      <td>17377.736041</td>\n",
       "      <td>2022</td>\n",
       "      <td>114090.0</td>\n",
       "      <td>2021.0</td>\n",
       "      <td>112653.0</td>\n",
       "      <td>2021</td>\n",
       "      <td>2021</td>\n",
       "    </tr>\n",
       "  </tbody>\n",
       "</table>\n",
       "</div>"
      ],
      "text/plain": [
       "  Country/Territory UN_Region   IMF_Estimate IMF_Year  WorldBank_Estimate  \\\n",
       "1            Monaco    Europe   17377.736041     2022            234316.0   \n",
       "2     Liechtenstein    Europe   17377.736041     2022            157755.0   \n",
       "3        Luxembourg    Europe  132372.000000     2023            133590.0   \n",
       "4           Ireland    Europe  114581.000000     2023            100172.0   \n",
       "5           Bermuda  Americas   17377.736041     2022            114090.0   \n",
       "\n",
       "   WorldBank_Year  UN_Estimate UN_Year UN_Year_Clean  \n",
       "1          2021.0     234317.0    2021          2021  \n",
       "2          2020.0     169260.0    2021          2021  \n",
       "3          2021.0     133745.0    2021          2021  \n",
       "4          2021.0     101109.0    2021          2021  \n",
       "5          2021.0     112653.0    2021          2021  "
      ]
     },
     "execution_count": 98,
     "metadata": {},
     "output_type": "execute_result"
    }
   ],
   "source": [
    "df[df[\"UN_Estimate\"]>100000]"
   ]
  },
  {
   "cell_type": "code",
   "execution_count": 99,
   "id": "91b0c382",
   "metadata": {},
   "outputs": [
    {
     "data": {
      "text/plain": [
       "18514.528037383177"
      ]
     },
     "execution_count": 99,
     "metadata": {},
     "output_type": "execute_result"
    }
   ],
   "source": [
    "df.UN_Estimate.mean()"
   ]
  },
  {
   "cell_type": "code",
   "execution_count": 100,
   "id": "bad9872e",
   "metadata": {},
   "outputs": [
    {
     "data": {
      "text/plain": [
       "(223, 9)"
      ]
     },
     "execution_count": 100,
     "metadata": {},
     "output_type": "execute_result"
    }
   ],
   "source": [
    "df.shape"
   ]
  },
  {
   "cell_type": "code",
   "execution_count": null,
   "id": "78b3c8ef",
   "metadata": {},
   "outputs": [],
   "source": []
  },
  {
   "cell_type": "markdown",
   "id": "080decce",
   "metadata": {
    "jp-MarkdownHeadingCollapsed": true
   },
   "source": [
    "## Create another dataframe called data excluding  5 countries with highest UN estimate"
   ]
  },
  {
   "cell_type": "code",
   "execution_count": 101,
   "id": "1c0b325d",
   "metadata": {},
   "outputs": [],
   "source": [
    "data = df[-(df[\"UN_Estimate\"]>100000)]"
   ]
  },
  {
   "cell_type": "code",
   "execution_count": 102,
   "id": "65788d80",
   "metadata": {},
   "outputs": [
    {
     "data": {
      "text/html": [
       "<div>\n",
       "<style scoped>\n",
       "    .dataframe tbody tr th:only-of-type {\n",
       "        vertical-align: middle;\n",
       "    }\n",
       "\n",
       "    .dataframe tbody tr th {\n",
       "        vertical-align: top;\n",
       "    }\n",
       "\n",
       "    .dataframe thead th {\n",
       "        text-align: right;\n",
       "    }\n",
       "</style>\n",
       "<table border=\"1\" class=\"dataframe\">\n",
       "  <thead>\n",
       "    <tr style=\"text-align: right;\">\n",
       "      <th></th>\n",
       "      <th>Country/Territory</th>\n",
       "      <th>UN_Region</th>\n",
       "      <th>IMF_Estimate</th>\n",
       "      <th>IMF_Year</th>\n",
       "      <th>WorldBank_Estimate</th>\n",
       "      <th>WorldBank_Year</th>\n",
       "      <th>UN_Estimate</th>\n",
       "      <th>UN_Year</th>\n",
       "      <th>UN_Year_Clean</th>\n",
       "    </tr>\n",
       "  </thead>\n",
       "  <tbody>\n",
       "    <tr>\n",
       "      <th>6</th>\n",
       "      <td>Norway</td>\n",
       "      <td>Europe</td>\n",
       "      <td>101103.000000</td>\n",
       "      <td>2023</td>\n",
       "      <td>89154.0</td>\n",
       "      <td>2021.0</td>\n",
       "      <td>89242.0</td>\n",
       "      <td>2021</td>\n",
       "      <td>2021</td>\n",
       "    </tr>\n",
       "    <tr>\n",
       "      <th>7</th>\n",
       "      <td>Switzerland</td>\n",
       "      <td>Europe</td>\n",
       "      <td>98767.000000</td>\n",
       "      <td>2023</td>\n",
       "      <td>91992.0</td>\n",
       "      <td>2021.0</td>\n",
       "      <td>93525.0</td>\n",
       "      <td>2021</td>\n",
       "      <td>2021</td>\n",
       "    </tr>\n",
       "    <tr>\n",
       "      <th>8</th>\n",
       "      <td>Singapore</td>\n",
       "      <td>Asia</td>\n",
       "      <td>91100.000000</td>\n",
       "      <td>2023</td>\n",
       "      <td>72794.0</td>\n",
       "      <td>2021.0</td>\n",
       "      <td>66822.0</td>\n",
       "      <td>2021</td>\n",
       "      <td>2021</td>\n",
       "    </tr>\n",
       "    <tr>\n",
       "      <th>9</th>\n",
       "      <td>Isle of Man</td>\n",
       "      <td>Europe</td>\n",
       "      <td>17377.736041</td>\n",
       "      <td>2022</td>\n",
       "      <td>87158.0</td>\n",
       "      <td>2019.0</td>\n",
       "      <td>NaN</td>\n",
       "      <td>0</td>\n",
       "      <td>0</td>\n",
       "    </tr>\n",
       "    <tr>\n",
       "      <th>10</th>\n",
       "      <td>Cayman Islands</td>\n",
       "      <td>Americas</td>\n",
       "      <td>17377.736041</td>\n",
       "      <td>2022</td>\n",
       "      <td>86569.0</td>\n",
       "      <td>2021.0</td>\n",
       "      <td>85250.0</td>\n",
       "      <td>2021</td>\n",
       "      <td>2021</td>\n",
       "    </tr>\n",
       "  </tbody>\n",
       "</table>\n",
       "</div>"
      ],
      "text/plain": [
       "   Country/Territory UN_Region   IMF_Estimate IMF_Year  WorldBank_Estimate  \\\n",
       "6             Norway    Europe  101103.000000     2023             89154.0   \n",
       "7        Switzerland    Europe   98767.000000     2023             91992.0   \n",
       "8          Singapore      Asia   91100.000000     2023             72794.0   \n",
       "9        Isle of Man    Europe   17377.736041     2022             87158.0   \n",
       "10    Cayman Islands  Americas   17377.736041     2022             86569.0   \n",
       "\n",
       "    WorldBank_Year  UN_Estimate UN_Year UN_Year_Clean  \n",
       "6           2021.0      89242.0    2021          2021  \n",
       "7           2021.0      93525.0    2021          2021  \n",
       "8           2021.0      66822.0    2021          2021  \n",
       "9           2019.0          NaN       0             0  \n",
       "10          2021.0      85250.0    2021          2021  "
      ]
     },
     "execution_count": 102,
     "metadata": {},
     "output_type": "execute_result"
    }
   ],
   "source": [
    "data.head()"
   ]
  },
  {
   "cell_type": "code",
   "execution_count": 103,
   "id": "4690f065",
   "metadata": {},
   "outputs": [
    {
     "data": {
      "text/plain": [
       "(218, 9)"
      ]
     },
     "execution_count": 103,
     "metadata": {},
     "output_type": "execute_result"
    }
   ],
   "source": [
    "data.shape"
   ]
  },
  {
   "cell_type": "code",
   "execution_count": 104,
   "id": "273c9a10",
   "metadata": {},
   "outputs": [
    {
     "data": {
      "text/plain": [
       "15363.755980861244"
      ]
     },
     "execution_count": 104,
     "metadata": {},
     "output_type": "execute_result"
    }
   ],
   "source": [
    "data.UN_Estimate.mean()"
   ]
  },
  {
   "cell_type": "code",
   "execution_count": 105,
   "id": "1ca86f8a-0ced-4e5b-990d-b16b8fa3377a",
   "metadata": {},
   "outputs": [
    {
     "data": {
      "text/plain": [
       "18514.528037383177"
      ]
     },
     "execution_count": 105,
     "metadata": {},
     "output_type": "execute_result"
    }
   ],
   "source": [
    "df.UN_Estimate.mean()"
   ]
  },
  {
   "attachments": {
    "image.png": {
     "image/png": "[encoded data removed]"
    }
   },
   "cell_type": "markdown",
   "id": "f5e3f021",
   "metadata": {},
   "source": [
    "![image.png](attachment:image.png)"
   ]
  },
  {
   "cell_type": "code",
   "execution_count": 106,
   "id": "860f66c6",
   "metadata": {},
   "outputs": [
    {
     "data": {
      "image/png": "[encoded data removed]",
      "text/plain": [
       "<Figure size 640x480 with 1 Axes>"
      ]
     },
     "metadata": {},
     "output_type": "display_data"
    }
   ],
   "source": [
    "sns.boxplot(x=data[\"UN_Estimate\"])\n",
    "plt.show()"
   ]
  },
  {
   "cell_type": "markdown",
   "id": "d47b00f3",
   "metadata": {},
   "source": [
    "## Removing outliers"
   ]
  },
  {
   "attachments": {
    "da6a7715-3b1c-4165-a2a9-4dc8ca096bd7.png": {
     "image/png": "[encoded data removed]"
    }
   },
   "cell_type": "markdown",
   "id": "113a0eab-5238-4ec2-9acc-c2200a73ae85",
   "metadata": {},
   "source": [
    "![image.png](attachment:da6a7715-3b1c-4165-a2a9-4dc8ca096bd7.png)"
   ]
  },
  {
   "attachments": {
    "image.png": {
     "image/png": "[encoded data removed]"
    }
   },
   "cell_type": "markdown",
   "id": "3f18db3e-dbbe-4455-83b6-b4c25453dce7",
   "metadata": {},
   "source": [
    "![image.png](attachment:image.png)"
   ]
  },
  {
   "cell_type": "code",
   "execution_count": 107,
   "id": "81b2a144",
   "metadata": {},
   "outputs": [
    {
     "data": {
      "text/plain": [
       "2331.75"
      ]
     },
     "execution_count": 107,
     "metadata": {},
     "output_type": "execute_result"
    }
   ],
   "source": [
    "lower_q = df[\"UN_Estimate\"].quantile(0.25)\n",
    "lower_q"
   ]
  },
  {
   "cell_type": "code",
   "execution_count": 108,
   "id": "4d2d9908",
   "metadata": {},
   "outputs": [
    {
     "data": {
      "text/plain": [
       "21359.25"
      ]
     },
     "execution_count": 108,
     "metadata": {},
     "output_type": "execute_result"
    }
   ],
   "source": [
    "higher_q = df[\"UN_Estimate\"].quantile(0.75)\n",
    "higher_q"
   ]
  },
  {
   "cell_type": "code",
   "execution_count": 109,
   "id": "aed82f2e-fa8f-48ab-9cea-3bce39b624c9",
   "metadata": {},
   "outputs": [
    {
     "data": {
      "text/plain": [
       "19027.5"
      ]
     },
     "execution_count": 109,
     "metadata": {},
     "output_type": "execute_result"
    }
   ],
   "source": [
    "iqr = higher_q - lower_q\n",
    "iqr"
   ]
  },
  {
   "cell_type": "code",
   "execution_count": 110,
   "id": "305e72f9-4175-4f5f-851d-336258aa84f8",
   "metadata": {},
   "outputs": [
    {
     "data": {
      "text/plain": [
       "49900.5"
      ]
     },
     "execution_count": 110,
     "metadata": {},
     "output_type": "execute_result"
    }
   ],
   "source": [
    "upper_boundary = higher_q + 1.5 * iqr\n",
    "upper_boundary"
   ]
  },
  {
   "cell_type": "code",
   "execution_count": 111,
   "id": "f4c90c62-a405-4c6c-9ec4-b4f8af39c09c",
   "metadata": {},
   "outputs": [
    {
     "data": {
      "text/plain": [
       "-26209.5"
      ]
     },
     "execution_count": 111,
     "metadata": {},
     "output_type": "execute_result"
    }
   ],
   "source": [
    "lower_boundary = lower_q - 1.5 * iqr\n",
    "lower_boundary"
   ]
  },
  {
   "cell_type": "code",
   "execution_count": 112,
   "id": "76e66b47",
   "metadata": {},
   "outputs": [],
   "source": [
    "df_filtered = df[(df[\"UN_Estimate\"] < upper_boundary) & (df[\"UN_Estimate\"] > lower_boundary)]"
   ]
  },
  {
   "cell_type": "code",
   "execution_count": 113,
   "id": "69e39033",
   "metadata": {},
   "outputs": [
    {
     "data": {
      "text/html": [
       "<div>\n",
       "<style scoped>\n",
       "    .dataframe tbody tr th:only-of-type {\n",
       "        vertical-align: middle;\n",
       "    }\n",
       "\n",
       "    .dataframe tbody tr th {\n",
       "        vertical-align: top;\n",
       "    }\n",
       "\n",
       "    .dataframe thead th {\n",
       "        text-align: right;\n",
       "    }\n",
       "</style>\n",
       "<table border=\"1\" class=\"dataframe\">\n",
       "  <thead>\n",
       "    <tr style=\"text-align: right;\">\n",
       "      <th></th>\n",
       "      <th>Country/Territory</th>\n",
       "      <th>UN_Region</th>\n",
       "      <th>IMF_Estimate</th>\n",
       "      <th>IMF_Year</th>\n",
       "      <th>WorldBank_Estimate</th>\n",
       "      <th>WorldBank_Year</th>\n",
       "      <th>UN_Estimate</th>\n",
       "      <th>UN_Year</th>\n",
       "      <th>UN_Year_Clean</th>\n",
       "    </tr>\n",
       "  </thead>\n",
       "  <tbody>\n",
       "    <tr>\n",
       "      <th>27</th>\n",
       "      <td>Hong Kong</td>\n",
       "      <td>Asia</td>\n",
       "      <td>52429.000000</td>\n",
       "      <td>2023</td>\n",
       "      <td>49801.0</td>\n",
       "      <td>2021.0</td>\n",
       "      <td>49259.0</td>\n",
       "      <td>2021</td>\n",
       "      <td>2021</td>\n",
       "    </tr>\n",
       "    <tr>\n",
       "      <th>29</th>\n",
       "      <td>Macau</td>\n",
       "      <td>Asia</td>\n",
       "      <td>50571.000000</td>\n",
       "      <td>2023</td>\n",
       "      <td>43874.0</td>\n",
       "      <td>2021.0</td>\n",
       "      <td>43555.0</td>\n",
       "      <td>2021</td>\n",
       "      <td>2021</td>\n",
       "    </tr>\n",
       "    <tr>\n",
       "      <th>30</th>\n",
       "      <td>United Arab Emirates</td>\n",
       "      <td>Asia</td>\n",
       "      <td>49451.000000</td>\n",
       "      <td>2023</td>\n",
       "      <td>44316.0</td>\n",
       "      <td>2021.0</td>\n",
       "      <td>43295.0</td>\n",
       "      <td>2021</td>\n",
       "      <td>2021</td>\n",
       "    </tr>\n",
       "    <tr>\n",
       "      <th>31</th>\n",
       "      <td>British Virgin Islands</td>\n",
       "      <td>Americas</td>\n",
       "      <td>17377.736041</td>\n",
       "      <td>2022</td>\n",
       "      <td>NaN</td>\n",
       "      <td>NaN</td>\n",
       "      <td>49444.0</td>\n",
       "      <td>2021</td>\n",
       "      <td>2021</td>\n",
       "    </tr>\n",
       "    <tr>\n",
       "      <th>32</th>\n",
       "      <td>New Zealand</td>\n",
       "      <td>Oceania</td>\n",
       "      <td>48826.000000</td>\n",
       "      <td>2023</td>\n",
       "      <td>48781.0</td>\n",
       "      <td>2021.0</td>\n",
       "      <td>48824.0</td>\n",
       "      <td>2021</td>\n",
       "      <td>2021</td>\n",
       "    </tr>\n",
       "  </tbody>\n",
       "</table>\n",
       "</div>"
      ],
      "text/plain": [
       "         Country/Territory UN_Region  IMF_Estimate IMF_Year  \\\n",
       "27               Hong Kong      Asia  52429.000000     2023   \n",
       "29                   Macau      Asia  50571.000000     2023   \n",
       "30    United Arab Emirates      Asia  49451.000000     2023   \n",
       "31  British Virgin Islands  Americas  17377.736041     2022   \n",
       "32             New Zealand   Oceania  48826.000000     2023   \n",
       "\n",
       "    WorldBank_Estimate  WorldBank_Year  UN_Estimate UN_Year UN_Year_Clean  \n",
       "27             49801.0          2021.0      49259.0    2021          2021  \n",
       "29             43874.0          2021.0      43555.0    2021          2021  \n",
       "30             44316.0          2021.0      43295.0    2021          2021  \n",
       "31                 NaN             NaN      49444.0    2021          2021  \n",
       "32             48781.0          2021.0      48824.0    2021          2021  "
      ]
     },
     "execution_count": 113,
     "metadata": {},
     "output_type": "execute_result"
    }
   ],
   "source": [
    "df_filtered.head()"
   ]
  },
  {
   "cell_type": "code",
   "execution_count": 114,
   "id": "182221f6",
   "metadata": {},
   "outputs": [
    {
     "data": {
      "text/plain": [
       "(190, 9)"
      ]
     },
     "execution_count": 114,
     "metadata": {},
     "output_type": "execute_result"
    }
   ],
   "source": [
    "df_filtered.shape\n",
    "# there were 223 rows - 196 = 27 outliers dropped"
   ]
  },
  {
   "cell_type": "code",
   "execution_count": 115,
   "id": "e1c70288",
   "metadata": {},
   "outputs": [
    {
     "data": {
      "text/plain": [
       "10488.947368421053"
      ]
     },
     "execution_count": 115,
     "metadata": {},
     "output_type": "execute_result"
    }
   ],
   "source": [
    "df_filtered.UN_Estimate.mean()"
   ]
  },
  {
   "cell_type": "code",
   "execution_count": 116,
   "id": "97b2a6f8-8898-4184-acca-922ca7a303b2",
   "metadata": {},
   "outputs": [
    {
     "data": {
      "text/plain": [
       "18514.528037383177"
      ]
     },
     "execution_count": 116,
     "metadata": {},
     "output_type": "execute_result"
    }
   ],
   "source": [
    "df.UN_Estimate.mean()"
   ]
  },
  {
   "cell_type": "code",
   "execution_count": 117,
   "id": "1dbffbdf",
   "metadata": {},
   "outputs": [
    {
     "data": {
      "text/plain": [
       "10355.304347826086"
      ]
     },
     "execution_count": 117,
     "metadata": {},
     "output_type": "execute_result"
    }
   ],
   "source": [
    "#how can we create a table with following \n",
    "df_filtered.WorldBank_Estimate.mean()"
   ]
  },
  {
   "cell_type": "code",
   "execution_count": 118,
   "id": "17da2063-80e6-4530-b3f3-dd8af25402af",
   "metadata": {},
   "outputs": [
    {
     "data": {
      "text/plain": [
       "19540.805555555555"
      ]
     },
     "execution_count": 118,
     "metadata": {},
     "output_type": "execute_result"
    }
   ],
   "source": [
    "df.WorldBank_Estimate.mean()"
   ]
  },
  {
   "cell_type": "code",
   "execution_count": 119,
   "id": "6fee31d1",
   "metadata": {},
   "outputs": [
    {
     "data": {
      "text/plain": [
       "11636.771413304836"
      ]
     },
     "execution_count": 119,
     "metadata": {},
     "output_type": "execute_result"
    }
   ],
   "source": [
    "df_filtered.IMF_Estimate.mean()"
   ]
  },
  {
   "cell_type": "code",
   "execution_count": 120,
   "id": "7ed56b48-b1a1-4e70-b9cb-fecc961f2993",
   "metadata": {},
   "outputs": [
    {
     "data": {
      "text/plain": [
       "17377.736040609136"
      ]
     },
     "execution_count": 120,
     "metadata": {},
     "output_type": "execute_result"
    }
   ],
   "source": [
    "df.IMF_Estimate.mean()"
   ]
  },
  {
   "cell_type": "code",
   "execution_count": null,
   "id": "62c010d3",
   "metadata": {},
   "outputs": [],
   "source": []
  }
 ],
 "metadata": {
  "kernelspec": {
   "display_name": "Python 3 (ipykernel)",
   "language": "python",
   "name": "python3"
  },
  "language_info": {
   "codemirror_mode": {
    "name": "ipython",
    "version": 3
   },
   "file_extension": ".py",
   "mimetype": "text/x-python",
   "name": "python",
   "nbconvert_exporter": "python",
   "pygments_lexer": "ipython3",
   "version": "3.10.9"
  }
 },
 "nbformat": 4,
 "nbformat_minor": 5
}
