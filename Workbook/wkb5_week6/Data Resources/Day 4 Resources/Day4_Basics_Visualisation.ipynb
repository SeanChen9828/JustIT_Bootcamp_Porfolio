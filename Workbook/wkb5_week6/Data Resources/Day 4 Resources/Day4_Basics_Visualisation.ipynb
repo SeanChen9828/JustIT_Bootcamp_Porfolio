{
  "cells": [
    {
      "cell_type": "markdown",
      "id": "e583781f",
      "metadata": {
        "id": "e583781f"
      },
      "source": [
        "# **Introduction: Visualisation in Python**\n",
        "\n",
        "Data visualisation is an essential part of data analysis. It helps transform raw data into insightful charts and graphs that are easier to interpret and communicate. Python offers a variety of powerful libraries that allow users to create both static and interactive visualisations with ease and flexibility.\n",
        "\n",
        "In this notebook, we explore how to use Python's visualisation tools to gain insights from a real-world dataset that tracks the number of airline passengers over time. The goal is to help you understand how to visualise trends, comparisons, distributions, and relationships within the data using various types of charts.\n",
        "\n",
        "### 🧰 Libraries Used for Visualisation\n",
        "\n",
        "- **Matplotlib**  \n",
        "  A foundational plotting library in Python that enables the creation of high-quality static, animated, and interactive visualisations. It offers fine-grained control over all elements of a plot.\n",
        "\n",
        "- **Seaborn**  \n",
        "  Built on top of Matplotlib, Seaborn makes it easier to create visually appealing and informative statistical graphics. It integrates well with pandas DataFrames and provides convenient functions for common plot types.\n",
        "\n",
        "- **Plotly**  \n",
        "  A modern graphing library that enables interactive visualisations. It allows users to zoom, pan, and hover over charts, making it ideal for web applications and dashboards.\n",
        "\n",
        "- **NumPy**  \n",
        "  Although not a visualisation library, NumPy is a fundamental package for numerical operations. It supports array-based computation and is used for trendline analysis in scatter plots.\n",
        "\n",
        "Together, these libraries offer a complete toolkit for visualising data effectively in Python.\n",
        "\n",
        "\n",
        "## 📌 Learning Objectives\n",
        "\n",
        "By the end of this notebook, you will be able to:\n",
        "\n",
        "- Import and use `pandas`, `matplotlib`, `seaborn`, `numpy`, and `plotly` for data visualisation.\n",
        "- Create a variety of chart types such as bar charts, line plots, scatter plots, heatmaps, stacked charts, histograms, and interactive plots.\n",
        "- Generate summary statistics using pivot tables and visualise aggregated results effectively.\n"
      ]
    },
    {
      "cell_type": "markdown",
      "id": "ea890976",
      "metadata": {
        "id": "ea890976"
      },
      "source": [
        "## 📚 Introduction to Libraries\n",
        "\n",
        "### Matplotlib\n",
        "`matplotlib` is a foundational library for creating static, animated, and interactive visualisations in Python. It is highly customisable and forms the base of many other plotting libraries.\n",
        "\n",
        "### Seaborn\n",
        "`seaborn` is built on top of `matplotlib` and provides a high-level interface for drawing attractive and informative statistical graphics.\n",
        "\n",
        "### NumPy\n",
        "`numpy` is the core library for numerical computing in Python. It provides support for large, multi-dimensional arrays and matrices, along with a variety of mathematical functions to operate on these arrays.\n",
        "\n",
        "### Plotly\n",
        "`plotly` is a graphing library that enables interactive plots and dashboards. It is especially useful for creating web-ready and visually appealing charts.\n",
        "\n",
        "In this notebook, we use all of these libraries to explore and visualise the flights dataset in various ways."
      ]
    },
    {
      "cell_type": "markdown",
      "id": "f4ec124e",
      "metadata": {
        "id": "f4ec124e"
      },
      "source": [
        "# Visualising Flights Data\n",
        "This notebook replicates Day 4 visualisation types using the flights dataset."
      ]
    },
    {
      "cell_type": "markdown",
      "id": "42ce2117",
      "metadata": {
        "id": "42ce2117"
      },
      "source": [
        "# Importing the required **libraries**"
      ]
    },
    {
      "cell_type": "markdown",
      "source": [
        "### 📊 Explanation  \n",
        "This code block loads the **flights dataset**, formats the data for proper time-based analysis, and displays the first few rows. The goal is to ensure the dataset is structured correctly for visualisation and time series plotting.\n",
        "\n",
        "Let’s walk through each step:\n",
        "\n",
        "- `import pandas as pd`, `import matplotlib.pyplot as plt`, `import seaborn as sns`, `import numpy as np`  \n",
        "  These are essential Python libraries for data handling and visualisation:\n",
        "  - `pandas` is used for data manipulation and analysis.\n",
        "  - `matplotlib.pyplot` provides tools for plotting static charts.\n",
        "  - `seaborn` builds on Matplotlib to offer higher-level, attractive statistical plots.\n",
        "  - `numpy` is used for numerical operations, such as fitting trend lines.\n",
        "\n",
        "- `flights_df = pd.read_csv(\"flights.csv\")`  \n",
        "  Loads the dataset from a CSV file into a pandas DataFrame called `flights_df`. This dataset typically contains three columns: `year`, `month`, and `passengers`.\n",
        "\n",
        "- `flights_df['month'] = pd.Categorical(...)`  \n",
        "  Converts the `month` column into an **ordered categorical variable**:\n",
        "  - This is important because, by default, pandas may sort months **alphabetically**, not chronologically.\n",
        "  - The `categories` argument explicitly defines the correct calendar order from January to December.\n",
        "  - `ordered=True` ensures the DataFrame respects this logical sequence in sorting and plotting.\n",
        "\n",
        "- `flights_df.sort_values(['year', 'month'], inplace=True)`  \n",
        "  Sorts the DataFrame first by `year`, then by `month`, in ascending order. This is critical for any **time series visualisations**, ensuring that data points are in correct chronological sequence.\n",
        "\n",
        "- `flights_df.head()`  \n",
        "  Displays the **first five rows** of the DataFrame. This allows you to preview the cleaned and sorted data before proceeding with analysis or visualisation.\n",
        "\n",
        "### ✅ Why This Step Is Important:\n",
        "- It ensures the dataset is **clean, well-ordered, and ready for plotting**.\n",
        "- Prevents common issues like months appearing out of order in charts.\n",
        "- Gives you a chance to **verify the structure** of the data before building visualisations.\n",
        "\n",
        "This preparation step is a best practice before any time-based data analysis.\n"
      ],
      "metadata": {
        "id": "nMXhKDDrAray"
      },
      "id": "nMXhKDDrAray"
    },
    {
      "cell_type": "code",
      "execution_count": null,
      "id": "172ade20",
      "metadata": {
        "id": "172ade20"
      },
      "outputs": [],
      "source": [
        "import pandas as pd\n",
        "import matplotlib.pyplot as plt\n",
        "import seaborn as sns\n",
        "import numpy as np\n",
        "\n",
        "# Load dataset\n",
        "flights_df = pd.read_csv(\"flights.csv\")\n",
        "flights_df['month'] = pd.Categorical(flights_df['month'],\n",
        "                                     categories=['January', 'February', 'March', 'April', 'May', 'June',\n",
        "                                                 'July', 'August', 'September', 'October', 'November', 'December'],\n",
        "                                     ordered=True)\n",
        "flights_df.sort_values(['year', 'month'], inplace=True)\n",
        "flights_df.head()"
      ]
    },
    {
      "cell_type": "markdown",
      "id": "503cf7c7",
      "metadata": {
        "id": "503cf7c7"
      },
      "source": [
        "# Column **Chart**"
      ]
    },
    {
      "cell_type": "markdown",
      "id": "91076d10",
      "metadata": {
        "id": "91076d10"
      },
      "source": [
        "### 📊 Explanation\n",
        "\n",
        "The first bar chart shows the **total number of passengers per year**, created using pandas' built-in `.plot()` function.\n",
        "\n",
        "- A pivot table is used to **sum passengers by year**.\n",
        "- `plot(kind='bar')` generates a vertical bar chart without needing Matplotlib or Seaborn.\n",
        "- Axis labels and title are added directly as arguments.\n",
        "\n",
        "This quick and simple method is ideal for basic visual analysis using only pandas.\n",
        "\n",
        "\n",
        "The second bar chart displays the number of passengers for each month in **1949**, sorted in **descending order** by passenger count.\n",
        "\n",
        "- The dataset is filtered for the year 1949 and sorted from highest to lowest passenger values.\n",
        "- `tolist()` converts the `month` and `passengers` columns into standard Python lists for plotting.\n",
        "- `plt.bar()` creates the bar chart, with months on the x-axis and passenger numbers on the y-axis.\n",
        "- `plt.xticks(rotation=45)` improves readability of month labels.\n",
        "\n",
        "This chart helps identify which months had the highest air traffic in 1949 at a glance.\n"
      ]
    },
    {
      "cell_type": "code",
      "source": [
        "# Create a summary table: total passengers per year\n",
        "total_per_year = flights_df.pivot_table(values='passengers', index='year', aggfunc='sum', observed=False)\n",
        "\n",
        "# Plot the bar graph using pandas' built-in .plot() method\n",
        "total_per_year.plot(kind='bar', figsize=(10, 6), title=\"Total Passengers per Year\", legend=False, ylabel=\"Total Passengers\", xlabel=\"Year\")\n"
      ],
      "metadata": {
        "id": "oRrr87_yGTxK"
      },
      "id": "oRrr87_yGTxK",
      "execution_count": null,
      "outputs": []
    },
    {
      "cell_type": "code",
      "execution_count": null,
      "id": "470562a2",
      "metadata": {
        "id": "470562a2"
      },
      "outputs": [],
      "source": [
        "# Filter and sort the data\n",
        "data_1949 = flights_df[flights_df['year'] == 1949].sort_values(by='passengers', ascending=False)\n",
        "\n",
        "# Extract month names and passenger values\n",
        "months = data_1949['month'].tolist()\n",
        "passengers = data_1949['passengers'].tolist()\n",
        "\n",
        "# Plot\n",
        "plt.figure(figsize=(10, 5))\n",
        "plt.bar(months, passengers)\n",
        "plt.title('Monthly Passengers in 1949 (Sorted by Passenger Count)')\n",
        "plt.xlabel('Month')\n",
        "plt.ylabel('Number of Passengers')\n",
        "plt.xticks(rotation=45)\n",
        "plt.tight_layout()\n",
        "plt.show()\n"
      ]
    },
    {
      "cell_type": "markdown",
      "id": "8c5fe101",
      "metadata": {
        "id": "8c5fe101"
      },
      "source": [
        "# Bar **Chart**"
      ]
    },
    {
      "cell_type": "markdown",
      "id": "690bdc91",
      "metadata": {
        "id": "690bdc91"
      },
      "source": [
        "### 📊 Explanation  \n",
        "This horizontal bar chart visualises the number of passengers for each month in the year **1949**. It uses **Matplotlib Library**.\n",
        "\n",
        "Beak down of the code step by step:\n",
        "\n",
        "- `data_1949 = flights_df[flights_df['year'] == 1949].sort_values(by='passengers', ascending=True)`  \n",
        "  This line filters the dataset to include only records where the year is **1949**. The `.sort_values()` function arranges the months in **ascending order** of passenger count, so the **lowest passenger month appears at the top** and the highest at the bottom of the chart.\n",
        "\n",
        "- `months = data_1949['month'].tolist()` and `passengers = data_1949['passengers'].tolist()`  \n",
        "  These lines convert the Pandas Series into standard Python lists using the `.tolist()` method.  \n",
        "  - `months` becomes a list of month names in sorted order.\n",
        "  - `passengers` becomes a list of corresponding passenger counts.  \n",
        "  This conversion is necessary because Matplotlib's `plt.barh()` function expects standard Python sequences for the x and y values.\n",
        "\n",
        "- `plt.barh(months, passengers)`  \n",
        "  This command creates the **horizontal bar chart**:\n",
        "  - The months are plotted along the y-axis.\n",
        "  - The length of each bar represents the number of passengers for that month.\n",
        "  - Bars extend horizontally, making it easy to compare values at a glance.\n",
        "\n",
        "- `plt.title()`, `plt.xlabel()`, and `plt.ylabel()`  \n",
        "  These functions add a **chart title** and axis labels for clarity and context.\n",
        "\n",
        "- `plt.tight_layout()`  \n",
        "  Automatically adjusts spacing to prevent overlapping or cut-off elements.\n",
        "\n",
        "This type of chart is especially useful when:\n",
        "- You want to show a **ranking** of values (from smallest to largest or vice versa).\n",
        "- The **category labels** (months) are easier to read in a vertical list.\n",
        "- You are working with **unsummarised data** and want a straightforward comparison.\n"
      ]
    },
    {
      "cell_type": "code",
      "execution_count": null,
      "id": "630bf8d5",
      "metadata": {
        "id": "630bf8d5"
      },
      "outputs": [],
      "source": [
        "# Filter data for 1949\n",
        "data_1949 = flights_df[flights_df['year'] == 1949].sort_values(by='passengers', ascending=True)\n",
        "\n",
        "# Extract values\n",
        "months = data_1949['month'].tolist()\n",
        "passengers = data_1949['passengers'].tolist()\n",
        "\n",
        "# Plot\n",
        "plt.figure(figsize=(10, 5))\n",
        "plt.barh(months, passengers)\n",
        "plt.title('Monthly Passengers in 1949 (Horizontal Bar Chart)')\n",
        "plt.xlabel('Number of Passengers')\n",
        "plt.ylabel('Month')\n",
        "plt.tight_layout()\n",
        "plt.show()\n",
        "\n"
      ]
    },
    {
      "cell_type": "markdown",
      "id": "a1d836eb",
      "metadata": {
        "id": "a1d836eb"
      },
      "source": [
        "# Line **Chart**"
      ]
    },
    {
      "cell_type": "markdown",
      "id": "d920a821",
      "metadata": {
        "id": "d920a821"
      },
      "source": [
        "### 📊 Explanation  \n",
        "This line chart visualises how the number of airline passengers changes **month by month for each year** in the dataset. Each line represents a single year, helping us compare trends and seasonal patterns over time.\n",
        "\n",
        "Break down of the code step by step:\n",
        "\n",
        "- `for year in flights_df['year'].unique():`  \n",
        "  This loop goes through each unique year in the dataset and creates a separate line for each one.\n",
        "\n",
        "- `data_year = flights_df[flights_df['year'] == year]`  \n",
        "  This filters the dataset to get only the records for one specific year at a time.\n",
        "\n",
        "- `data_year = data_year.set_index('month').reindex(months_ordered).reset_index()`  \n",
        "  Since months are categorical and may appear out of order (e.g., April before February), this line ensures the months are re-ordered **chronologically**.  \n",
        "  - `months_ordered` is a manually defined list of all months from January to December.\n",
        "  - `reindex()` rearranges the rows based on this list.\n",
        "\n",
        "- `plt.plot(data_year['month'], data_year['passengers'], label=year)`  \n",
        "  This draws a line plot for each year using the sorted monthly data:\n",
        "  - The x-axis shows the months.\n",
        "  - The y-axis shows the number of passengers.\n",
        "  - `label=year` stores the year label to be used in the legend.\n",
        "\n",
        "- `plt.legend(title='Year')` adds a colour-coded legend to help distinguish lines by year.\n",
        "\n",
        "- `plt.xticks(rotation=45)` improves readability of month names by rotating them.\n",
        "\n",
        "This visualisation is particularly powerful for:\n",
        "- Spotting **recurring seasonal trends** (e.g., passenger peaks in summer months).\n",
        "- Comparing how traffic levels **changed across years**.\n",
        "- Identifying **anomalies or shifts** in travel patterns year-to-year.\n",
        "\n",
        "By using only Matplotlib, this approach provides full control over the formatting and layering of lines, making it a great learning exercise for beginners interested in custom plotting.\n"
      ]
    },
    {
      "cell_type": "code",
      "execution_count": null,
      "id": "2f09efbc",
      "metadata": {
        "id": "2f09efbc"
      },
      "outputs": [],
      "source": [
        "# Ensure month order is preserved\n",
        "months_ordered = ['January', 'February', 'March', 'April', 'May', 'June',\n",
        "                  'July', 'August', 'September', 'October', 'November', 'December']\n",
        "\n",
        "# Set up the plot\n",
        "plt.figure(figsize=(12, 6))\n",
        "\n",
        "# Plot a line for each year\n",
        "for year in flights_df['year'].unique():\n",
        "    data_year = flights_df[flights_df['year'] == year]\n",
        "    # Ensure correct month order\n",
        "    data_year = data_year.set_index('month').reindex(months_ordered).reset_index()\n",
        "    plt.plot(data_year['month'], data_year['passengers'], label=year)\n",
        "\n",
        "# Customise plot\n",
        "plt.title('Monthly Passengers Over the Years')\n",
        "plt.xlabel('Month')\n",
        "plt.ylabel('Number of Passengers')\n",
        "plt.xticks(rotation=45)\n",
        "plt.legend(title='Year', bbox_to_anchor=(1.05, 1), loc='upper left')\n",
        "plt.tight_layout()\n",
        "plt.show()\n"
      ]
    },
    {
      "cell_type": "markdown",
      "id": "7cfc8f0e",
      "metadata": {
        "id": "7cfc8f0e"
      },
      "source": [
        "# Scatter **Chart**"
      ]
    },
    {
      "cell_type": "markdown",
      "id": "3f8a412d",
      "metadata": {
        "id": "3f8a412d"
      },
      "source": [
        "### 📊 Explanation  \n",
        "This scatter plot displays **individual passenger records across different years**, with each point representing a unique month and its passenger count. The points are **colour-coded by month**, allowing us to visualise seasonal trends and yearly variations in one cohesive chart.\n",
        "\n",
        "Break down of the code step by step:\n",
        "\n",
        "- `months_ordered = [...]`  \n",
        "  A manually defined list of month names ensures a consistent order for both plotting and colouring.\n",
        "\n",
        "- `colors = cm.get_cmap('tab20', 12)`  \n",
        "  This line loads a colour map (`tab20`) with 12 distinct colours—one for each month. It mimics Seaborn’s `palette='tab20'` functionality.\n",
        "\n",
        "- The `for` loop:\n",
        "  ```python\n",
        "  for idx, month in enumerate(months_ordered):\n",
        "      month_data = flights_df[flights_df['month'] == month]\n",
        "      plt.scatter(month_data['year'], month_data['passengers'], color=colors(idx), label=month)\n"
      ]
    },
    {
      "cell_type": "code",
      "execution_count": null,
      "id": "2d37abe8",
      "metadata": {
        "id": "2d37abe8"
      },
      "outputs": [],
      "source": [
        "# Define colour map for months using tab20 (same as Seaborn's palette)\n",
        "import matplotlib.cm as cm\n",
        "import numpy as np\n",
        "\n",
        "# Get sorted unique months\n",
        "months_ordered = ['January', 'February', 'March', 'April', 'May', 'June',\n",
        "                  'July', 'August', 'September', 'October', 'November', 'December']\n",
        "\n",
        "# Assign a unique colour to each month\n",
        "colors = cm.get_cmap('tab20', 12)\n",
        "\n",
        "plt.figure(figsize=(10, 6))\n",
        "\n",
        "# Plot each month's data in a loop\n",
        "for idx, month in enumerate(months_ordered):\n",
        "    month_data = flights_df[flights_df['month'] == month]\n",
        "    plt.scatter(month_data['year'], month_data['passengers'],\n",
        "                color=colors(idx),\n",
        "                label=month)\n",
        "\n",
        "# Customise plot\n",
        "plt.title('Passengers Scatter Plot by Month')\n",
        "plt.xlabel('Year')\n",
        "plt.ylabel('Number of Passengers')\n",
        "plt.legend(title='Month', bbox_to_anchor=(1.05, 1), loc='upper left')\n",
        "plt.tight_layout()\n",
        "plt.show()\n"
      ]
    },
    {
      "cell_type": "markdown",
      "id": "013c3e67",
      "metadata": {
        "id": "013c3e67"
      },
      "source": [
        "### **Scatter Plot with a Trend Line** <br> np.polyfit() is a NumPy function used to find the best-fit polynomial equation for a given set of x and y data points."
      ]
    },
    {
      "cell_type": "markdown",
      "id": "564cc94f",
      "metadata": {
        "id": "564cc94f"
      },
      "source": [
        "### 📊 Explanation  \n",
        "This scatter plot displays the relationship between **year and the number of airline passengers**, enhanced with a **trend line** that helps reveal the overall pattern in the data. It combines **raw data points** with a **statistical regression line** using only NumPy and Matplotlib.\n",
        "\n",
        "Break down the key components of the code:\n",
        "\n",
        "- `x = flights_df['year']` and `y = flights_df['passengers']`  \n",
        "  These lines extract the relevant columns from the DataFrame to use as x and y coordinates for plotting.\n",
        "\n",
        "- `z = np.polyfit(x, y, 1)`  \n",
        "  This uses NumPy’s `polyfit()` function to calculate the **best-fit line** through the data:\n",
        "  - The third argument `1` specifies a first-degree polynomial (i.e., a straight line).\n",
        "  - The result `z` contains the slope and intercept of the fitted line.\n",
        "\n",
        "- `p = np.poly1d(z)`  \n",
        "  Converts the polynomial coefficients into a function `p(x)` that can be evaluated across all x-values to generate the y-values of the trend line.\n",
        "\n",
        "- `plt.scatter(x, y, label='Data Points', alpha=0.6)`  \n",
        "  Plots the individual data points, where:\n",
        "  - Each point represents a (year, passenger count) pair.\n",
        "  - `alpha=0.6` makes the markers slightly transparent for better visibility if overlapping.\n",
        "\n",
        "- `plt.plot(x, p(x), \"r--\", label='Trend Line')`  \n",
        "  This draws the red dashed trend line (`\"r--\"`) across the chart to indicate the **overall direction** of change (increase or decrease) in the data.\n",
        "\n",
        "- `plt.legend()`  \n",
        "  Adds a legend to differentiate between the data points and the regression line.\n",
        "\n",
        "This type of visualisation is very effective when:\n",
        "- You want to **show the actual data** but also **highlight the general trend**.\n",
        "- You're doing **exploratory data analysis** and need to understand whether the data is increasing, decreasing, or remaining stable over time.\n",
        "- You need to provide **both visual and statistical evidence** of growth or decline.\n",
        "\n",
        "In this case, the upward-sloping red dashed line clearly suggests that the number of airline passengers increased over time.\n"
      ]
    },
    {
      "cell_type": "code",
      "execution_count": null,
      "id": "533d08d6",
      "metadata": {
        "id": "533d08d6"
      },
      "outputs": [],
      "source": [
        "# Extract x and y values\n",
        "x = flights_df['year']\n",
        "y = flights_df['passengers']\n",
        "\n",
        "# Fit a linear trend line (1st-degree polynomial)\n",
        "z = np.polyfit(x, y, 1)\n",
        "p = np.poly1d(z)\n",
        "\n",
        "# Plot scatter and trend line\n",
        "plt.figure(figsize=(10, 6))\n",
        "plt.scatter(x, y, label='Data Points', alpha=0.6)\n",
        "plt.plot(x, p(x), \"r--\", label='Trend Line')\n",
        "\n",
        "# Add titles and labels\n",
        "plt.title(\"Trend of Passengers Over Time\")\n",
        "plt.xlabel(\"Year\")\n",
        "plt.ylabel(\"Number of Passengers\")\n",
        "plt.legend()\n",
        "plt.tight_layout()\n",
        "plt.show()\n"
      ]
    },
    {
      "cell_type": "markdown",
      "id": "c4a321ec",
      "metadata": {
        "id": "c4a321ec"
      },
      "source": [
        "# **Heat map**"
      ]
    },
    {
      "cell_type": "markdown",
      "id": "aee59111",
      "metadata": {
        "id": "aee59111"
      },
      "source": [
        "### 📊 Explanation  \n",
        "This heatmap provides a clear, colour-coded overview of how the number of airline passengers varied **by month and year**. It uses a **pivot table** to structure the data and `sns.heatmap()` from Seaborn to visually represent it, making it easy to spot **patterns, trends, and anomalies** over time.\n",
        "\n",
        "Each part of the code step by step:\n",
        "\n",
        "- `flights_df.pivot_table(values='passengers', index='month', columns='year', observed=False)`  \n",
        "  This line reshapes the original DataFrame into a format suitable for a heatmap:\n",
        "  - `values='passengers'` specifies the metric we want to summarise.\n",
        "  - `index='month'` places months as rows in the table.\n",
        "  - `columns='year'` places each year as a column.\n",
        "  - The resulting pivot table shows the **number of passengers for each month–year combination**.\n",
        "\n",
        "- `plt.figure(figsize=(12, 6))`  \n",
        "  Sets the figure size to ensure the heatmap is large enough to be readable, especially when there are many years in the dataset.\n",
        "\n",
        "- `sns.heatmap(pivot_table, annot=True, fmt=\".0f\", cmap=\"YlGnBu\")`  \n",
        "  This is the core visualisation function:\n",
        "  - `pivot_table` is the input data.\n",
        "  - `annot=True` displays the actual passenger numbers in each cell, making the chart more informative.\n",
        "  - `fmt=\".0f\"` formats those annotations as **whole numbers** (e.g., 140 instead of 140.0).\n",
        "  - `cmap=\"YlGnBu\"` sets the colour palette from light yellow to dark blue, where higher values typically appear darker.\n",
        "\n",
        "- `plt.title(\"Monthly Passengers Heatmap\")`  \n",
        "  Adds a meaningful title to the chart for quick context.\n",
        "\n",
        "- `plt.tight_layout()`  \n",
        "  Ensures that all elements, including labels and the title, are neatly arranged without overlapping or being cut off.\n",
        "\n",
        "### ✅ Why This Heatmap is Valuable:\n",
        "- It offers an immediate, visual way to understand **seasonal patterns** (e.g. consistently high summer travel).\n",
        "- You can quickly identify **outliers** or unusual spikes/dips (e.g. a single year where a month saw a drop in passengers).\n",
        "- It helps spot **year-on-year growth** or stagnation in specific months.\n",
        "\n",
        "This type of chart is particularly powerful when analysing **time series data across multiple categories**, and it's a favourite in exploratory data analysis and reporting dashboards.\n"
      ]
    },
    {
      "cell_type": "code",
      "execution_count": null,
      "id": "04df19bf",
      "metadata": {
        "id": "04df19bf"
      },
      "outputs": [],
      "source": [
        "pivot_table = flights_df.pivot_table(values='passengers', index='month', columns='year', observed=False)\n",
        "\n",
        "plt.figure(figsize=(12, 6))\n",
        "sns.heatmap(pivot_table, annot=True, fmt=\".0f\", cmap=\"YlGnBu\")\n",
        "plt.title(\"Monthly Passengers Heatmap\")\n",
        "plt.tight_layout()\n",
        "plt.show()"
      ]
    },
    {
      "cell_type": "markdown",
      "id": "023d73ac",
      "metadata": {
        "id": "023d73ac"
      },
      "source": [
        "# Stacked Column **Chart**"
      ]
    },
    {
      "cell_type": "markdown",
      "id": "778b868b",
      "metadata": {
        "id": "778b868b"
      },
      "source": [
        "### 📊 Explanation\n",
        "This stacked column chart shows passenger counts by month (on the x-axis) for each year.\n",
        "- Each coloured segment represents a different year.\n",
        "- `stacked=True` helps see both total and individual year contributions.\n",
        "It’s effective for monthly comparisons across multiple years."
      ]
    },
    {
      "cell_type": "code",
      "execution_count": null,
      "id": "82beec4c",
      "metadata": {
        "colab": {
          "base_uri": "https://localhost:8080/",
          "height": 663
        },
        "id": "82beec4c",
        "outputId": "577911cf-f281-439e-db68-5735f3b39c0e"
      },
      "outputs": [
        {
          "output_type": "stream",
          "name": "stderr",
          "text": [
            "<ipython-input-9-d0767ae7f6cd>:1: FutureWarning: The default value of observed=False is deprecated and will change to observed=True in a future version of pandas. Specify observed=False to silence this warning and retain the current behavior\n",
            "  pivot_table = flights_df.pivot_table(values='passengers', index='month', columns='year')\n"
          ]
        },
        {
          "output_type": "display_data",
          "data": {
            "text/plain": [
              "<Figure size 1200x600 with 1 Axes>"
            ],
            "image/png": "[encoded data removed]"
          },
          "metadata": {}
        }
      ],
      "source": [
        "pivot_table = flights_df.pivot_table(values='passengers', index='month', columns='year')\n",
        "\n",
        "pivot_table.plot(kind='bar', stacked=True, figsize=(12, 6))\n",
        "plt.title(\"Stacked Column Chart of Passengers by Year\")\n",
        "plt.ylabel(\"Passengers\")\n",
        "plt.xticks(rotation=45)\n",
        "plt.tight_layout()\n",
        "plt.show()"
      ]
    },
    {
      "cell_type": "markdown",
      "id": "28e1b47f",
      "metadata": {
        "id": "28e1b47f"
      },
      "source": [
        "# **Stacked Bar Chart**"
      ]
    },
    {
      "cell_type": "markdown",
      "id": "6e653955",
      "metadata": {
        "id": "6e653955"
      },
      "source": [
        "### 📊 Explanation\n",
        "This stacked bar chart uses the transposed pivot table to show months on the y-axis and passenger counts by year.\n",
        "- It's a horizontal version of the stacked column chart.\n",
        "- Each stacked segment represents a month.\n",
        "It’s useful for comparing annual patterns by month."
      ]
    },
    {
      "cell_type": "code",
      "execution_count": null,
      "id": "fcf3be9b",
      "metadata": {
        "id": "fcf3be9b"
      },
      "outputs": [],
      "source": [
        "pivot_table.T.plot(kind='barh', stacked=True, figsize=(12, 6))\n",
        "plt.title(\"Stacked Bar Chart of Passengers by Month\")\n",
        "plt.xlabel(\"Passengers\")\n",
        "plt.tight_layout()\n",
        "plt.show()"
      ]
    },
    {
      "cell_type": "markdown",
      "id": "6243043c",
      "metadata": {
        "id": "6243043c"
      },
      "source": [
        "# Stacked Area **Chart**"
      ]
    },
    {
      "cell_type": "markdown",
      "id": "fd93de37",
      "metadata": {
        "id": "fd93de37"
      },
      "source": [
        "### 📊 Explanation  \n",
        "This stacked area chart visualises how the number of passengers changes **over time**, with each coloured layer representing a different **month**. The chart uses **area stacking** to show both individual monthly contributions and their **cumulative effect** year by year.\n",
        "\n",
        "How the code works in detail:\n",
        "\n",
        "- `pivot_table.T`  \n",
        "  The pivot table is **transposed** using `.T` to switch rows and columns:\n",
        "  - Initially, months were rows and years were columns.\n",
        "  - After transposition, **years become the x-axis** (columns) and **months become the individual stacked layers** (rows).\n",
        "  - This format is necessary for creating an area chart where the **x-axis is time (years)**.\n",
        "\n",
        "- `.plot(kind='area', stacked=True, figsize=(12, 6), colormap='tab20')`  \n",
        "  This line uses the pandas `.plot()` wrapper for Matplotlib:\n",
        "  - `kind='area'` creates an area chart.\n",
        "  - `stacked=True` means each month's area is **layered on top** of the previous ones, rather than overlapping.\n",
        "  - `figsize=(12, 6)` sets the size of the chart.\n",
        "  - `colormap='tab20'` applies a colourful palette, giving each month a distinct and consistent colour.\n",
        "\n",
        "- `plt.title(\"Stacked Area Chart of Passengers Over Years\")`  \n",
        "  Adds a clear and descriptive title to the plot.\n",
        "\n",
        "- `plt.ylabel(\"Passengers\")`  \n",
        "  Labels the y-axis to indicate that it represents passenger numbers.\n",
        "\n",
        "- `plt.tight_layout()`  \n",
        "  Automatically adjusts padding and spacing so that the title, labels, and axes do not overlap or get cut off.\n"
      ]
    },
    {
      "cell_type": "code",
      "execution_count": null,
      "id": "5ea24f3e",
      "metadata": {
        "id": "5ea24f3e"
      },
      "outputs": [],
      "source": [
        "pivot_table.T.plot(kind='area', stacked=True, figsize=(12, 6), colormap='tab20')\n",
        "plt.title(\"Stacked Area Chart of Passengers Over Years\")\n",
        "plt.ylabel(\"Passengers\")\n",
        "plt.tight_layout()\n",
        "plt.show()"
      ]
    },
    {
      "cell_type": "markdown",
      "id": "9acb7445",
      "metadata": {
        "id": "9acb7445"
      },
      "source": [
        "# Histogram **Visualisation**"
      ]
    },
    {
      "cell_type": "markdown",
      "id": "30968a9a",
      "metadata": {
        "id": "30968a9a"
      },
      "source": [
        "### 📊 Explanation  \n",
        "This histogram provides a visual representation of the **distribution of passenger counts** in the dataset. It helps answer questions like:  \n",
        "- Which passenger counts occurred most frequently?\n",
        "- Is the data concentrated in a specific range?\n",
        "- Is the distribution symmetrical, skewed, or multimodal?\n",
        "\n",
        "Break down the key parts of the code:\n",
        "\n",
        "- `sns.histplot(flights_df['passengers'], bins=20, kde=True)`  \n",
        "  This is the main line generating the histogram:\n",
        "  - `flights_df['passengers']` is the numeric data being analysed—specifically, the number of passengers per month for each month-year combination.\n",
        "  - `bins=20` splits the data into 20 equal-width intervals (or \"bins\"). Each bar in the histogram represents the frequency (count) of data points that fall within a given range. Increasing the number of bins makes the histogram more granular; decreasing it makes the shape smoother.\n",
        "  - `kde=True` overlays a **Kernel Density Estimate (KDE)** curve—a smooth line that estimates the probability density function of the data. This helps you understand the **underlying shape of the distribution** without being restricted to fixed-width bins.\n",
        "\n",
        "- `plt.figure(figsize=(10, 6))`  \n",
        "  Sets the size of the figure to ensure the plot is large and readable.\n",
        "\n",
        "- `plt.title(\"Histogram of Passengers\")` and `plt.xlabel(\"Passengers\")`  \n",
        "  Add a descriptive title and label the x-axis, which represents the passenger count range.\n",
        "\n",
        "- `plt.tight_layout()`  \n",
        "  Ensures that all chart elements (title, labels, axis) are properly displayed without overlap or cutoff.\n"
      ]
    },
    {
      "cell_type": "code",
      "execution_count": null,
      "id": "42947638",
      "metadata": {
        "id": "42947638"
      },
      "outputs": [],
      "source": [
        "plt.figure(figsize=(10, 6))\n",
        "sns.histplot(flights_df['passengers'], bins=20, kde=True)\n",
        "plt.title(\"Histogram of Passengers\")\n",
        "plt.xlabel(\"Passengers\")\n",
        "plt.tight_layout()\n",
        "plt.show()"
      ]
    },
    {
      "cell_type": "markdown",
      "id": "5216434e",
      "metadata": {
        "id": "5216434e"
      },
      "source": [
        "### **Creating a Simple Count Plot** <br> A Count Plot is a type of bar plot that shows the frequency of categorical values in a dataset. It counts how many times each category appears and displays the counts as bars."
      ]
    },
    {
      "cell_type": "markdown",
      "id": "54e55331",
      "metadata": {
        "id": "54e55331"
      },
      "source": [
        "### 📊 Explanation\n",
        "The count plot shows how many records exist for each month using `sns.countplot()`.\n",
        "- It’s a quick way to verify data uniformity or imbalance.\n",
        "- Each bar represents the number of records for that month.\n",
        "Useful for basic frequency checks in categorical data."
      ]
    },
    {
      "cell_type": "code",
      "execution_count": null,
      "id": "cbf41b2b",
      "metadata": {
        "colab": {
          "base_uri": "https://localhost:8080/",
          "height": 607
        },
        "id": "cbf41b2b",
        "outputId": "c2f05cd3-52f8-4883-f922-c078b17f8162"
      },
      "outputs": [
        {
          "output_type": "display_data",
          "data": {
            "text/plain": [
              "<Figure size 1000x600 with 1 Axes>"
            ],
            "image/png": "[encoded data removed]"
          },
          "metadata": {}
        }
      ],
      "source": [
        "plt.figure(figsize=(10, 6))\n",
        "sns.countplot(data=flights_df, x='month', order=flights_df['month'].cat.categories)\n",
        "plt.title(\"Count of Records per Month\")\n",
        "plt.xticks(rotation=45)\n",
        "plt.tight_layout()\n",
        "plt.show()"
      ]
    },
    {
      "cell_type": "markdown",
      "id": "ccacfe80",
      "metadata": {
        "id": "ccacfe80"
      },
      "source": [
        "# Plotly **Demo**"
      ]
    },
    {
      "cell_type": "markdown",
      "id": "01de5be5",
      "metadata": {
        "id": "01de5be5"
      },
      "source": [
        "### 📊 Explanation\n",
        "This interactive line plot uses `plotly.express.line()` to visualise passengers over time by month and year.\n",
        "- Interactive features include hover, zoom, and pan.\n",
        "- Ideal for exploratory visualisation in dashboards or web apps."
      ]
    },
    {
      "cell_type": "code",
      "execution_count": null,
      "id": "cc21e6be",
      "metadata": {
        "id": "cc21e6be"
      },
      "outputs": [],
      "source": [
        "import plotly.express as px\n",
        "\n",
        "fig = px.line(flights_df, x='month', y='passengers', color='year', title='Monthly Passengers Using Plotly')\n",
        "fig.show()"
      ]
    },
    {
      "cell_type": "markdown",
      "id": "e94ce6d8",
      "metadata": {
        "id": "e94ce6d8"
      },
      "source": [
        "# Average Passengers Per Month"
      ]
    },
    {
      "cell_type": "markdown",
      "id": "e49eba24",
      "metadata": {
        "id": "e49eba24"
      },
      "source": [
        "### 📊 Explanation  \n",
        "This line chart displays the **average number of passengers for each month** across all years in the dataset. It provides a clear view of which months consistently experience higher or lower air traffic, making it useful for identifying **seasonal travel patterns**.\n",
        "\n",
        "Walking through the code and its purpose:\n",
        "\n",
        "- `flights_df.pivot_table(values='passengers', index='month', aggfunc='mean', observed=False)`  \n",
        "  This creates a **pivot table** that:\n",
        "  - Uses `'passengers'` as the value to be aggregated.\n",
        "  - Uses `'month'` as the row index, so each row represents a month.\n",
        "  - Uses `aggfunc='mean'` to compute the **average number of passengers per month** across all years.\n",
        "  - `observed=False` ensures all months are retained, even if categorical.\n",
        "\n",
        "- `avg_per_month.reindex([...])`  \n",
        "  Since months may appear in alphabetical order by default, this line **reorders the index** so that months appear in **chronological order** from January to December. This is essential for correct interpretation of trends over the calendar year.\n",
        "\n",
        "- `avg_per_month.plot(kind='line', legend=False, marker='o')`  \n",
        "  - Plots the monthly averages as a line chart.\n",
        "  - `marker='o'` adds a circular marker at each data point to enhance readability.\n",
        "  - `legend=False` hides the legend since there's only one line being plotted.\n",
        "\n",
        "- `plt.title(\"Average Number of Passengers per Month\")` and `plt.ylabel(\"Average Passengers\")`  \n",
        "  These add a clear title and label to the y-axis to indicate what the chart is showing.\n",
        "\n",
        "- `plt.xticks(rotation=45)`  \n",
        "  Rotates month labels for better readability, especially on smaller screens or prints.\n",
        "\n",
        "- `plt.tight_layout()`  \n",
        "  Automatically adjusts the layout to prevent any overlap between elements."
      ]
    },
    {
      "cell_type": "code",
      "execution_count": null,
      "id": "69ca5be0",
      "metadata": {
        "id": "69ca5be0"
      },
      "outputs": [],
      "source": [
        "avg_per_month = flights_df.pivot_table(values='passengers', index='month', aggfunc='mean', observed=False)\n",
        "avg_per_month = avg_per_month.reindex(['January', 'February', 'March', 'April', 'May', 'June',\n",
        "                                       'July', 'August', 'September', 'October', 'November', 'December'])\n",
        "\n",
        "plt.figure(figsize=(10, 5))\n",
        "avg_per_month.plot(kind='line', legend=False, marker='o')\n",
        "plt.title(\"Average Number of Passengers per Month\")\n",
        "plt.ylabel(\"Average Passengers\")\n",
        "plt.xticks(rotation=45)\n",
        "plt.tight_layout()\n",
        "plt.show()"
      ]
    },
    {
      "cell_type": "markdown",
      "id": "bb173c48",
      "metadata": {
        "id": "bb173c48"
      },
      "source": [
        "# Total Passengers Per Year"
      ]
    },
    {
      "cell_type": "markdown",
      "id": "a4b1ba38",
      "metadata": {
        "id": "a4b1ba38"
      },
      "source": [
        "### 📊 Explanation  \n",
        "This bar chart visualises the **total number of airline passengers per year** by aggregating the data using a pivot table. It allows you to observe trends over time and compare overall passenger volume across different years.\n",
        "\n",
        "Break down how the code works:\n",
        "\n",
        "- `total_per_year = flights_df.pivot_table(values='passengers', index='year', aggfunc='sum', observed=False)`  \n",
        "  This line creates a pivot table where:\n",
        "  - Each row represents a year.\n",
        "  - The `passengers` values are **summed** for each year using `aggfunc='sum'`.\n",
        "  - The result shows the **total number of passengers in each year** across all months.\n",
        "\n",
        "- `total_per_year.plot(kind='line', legend=False, marker='o')`  \n",
        "  This line generates a **line chart** (even though it's titled \"bar chart\" in the description—it's technically a line chart here):\n",
        "  - `kind='line'` tells pandas to plot a line graph.\n",
        "  - `legend=False` hides the legend, as it's not needed for a single line.\n",
        "  - `marker='o'` places a circular marker on each year’s data point, making individual values easier to read and compare.\n",
        "\n",
        "- `plt.title(\"Total Number of Passengers per Year\")` and `plt.ylabel(\"Total Passengers\")`  \n",
        "  These add a meaningful title and a y-axis label to describe the metric being shown.\n",
        "\n",
        "- `plt.xticks(rotation=45)` ensures that year labels are rotated for readability.\n",
        "\n",
        "- `plt.tight_layout()` automatically adjusts spacing to ensure all labels and titles are visible and not overlapping."
      ]
    },
    {
      "cell_type": "code",
      "execution_count": null,
      "id": "af7220c1",
      "metadata": {
        "id": "af7220c1"
      },
      "outputs": [],
      "source": [
        "# Calculate total passengers per year\n",
        "total_per_year = flights_df.pivot_table(values='passengers', index='year', aggfunc='sum', observed=False)\n",
        "\n",
        "# Plot the line chart\n",
        "plt.figure(figsize=(10, 5))\n",
        "total_per_year.plot(kind='line', legend=False, marker='o')\n",
        "plt.title(\"Total Number of Passengers per Year\")\n",
        "plt.xlabel(\"Year\")\n",
        "plt.ylabel(\"Total Passengers\")\n",
        "plt.xticks(rotation=45)\n",
        "plt.tight_layout()\n",
        "plt.show()\n"
      ]
    },
    {
      "cell_type": "markdown",
      "id": "4d9beac1",
      "metadata": {
        "id": "4d9beac1"
      },
      "source": [
        "# Month with Maximum Passengers Each Year"
      ]
    },
    {
      "cell_type": "markdown",
      "id": "69127ea5",
      "metadata": {
        "id": "69127ea5"
      },
      "source": [
        "### 📊 Explanation  \n",
        "This grouped bar chart highlights the **month with the highest number of passengers** for **each year** in the dataset. It is a powerful visual for spotting **peak travel periods** and observing how those peaks shift (or remain consistent) over time.\n",
        "\n",
        "Break down the logic behind the code:\n",
        "\n",
        "- `flights_df.groupby('year')['passengers'].idxmax()`  \n",
        "  This line identifies the row index (within each year group) that corresponds to the **maximum passenger count**:\n",
        "  - `groupby('year')` groups the data by year.\n",
        "  - `['passengers'].idxmax()` returns the index of the row that holds the highest value for the `passengers` column in each group.\n",
        "  - The result is one row per year, pointing to the month with the most passengers that year.\n",
        "\n",
        "- `flights_df.loc[...]`  \n",
        "  This extracts the **actual rows** corresponding to the peak passenger months for each year using the indices returned by `idxmax()`.\n",
        "\n",
        "- `sns.barplot(data=max_months, x='year', y='passengers', hue='month')`  \n",
        "  This creates a **grouped bar chart** using Seaborn:\n",
        "  - `x='year'` places each year on the x-axis.\n",
        "  - `y='passengers'` sets the height of each bar to the number of passengers.\n",
        "  - `hue='month'` uses colour to differentiate which **month** had the maximum passengers that year.\n",
        "  - This helps you quickly see whether certain months (e.g., July or August) are consistently peak months across different years.\n",
        "\n",
        "- `plt.title(...)` adds a meaningful chart title.\n",
        "- `plt.tight_layout()` ensures proper spacing between chart elements."
      ]
    },
    {
      "cell_type": "code",
      "execution_count": null,
      "id": "ff5da05c",
      "metadata": {
        "id": "ff5da05c"
      },
      "outputs": [],
      "source": [
        "max_months = flights_df.loc[flights_df.groupby('year')['passengers'].idxmax()]\n",
        "\n",
        "plt.figure(figsize=(10, 5))\n",
        "sns.barplot(data=max_months, x='year', y='passengers', hue='month')\n",
        "plt.title(\"Month with Maximum Passengers for Each Year\")\n",
        "plt.tight_layout()\n",
        "plt.show()"
      ]
    },
    {
      "cell_type": "markdown",
      "id": "34756453",
      "metadata": {
        "id": "34756453"
      },
      "source": [
        "# Passenger Range (Max - Min) Per Year"
      ]
    },
    {
      "cell_type": "markdown",
      "id": "b792133c",
      "metadata": {
        "id": "b792133c"
      },
      "source": [
        "### 📊 Explanation  \n",
        "This line chart visualises the **range of monthly passenger counts for each year**, calculated as the difference between the **maximum** and **minimum** values within each year. It provides a measure of **variability**, helping to understand how much passenger numbers fluctuate month-to-month within each year.\n",
        "\n",
        "Break down the code:\n",
        "\n",
        "- `flights_df.groupby('year')['passengers'].agg(lambda x: x.max() - x.min())`  \n",
        "  This line calculates the **range** for each year:\n",
        "  - `groupby('year')` groups the data by year.\n",
        "  - For each group (i.e., year), the lambda function:\n",
        "    - Takes the **maximum** monthly passenger count (`x.max()`)\n",
        "    - Subtracts the **minimum** monthly passenger count (`x.min()`)\n",
        "    - The result is the **range** (i.e., the spread) of passenger counts within that year.\n",
        "  - This range reflects how much variation there was in monthly traffic throughout each year.\n",
        "\n",
        "- `range_by_year.plot(kind='line', marker='o')`  \n",
        "  Plots the resulting range values as a line chart:\n",
        "  - `kind='line'` creates the line plot.\n",
        "  - `marker='o'` places a circular marker on each data point for clarity.\n",
        "\n",
        "- `plt.title(\"Range of Passengers (Max - Min) per Year\")` and `plt.ylabel(\"Passenger Range\")`  \n",
        "  Provide clear context for the chart with a descriptive title and axis label.\n",
        "\n",
        "- `plt.xticks(rotation=45)`  \n",
        "  Rotates the year labels to improve readability.\n",
        "\n",
        "- `plt.tight_layout()` ensures a clean layout without overlapping elements."
      ]
    },
    {
      "cell_type": "code",
      "execution_count": null,
      "id": "fce82c41",
      "metadata": {
        "id": "fce82c41"
      },
      "outputs": [],
      "source": [
        "range_by_year = flights_df.groupby('year')['passengers'].agg(lambda x: x.max() - x.min())\n",
        "\n",
        "plt.figure(figsize=(10, 5))\n",
        "range_by_year.plot(kind='line', marker='o')\n",
        "plt.title(\"Range of Passengers (Max - Min) per Year\")\n",
        "plt.ylabel(\"Passenger Range\")\n",
        "plt.xticks(rotation=45)\n",
        "plt.tight_layout()\n",
        "plt.show()"
      ]
    }
  ],
  "metadata": {
    "colab": {
      "provenance": []
    },
    "kernelspec": {
      "display_name": "Python 3",
      "name": "python3"
    },
    "language_info": {
      "name": "python"
    }
  },
  "nbformat": 4,
  "nbformat_minor": 5
}